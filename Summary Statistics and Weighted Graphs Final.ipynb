{
 "cells": [
  {
   "cell_type": "code",
   "execution_count": 11,
   "metadata": {},
   "outputs": [
    {
     "name": "stderr",
     "output_type": "stream",
     "text": [
      "Warning message:\n",
      "\"package 'fixest' is in use and will not be installed\"\n",
      "Warning message:\n",
      "\"package 'estimatr' is in use and will not be installed\"\n",
      "Warning message:\n",
      "\"package 'readxl' is in use and will not be installed\"\n"
     ]
    }
   ],
   "source": [
    "#Installing packages\n",
    "library(data.table)\n",
    "library(tidyverse)\n",
    "library(stringi)\n",
    "library(tidyr)\n",
    "install.packages(\"fixest\")\n",
    "library(fixest)\n",
    "install.packages(\"estimatr\")\n",
    "library(estimatr)\n",
    "install.packages(\"readxl\")\n",
    "library(readxl)\n",
    "library(zoo)\n",
    "library(ggplot2)"
   ]
  },
  {
   "cell_type": "code",
   "execution_count": 171,
   "metadata": {},
   "outputs": [],
   "source": [
    "final <- read.csv(\"C:\\\\Users\\\\joyse\\\\Desktop\\\\14.33\\\\Data\\\\final_merge_withoutB_controls.csv\")\n"
   ]
  },
  {
   "cell_type": "code",
   "execution_count": 172,
   "metadata": {},
   "outputs": [
    {
     "data": {
      "text/html": [
       "<style>\n",
       ".list-inline {list-style: none; margin:0; padding: 0}\n",
       ".list-inline>li {display: inline-block}\n",
       ".list-inline>li:not(:last-child)::after {content: \"\\00b7\"; padding: 0 .5ex}\n",
       "</style>\n",
       "<ol class=list-inline><li>'X'</li><li>'STATE'</li><li>'Year'</li><li>'TotPop_18to24'</li><li>'TotPop_25to34'</li><li>'TotPop_35to44'</li><li>'TotPop_45to64'</li><li>'TotPop_65'</li><li>'TotCPop_18to24'</li><li>'TotCPop_25to34'</li><li>'TotCPop_35to44'</li><li>'TotCPop_45to64'</li><li>'TotCPop_65'</li><li>'TotReg_18to24'</li><li>'TotReg_25to34'</li><li>'TotReg_35to44'</li><li>'TotReg_45to64'</li><li>'TotReg_65'</li><li>'PRegT_18to24'</li><li>'PRegT_25to34'</li><li>'PRegT_35to44'</li><li>'PRegT_45to64'</li><li>'PRegT_65'</li><li>'PRegC_18to24'</li><li>'PRegC_25to34'</li><li>'PRegC_35to44'</li><li>'PRegC_45to64'</li><li>'PRegC_65'</li><li>'TotVote_18to24'</li><li>'TotVote_25to34'</li><li>'TotVote_35to44'</li><li>'TotVote_45to64'</li><li>'TotVote_65'</li><li>'PVoteT_18to24'</li><li>'PVoteT_25to34'</li><li>'PVoteT_35to44'</li><li>'PVoteT_45to64'</li><li>'PVoteT_65'</li><li>'PVoteC_18to24'</li><li>'PVoteC_25to34'</li><li>'PVoteC_35to44'</li><li>'PVoteC_45to64'</li><li>'PVoteC_65'</li><li>'TotPop_Total'</li><li>'TotPop_Male'</li><li>'TotPop_Female'</li><li>'TotPop_Whitealone'</li><li>'TotPop_WhitenonHispanicalone'</li><li>'TotPop_Blackalone'</li><li>'TotPop_Asianalone'</li><li>'TotPop_Hispanicofanyrace'</li><li>'TotPop_Whitealoneorincombination'</li><li>'TotPop_Blackaloneorincombination'</li><li>'TotPop_Asianaloneorincombination'</li><li>'TotCPop_Total'</li><li>'TotCPop_Male'</li><li>'TotCPop_Female'</li><li>'TotCPop_Whitealone'</li><li>'TotCPop_WhitenonHispanicalone'</li><li>'TotCPop_Blackalone'</li><li>'TotCPop_Asianalone'</li><li>'TotCPop_Hispanicofanyrace'</li><li>'TotCPop_Whitealoneorincombination'</li><li>'TotCPop_Blackaloneorincombination'</li><li>'TotCPop_Asianaloneorincombination'</li><li>'TotReg_Total'</li><li>'TotReg_Male'</li><li>'TotReg_Female'</li><li>'TotReg_Whitealone'</li><li>'TotReg_WhitenonHispanicalone'</li><li>'TotReg_Blackalone'</li><li>'TotReg_Asianalone'</li><li>'TotReg_Hispanicofanyrace'</li><li>'TotReg_Whitealoneorincombination'</li><li>'TotReg_Blackaloneorincombination'</li><li>'TotReg_Asianaloneorincombination'</li><li>'PRegT_Total'</li><li>'PRegT_Male'</li><li>'PRegT_Female'</li><li>'PRegT_Whitealone'</li><li>'PRegT_WhitenonHispanicalone'</li><li>'PRegT_Blackalone'</li><li>'PRegT_Asianalone'</li><li>'PRegT_Hispanicofanyrace'</li><li>'PRegT_Whitealoneorincombination'</li><li>'PRegT_Blackaloneorincombination'</li><li>'PRegT_Asianaloneorincombination'</li><li>'PRegC_Total'</li><li>'PRegC_Male'</li><li>'PRegC_Female'</li><li>'PRegC_Whitealone'</li><li>'PRegC_WhitenonHispanicalone'</li><li>'PRegC_Blackalone'</li><li>'PRegC_Asianalone'</li><li>'PRegC_Hispanicofanyrace'</li><li>'PRegC_Whitealoneorincombination'</li><li>'PRegC_Blackaloneorincombination'</li><li>'PRegC_Asianaloneorincombination'</li><li>'TotVote_Total'</li><li>'TotVote_Male'</li><li>'TotVote_Female'</li><li>'TotVote_Whitealone'</li><li>'TotVote_WhitenonHispanicalone'</li><li>'TotVote_Blackalone'</li><li>'TotVote_Asianalone'</li><li>'TotVote_Hispanicofanyrace'</li><li>'TotVote_Whitealoneorincombination'</li><li>'TotVote_Blackaloneorincombination'</li><li>'TotVote_Asianaloneorincombination'</li><li>'PVoteT_Total'</li><li>'PVoteT_Male'</li><li>'PVoteT_Female'</li><li>'PVoteT_Whitealone'</li><li>'PVoteT_WhitenonHispanicalone'</li><li>'PVoteT_Blackalone'</li><li>'PVoteT_Asianalone'</li><li>'PVoteT_Hispanicofanyrace'</li><li>'PVoteT_Whitealoneorincombination'</li><li>'PVoteT_Blackaloneorincombination'</li><li>'PVoteT_Asianaloneorincombination'</li><li>'PVoteC_Total'</li><li>'PVoteC_Male'</li><li>'PVoteC_Female'</li><li>'PVoteC_Whitealone'</li><li>'PVoteC_WhitenonHispanicalone'</li><li>'PVoteC_Blackalone'</li><li>'PVoteC_Asianalone'</li><li>'PVoteC_Hispanicofanyrace'</li><li>'PVoteC_Whitealoneorincombination'</li><li>'PVoteC_Blackaloneorincombination'</li><li>'PVoteC_Asianaloneorincombination'</li><li>'TotPop_25to44'</li><li>'TotPop_65to74'</li><li>'TotPop_75'</li><li>'TotCPop_25to44'</li><li>'TotCPop_65to74'</li><li>'TotCPop_75'</li><li>'TotReg_25to44'</li><li>'TotReg_65to74'</li><li>'TotReg_75'</li><li>'PRegT_25to44'</li><li>'PRegT_65to74'</li><li>'PRegT_75'</li><li>'PRegC_25to44'</li><li>'PRegC_65to74'</li><li>'PRegC_75'</li><li>'TotVote_25to44'</li><li>'TotVote_65to74'</li><li>'TotVote_75'</li><li>'PVoteT_25to44'</li><li>'PVoteT_65to74'</li><li>'PVoteT_75'</li><li>'PVoteC_25to44'</li><li>'PVoteC_65to74'</li><li>'PVoteC_75'</li><li>'TotPop_45to54'</li><li>'TotPop_55to64'</li><li>'TotPop_18to44'</li><li>'TotCPop_45to54'</li><li>'TotCPop_55to64'</li><li>'TotCPop_18to44'</li><li>'TotReg_45to54'</li><li>'TotReg_55to64'</li><li>'TotReg_18to44'</li><li>'PRegT_45to54'</li><li>'PRegT_55to64'</li><li>'PRegT_18to44'</li><li>'PRegC_45to54'</li><li>'PRegC_55to64'</li><li>'PRegC_18to44'</li><li>'TotVote_45to54'</li><li>'TotVote_55to64'</li><li>'TotVote_18to44'</li><li>'PVoteT_45to54'</li><li>'PVoteT_55to64'</li><li>'PVoteT_18to44'</li><li>'PVoteC_45to54'</li><li>'PVoteC_55to64'</li><li>'PVoteC_18to44'</li><li>'TotPop_WhitenonHispanicaloneorincombination'</li><li>'TotPop_NonHispanicWhite'</li><li>'TotCPop_WhitenonHispanicaloneorincombination'</li><li>'TotCPop_NonHispanicWhite'</li><li>'TotReg_WhitenonHispanicaloneorincombination'</li><li>'TotReg_NonHispanicWhite'</li><li>'PRegT_WhitenonHispanicaloneorincombination'</li><li>'PRegT_NonHispanicWhite'</li><li>'PRegC_WhitenonHispanicaloneorincombination'</li><li>'PRegC_NonHispanicWhite'</li><li>'TotVote_WhitenonHispanicaloneorincombination'</li><li>'TotVote_NonHispanicWhite'</li><li>'PVoteT_WhitenonHispanicaloneorincombination'</li><li>'PVoteT_NonHispanicWhite'</li><li>'PVoteC_WhitenonHispanicaloneorincombination'</li><li>'PVoteC_NonHispanicWhite'</li><li>'TotPop_NonHispanicBlack'</li><li>'TotCPop_NonHispanicBlack'</li><li>'TotReg_NonHispanicBlack'</li><li>'PRegT_NonHispanicBlack'</li><li>'PRegC_NonHispanicBlack'</li><li>'TotVote_NonHispanicBlack'</li><li>'PVoteT_NonHispanicBlack'</li><li>'PVoteC_NonHispanicBlack'</li><li>'Dif_WhiteBlack'</li><li>'Dif_45to64_18to24'</li><li>'Treatment'</li><li>'Semi_treatment'</li><li>'pre_2013'</li><li>'post_2013'</li><li>'is_2000'</li><li>'is_2002'</li><li>'is_2004'</li><li>'is_2006'</li><li>'is_2008'</li><li>'is_2010'</li><li>'is_2012'</li><li>'is_2014'</li><li>'is_2016'</li><li>'is_2018'</li><li>'is_2020'</li><li>'pres_year'</li><li>'senate'</li><li>'swing_2000'</li><li>'swing_2004'</li><li>'swing_2008'</li><li>'swing_2012'</li><li>'swing_ever'</li><li>'TotCPop_18to24_2012'</li><li>'TotCPop_Blackaloneorincombination_2012'</li><li>'TotCPop_Total_2012'</li><li>'TotPop_Total_2012'</li><li>'TotCPop_Whitealoneorincombination_2012'</li><li>'TotCPop_45to64_2012'</li><li>'Percent_18to24_CompleteHS_2000'</li><li>'Percent_18to24_CompleteHS_2006to2008'</li><li>'Percent_25andOver_LessThanHS_2000'</li><li>'Percent_25andOver_HSorMore_2000'</li><li>'Percent_25andOver_BachelororMore_2000'</li><li>'Percent_25andOver_JustBachelor_2000'</li><li>'Percent_25andOver_JustGradDegree_2000'</li><li>'Percent_25andOver_LessThanHS_2006to2008'</li><li>'Percent_25andOver_HSorMore_2006to2008'</li><li>'Percent_25andOver_BachelororMore_2006to2008'</li><li>'Percent_25andOver_JustBachelor_2006to2008'</li><li>'Percent_25andOver_JustGradDegree_2006to2008'</li><li>'rGDPperCap_2000'</li><li>'rGDPperCap_2001'</li><li>'rGDPperCap_2002'</li><li>'rGDPperCap_2003'</li><li>'rGDPperCap_2004'</li><li>'rGDPperCap_2005'</li><li>'rGDPperCap_2006'</li><li>'rGDPperCap_2007'</li><li>'rGDPperCap_2008'</li><li>'rGDPperCap_2009'</li><li>'rGDPperCap_2010'</li><li>'rGDPperCap_2011'</li><li>'rGDPperCap_2012'</li><li>'Covid_mrate_2020'</li></ol>\n"
      ],
      "text/latex": [
       "\\begin{enumerate*}\n",
       "\\item 'X'\n",
       "\\item 'STATE'\n",
       "\\item 'Year'\n",
       "\\item 'TotPop\\_18to24'\n",
       "\\item 'TotPop\\_25to34'\n",
       "\\item 'TotPop\\_35to44'\n",
       "\\item 'TotPop\\_45to64'\n",
       "\\item 'TotPop\\_65'\n",
       "\\item 'TotCPop\\_18to24'\n",
       "\\item 'TotCPop\\_25to34'\n",
       "\\item 'TotCPop\\_35to44'\n",
       "\\item 'TotCPop\\_45to64'\n",
       "\\item 'TotCPop\\_65'\n",
       "\\item 'TotReg\\_18to24'\n",
       "\\item 'TotReg\\_25to34'\n",
       "\\item 'TotReg\\_35to44'\n",
       "\\item 'TotReg\\_45to64'\n",
       "\\item 'TotReg\\_65'\n",
       "\\item 'PRegT\\_18to24'\n",
       "\\item 'PRegT\\_25to34'\n",
       "\\item 'PRegT\\_35to44'\n",
       "\\item 'PRegT\\_45to64'\n",
       "\\item 'PRegT\\_65'\n",
       "\\item 'PRegC\\_18to24'\n",
       "\\item 'PRegC\\_25to34'\n",
       "\\item 'PRegC\\_35to44'\n",
       "\\item 'PRegC\\_45to64'\n",
       "\\item 'PRegC\\_65'\n",
       "\\item 'TotVote\\_18to24'\n",
       "\\item 'TotVote\\_25to34'\n",
       "\\item 'TotVote\\_35to44'\n",
       "\\item 'TotVote\\_45to64'\n",
       "\\item 'TotVote\\_65'\n",
       "\\item 'PVoteT\\_18to24'\n",
       "\\item 'PVoteT\\_25to34'\n",
       "\\item 'PVoteT\\_35to44'\n",
       "\\item 'PVoteT\\_45to64'\n",
       "\\item 'PVoteT\\_65'\n",
       "\\item 'PVoteC\\_18to24'\n",
       "\\item 'PVoteC\\_25to34'\n",
       "\\item 'PVoteC\\_35to44'\n",
       "\\item 'PVoteC\\_45to64'\n",
       "\\item 'PVoteC\\_65'\n",
       "\\item 'TotPop\\_Total'\n",
       "\\item 'TotPop\\_Male'\n",
       "\\item 'TotPop\\_Female'\n",
       "\\item 'TotPop\\_Whitealone'\n",
       "\\item 'TotPop\\_WhitenonHispanicalone'\n",
       "\\item 'TotPop\\_Blackalone'\n",
       "\\item 'TotPop\\_Asianalone'\n",
       "\\item 'TotPop\\_Hispanicofanyrace'\n",
       "\\item 'TotPop\\_Whitealoneorincombination'\n",
       "\\item 'TotPop\\_Blackaloneorincombination'\n",
       "\\item 'TotPop\\_Asianaloneorincombination'\n",
       "\\item 'TotCPop\\_Total'\n",
       "\\item 'TotCPop\\_Male'\n",
       "\\item 'TotCPop\\_Female'\n",
       "\\item 'TotCPop\\_Whitealone'\n",
       "\\item 'TotCPop\\_WhitenonHispanicalone'\n",
       "\\item 'TotCPop\\_Blackalone'\n",
       "\\item 'TotCPop\\_Asianalone'\n",
       "\\item 'TotCPop\\_Hispanicofanyrace'\n",
       "\\item 'TotCPop\\_Whitealoneorincombination'\n",
       "\\item 'TotCPop\\_Blackaloneorincombination'\n",
       "\\item 'TotCPop\\_Asianaloneorincombination'\n",
       "\\item 'TotReg\\_Total'\n",
       "\\item 'TotReg\\_Male'\n",
       "\\item 'TotReg\\_Female'\n",
       "\\item 'TotReg\\_Whitealone'\n",
       "\\item 'TotReg\\_WhitenonHispanicalone'\n",
       "\\item 'TotReg\\_Blackalone'\n",
       "\\item 'TotReg\\_Asianalone'\n",
       "\\item 'TotReg\\_Hispanicofanyrace'\n",
       "\\item 'TotReg\\_Whitealoneorincombination'\n",
       "\\item 'TotReg\\_Blackaloneorincombination'\n",
       "\\item 'TotReg\\_Asianaloneorincombination'\n",
       "\\item 'PRegT\\_Total'\n",
       "\\item 'PRegT\\_Male'\n",
       "\\item 'PRegT\\_Female'\n",
       "\\item 'PRegT\\_Whitealone'\n",
       "\\item 'PRegT\\_WhitenonHispanicalone'\n",
       "\\item 'PRegT\\_Blackalone'\n",
       "\\item 'PRegT\\_Asianalone'\n",
       "\\item 'PRegT\\_Hispanicofanyrace'\n",
       "\\item 'PRegT\\_Whitealoneorincombination'\n",
       "\\item 'PRegT\\_Blackaloneorincombination'\n",
       "\\item 'PRegT\\_Asianaloneorincombination'\n",
       "\\item 'PRegC\\_Total'\n",
       "\\item 'PRegC\\_Male'\n",
       "\\item 'PRegC\\_Female'\n",
       "\\item 'PRegC\\_Whitealone'\n",
       "\\item 'PRegC\\_WhitenonHispanicalone'\n",
       "\\item 'PRegC\\_Blackalone'\n",
       "\\item 'PRegC\\_Asianalone'\n",
       "\\item 'PRegC\\_Hispanicofanyrace'\n",
       "\\item 'PRegC\\_Whitealoneorincombination'\n",
       "\\item 'PRegC\\_Blackaloneorincombination'\n",
       "\\item 'PRegC\\_Asianaloneorincombination'\n",
       "\\item 'TotVote\\_Total'\n",
       "\\item 'TotVote\\_Male'\n",
       "\\item 'TotVote\\_Female'\n",
       "\\item 'TotVote\\_Whitealone'\n",
       "\\item 'TotVote\\_WhitenonHispanicalone'\n",
       "\\item 'TotVote\\_Blackalone'\n",
       "\\item 'TotVote\\_Asianalone'\n",
       "\\item 'TotVote\\_Hispanicofanyrace'\n",
       "\\item 'TotVote\\_Whitealoneorincombination'\n",
       "\\item 'TotVote\\_Blackaloneorincombination'\n",
       "\\item 'TotVote\\_Asianaloneorincombination'\n",
       "\\item 'PVoteT\\_Total'\n",
       "\\item 'PVoteT\\_Male'\n",
       "\\item 'PVoteT\\_Female'\n",
       "\\item 'PVoteT\\_Whitealone'\n",
       "\\item 'PVoteT\\_WhitenonHispanicalone'\n",
       "\\item 'PVoteT\\_Blackalone'\n",
       "\\item 'PVoteT\\_Asianalone'\n",
       "\\item 'PVoteT\\_Hispanicofanyrace'\n",
       "\\item 'PVoteT\\_Whitealoneorincombination'\n",
       "\\item 'PVoteT\\_Blackaloneorincombination'\n",
       "\\item 'PVoteT\\_Asianaloneorincombination'\n",
       "\\item 'PVoteC\\_Total'\n",
       "\\item 'PVoteC\\_Male'\n",
       "\\item 'PVoteC\\_Female'\n",
       "\\item 'PVoteC\\_Whitealone'\n",
       "\\item 'PVoteC\\_WhitenonHispanicalone'\n",
       "\\item 'PVoteC\\_Blackalone'\n",
       "\\item 'PVoteC\\_Asianalone'\n",
       "\\item 'PVoteC\\_Hispanicofanyrace'\n",
       "\\item 'PVoteC\\_Whitealoneorincombination'\n",
       "\\item 'PVoteC\\_Blackaloneorincombination'\n",
       "\\item 'PVoteC\\_Asianaloneorincombination'\n",
       "\\item 'TotPop\\_25to44'\n",
       "\\item 'TotPop\\_65to74'\n",
       "\\item 'TotPop\\_75'\n",
       "\\item 'TotCPop\\_25to44'\n",
       "\\item 'TotCPop\\_65to74'\n",
       "\\item 'TotCPop\\_75'\n",
       "\\item 'TotReg\\_25to44'\n",
       "\\item 'TotReg\\_65to74'\n",
       "\\item 'TotReg\\_75'\n",
       "\\item 'PRegT\\_25to44'\n",
       "\\item 'PRegT\\_65to74'\n",
       "\\item 'PRegT\\_75'\n",
       "\\item 'PRegC\\_25to44'\n",
       "\\item 'PRegC\\_65to74'\n",
       "\\item 'PRegC\\_75'\n",
       "\\item 'TotVote\\_25to44'\n",
       "\\item 'TotVote\\_65to74'\n",
       "\\item 'TotVote\\_75'\n",
       "\\item 'PVoteT\\_25to44'\n",
       "\\item 'PVoteT\\_65to74'\n",
       "\\item 'PVoteT\\_75'\n",
       "\\item 'PVoteC\\_25to44'\n",
       "\\item 'PVoteC\\_65to74'\n",
       "\\item 'PVoteC\\_75'\n",
       "\\item 'TotPop\\_45to54'\n",
       "\\item 'TotPop\\_55to64'\n",
       "\\item 'TotPop\\_18to44'\n",
       "\\item 'TotCPop\\_45to54'\n",
       "\\item 'TotCPop\\_55to64'\n",
       "\\item 'TotCPop\\_18to44'\n",
       "\\item 'TotReg\\_45to54'\n",
       "\\item 'TotReg\\_55to64'\n",
       "\\item 'TotReg\\_18to44'\n",
       "\\item 'PRegT\\_45to54'\n",
       "\\item 'PRegT\\_55to64'\n",
       "\\item 'PRegT\\_18to44'\n",
       "\\item 'PRegC\\_45to54'\n",
       "\\item 'PRegC\\_55to64'\n",
       "\\item 'PRegC\\_18to44'\n",
       "\\item 'TotVote\\_45to54'\n",
       "\\item 'TotVote\\_55to64'\n",
       "\\item 'TotVote\\_18to44'\n",
       "\\item 'PVoteT\\_45to54'\n",
       "\\item 'PVoteT\\_55to64'\n",
       "\\item 'PVoteT\\_18to44'\n",
       "\\item 'PVoteC\\_45to54'\n",
       "\\item 'PVoteC\\_55to64'\n",
       "\\item 'PVoteC\\_18to44'\n",
       "\\item 'TotPop\\_WhitenonHispanicaloneorincombination'\n",
       "\\item 'TotPop\\_NonHispanicWhite'\n",
       "\\item 'TotCPop\\_WhitenonHispanicaloneorincombination'\n",
       "\\item 'TotCPop\\_NonHispanicWhite'\n",
       "\\item 'TotReg\\_WhitenonHispanicaloneorincombination'\n",
       "\\item 'TotReg\\_NonHispanicWhite'\n",
       "\\item 'PRegT\\_WhitenonHispanicaloneorincombination'\n",
       "\\item 'PRegT\\_NonHispanicWhite'\n",
       "\\item 'PRegC\\_WhitenonHispanicaloneorincombination'\n",
       "\\item 'PRegC\\_NonHispanicWhite'\n",
       "\\item 'TotVote\\_WhitenonHispanicaloneorincombination'\n",
       "\\item 'TotVote\\_NonHispanicWhite'\n",
       "\\item 'PVoteT\\_WhitenonHispanicaloneorincombination'\n",
       "\\item 'PVoteT\\_NonHispanicWhite'\n",
       "\\item 'PVoteC\\_WhitenonHispanicaloneorincombination'\n",
       "\\item 'PVoteC\\_NonHispanicWhite'\n",
       "\\item 'TotPop\\_NonHispanicBlack'\n",
       "\\item 'TotCPop\\_NonHispanicBlack'\n",
       "\\item 'TotReg\\_NonHispanicBlack'\n",
       "\\item 'PRegT\\_NonHispanicBlack'\n",
       "\\item 'PRegC\\_NonHispanicBlack'\n",
       "\\item 'TotVote\\_NonHispanicBlack'\n",
       "\\item 'PVoteT\\_NonHispanicBlack'\n",
       "\\item 'PVoteC\\_NonHispanicBlack'\n",
       "\\item 'Dif\\_WhiteBlack'\n",
       "\\item 'Dif\\_45to64\\_18to24'\n",
       "\\item 'Treatment'\n",
       "\\item 'Semi\\_treatment'\n",
       "\\item 'pre\\_2013'\n",
       "\\item 'post\\_2013'\n",
       "\\item 'is\\_2000'\n",
       "\\item 'is\\_2002'\n",
       "\\item 'is\\_2004'\n",
       "\\item 'is\\_2006'\n",
       "\\item 'is\\_2008'\n",
       "\\item 'is\\_2010'\n",
       "\\item 'is\\_2012'\n",
       "\\item 'is\\_2014'\n",
       "\\item 'is\\_2016'\n",
       "\\item 'is\\_2018'\n",
       "\\item 'is\\_2020'\n",
       "\\item 'pres\\_year'\n",
       "\\item 'senate'\n",
       "\\item 'swing\\_2000'\n",
       "\\item 'swing\\_2004'\n",
       "\\item 'swing\\_2008'\n",
       "\\item 'swing\\_2012'\n",
       "\\item 'swing\\_ever'\n",
       "\\item 'TotCPop\\_18to24\\_2012'\n",
       "\\item 'TotCPop\\_Blackaloneorincombination\\_2012'\n",
       "\\item 'TotCPop\\_Total\\_2012'\n",
       "\\item 'TotPop\\_Total\\_2012'\n",
       "\\item 'TotCPop\\_Whitealoneorincombination\\_2012'\n",
       "\\item 'TotCPop\\_45to64\\_2012'\n",
       "\\item 'Percent\\_18to24\\_CompleteHS\\_2000'\n",
       "\\item 'Percent\\_18to24\\_CompleteHS\\_2006to2008'\n",
       "\\item 'Percent\\_25andOver\\_LessThanHS\\_2000'\n",
       "\\item 'Percent\\_25andOver\\_HSorMore\\_2000'\n",
       "\\item 'Percent\\_25andOver\\_BachelororMore\\_2000'\n",
       "\\item 'Percent\\_25andOver\\_JustBachelor\\_2000'\n",
       "\\item 'Percent\\_25andOver\\_JustGradDegree\\_2000'\n",
       "\\item 'Percent\\_25andOver\\_LessThanHS\\_2006to2008'\n",
       "\\item 'Percent\\_25andOver\\_HSorMore\\_2006to2008'\n",
       "\\item 'Percent\\_25andOver\\_BachelororMore\\_2006to2008'\n",
       "\\item 'Percent\\_25andOver\\_JustBachelor\\_2006to2008'\n",
       "\\item 'Percent\\_25andOver\\_JustGradDegree\\_2006to2008'\n",
       "\\item 'rGDPperCap\\_2000'\n",
       "\\item 'rGDPperCap\\_2001'\n",
       "\\item 'rGDPperCap\\_2002'\n",
       "\\item 'rGDPperCap\\_2003'\n",
       "\\item 'rGDPperCap\\_2004'\n",
       "\\item 'rGDPperCap\\_2005'\n",
       "\\item 'rGDPperCap\\_2006'\n",
       "\\item 'rGDPperCap\\_2007'\n",
       "\\item 'rGDPperCap\\_2008'\n",
       "\\item 'rGDPperCap\\_2009'\n",
       "\\item 'rGDPperCap\\_2010'\n",
       "\\item 'rGDPperCap\\_2011'\n",
       "\\item 'rGDPperCap\\_2012'\n",
       "\\item 'Covid\\_mrate\\_2020'\n",
       "\\end{enumerate*}\n"
      ],
      "text/markdown": [
       "1. 'X'\n",
       "2. 'STATE'\n",
       "3. 'Year'\n",
       "4. 'TotPop_18to24'\n",
       "5. 'TotPop_25to34'\n",
       "6. 'TotPop_35to44'\n",
       "7. 'TotPop_45to64'\n",
       "8. 'TotPop_65'\n",
       "9. 'TotCPop_18to24'\n",
       "10. 'TotCPop_25to34'\n",
       "11. 'TotCPop_35to44'\n",
       "12. 'TotCPop_45to64'\n",
       "13. 'TotCPop_65'\n",
       "14. 'TotReg_18to24'\n",
       "15. 'TotReg_25to34'\n",
       "16. 'TotReg_35to44'\n",
       "17. 'TotReg_45to64'\n",
       "18. 'TotReg_65'\n",
       "19. 'PRegT_18to24'\n",
       "20. 'PRegT_25to34'\n",
       "21. 'PRegT_35to44'\n",
       "22. 'PRegT_45to64'\n",
       "23. 'PRegT_65'\n",
       "24. 'PRegC_18to24'\n",
       "25. 'PRegC_25to34'\n",
       "26. 'PRegC_35to44'\n",
       "27. 'PRegC_45to64'\n",
       "28. 'PRegC_65'\n",
       "29. 'TotVote_18to24'\n",
       "30. 'TotVote_25to34'\n",
       "31. 'TotVote_35to44'\n",
       "32. 'TotVote_45to64'\n",
       "33. 'TotVote_65'\n",
       "34. 'PVoteT_18to24'\n",
       "35. 'PVoteT_25to34'\n",
       "36. 'PVoteT_35to44'\n",
       "37. 'PVoteT_45to64'\n",
       "38. 'PVoteT_65'\n",
       "39. 'PVoteC_18to24'\n",
       "40. 'PVoteC_25to34'\n",
       "41. 'PVoteC_35to44'\n",
       "42. 'PVoteC_45to64'\n",
       "43. 'PVoteC_65'\n",
       "44. 'TotPop_Total'\n",
       "45. 'TotPop_Male'\n",
       "46. 'TotPop_Female'\n",
       "47. 'TotPop_Whitealone'\n",
       "48. 'TotPop_WhitenonHispanicalone'\n",
       "49. 'TotPop_Blackalone'\n",
       "50. 'TotPop_Asianalone'\n",
       "51. 'TotPop_Hispanicofanyrace'\n",
       "52. 'TotPop_Whitealoneorincombination'\n",
       "53. 'TotPop_Blackaloneorincombination'\n",
       "54. 'TotPop_Asianaloneorincombination'\n",
       "55. 'TotCPop_Total'\n",
       "56. 'TotCPop_Male'\n",
       "57. 'TotCPop_Female'\n",
       "58. 'TotCPop_Whitealone'\n",
       "59. 'TotCPop_WhitenonHispanicalone'\n",
       "60. 'TotCPop_Blackalone'\n",
       "61. 'TotCPop_Asianalone'\n",
       "62. 'TotCPop_Hispanicofanyrace'\n",
       "63. 'TotCPop_Whitealoneorincombination'\n",
       "64. 'TotCPop_Blackaloneorincombination'\n",
       "65. 'TotCPop_Asianaloneorincombination'\n",
       "66. 'TotReg_Total'\n",
       "67. 'TotReg_Male'\n",
       "68. 'TotReg_Female'\n",
       "69. 'TotReg_Whitealone'\n",
       "70. 'TotReg_WhitenonHispanicalone'\n",
       "71. 'TotReg_Blackalone'\n",
       "72. 'TotReg_Asianalone'\n",
       "73. 'TotReg_Hispanicofanyrace'\n",
       "74. 'TotReg_Whitealoneorincombination'\n",
       "75. 'TotReg_Blackaloneorincombination'\n",
       "76. 'TotReg_Asianaloneorincombination'\n",
       "77. 'PRegT_Total'\n",
       "78. 'PRegT_Male'\n",
       "79. 'PRegT_Female'\n",
       "80. 'PRegT_Whitealone'\n",
       "81. 'PRegT_WhitenonHispanicalone'\n",
       "82. 'PRegT_Blackalone'\n",
       "83. 'PRegT_Asianalone'\n",
       "84. 'PRegT_Hispanicofanyrace'\n",
       "85. 'PRegT_Whitealoneorincombination'\n",
       "86. 'PRegT_Blackaloneorincombination'\n",
       "87. 'PRegT_Asianaloneorincombination'\n",
       "88. 'PRegC_Total'\n",
       "89. 'PRegC_Male'\n",
       "90. 'PRegC_Female'\n",
       "91. 'PRegC_Whitealone'\n",
       "92. 'PRegC_WhitenonHispanicalone'\n",
       "93. 'PRegC_Blackalone'\n",
       "94. 'PRegC_Asianalone'\n",
       "95. 'PRegC_Hispanicofanyrace'\n",
       "96. 'PRegC_Whitealoneorincombination'\n",
       "97. 'PRegC_Blackaloneorincombination'\n",
       "98. 'PRegC_Asianaloneorincombination'\n",
       "99. 'TotVote_Total'\n",
       "100. 'TotVote_Male'\n",
       "101. 'TotVote_Female'\n",
       "102. 'TotVote_Whitealone'\n",
       "103. 'TotVote_WhitenonHispanicalone'\n",
       "104. 'TotVote_Blackalone'\n",
       "105. 'TotVote_Asianalone'\n",
       "106. 'TotVote_Hispanicofanyrace'\n",
       "107. 'TotVote_Whitealoneorincombination'\n",
       "108. 'TotVote_Blackaloneorincombination'\n",
       "109. 'TotVote_Asianaloneorincombination'\n",
       "110. 'PVoteT_Total'\n",
       "111. 'PVoteT_Male'\n",
       "112. 'PVoteT_Female'\n",
       "113. 'PVoteT_Whitealone'\n",
       "114. 'PVoteT_WhitenonHispanicalone'\n",
       "115. 'PVoteT_Blackalone'\n",
       "116. 'PVoteT_Asianalone'\n",
       "117. 'PVoteT_Hispanicofanyrace'\n",
       "118. 'PVoteT_Whitealoneorincombination'\n",
       "119. 'PVoteT_Blackaloneorincombination'\n",
       "120. 'PVoteT_Asianaloneorincombination'\n",
       "121. 'PVoteC_Total'\n",
       "122. 'PVoteC_Male'\n",
       "123. 'PVoteC_Female'\n",
       "124. 'PVoteC_Whitealone'\n",
       "125. 'PVoteC_WhitenonHispanicalone'\n",
       "126. 'PVoteC_Blackalone'\n",
       "127. 'PVoteC_Asianalone'\n",
       "128. 'PVoteC_Hispanicofanyrace'\n",
       "129. 'PVoteC_Whitealoneorincombination'\n",
       "130. 'PVoteC_Blackaloneorincombination'\n",
       "131. 'PVoteC_Asianaloneorincombination'\n",
       "132. 'TotPop_25to44'\n",
       "133. 'TotPop_65to74'\n",
       "134. 'TotPop_75'\n",
       "135. 'TotCPop_25to44'\n",
       "136. 'TotCPop_65to74'\n",
       "137. 'TotCPop_75'\n",
       "138. 'TotReg_25to44'\n",
       "139. 'TotReg_65to74'\n",
       "140. 'TotReg_75'\n",
       "141. 'PRegT_25to44'\n",
       "142. 'PRegT_65to74'\n",
       "143. 'PRegT_75'\n",
       "144. 'PRegC_25to44'\n",
       "145. 'PRegC_65to74'\n",
       "146. 'PRegC_75'\n",
       "147. 'TotVote_25to44'\n",
       "148. 'TotVote_65to74'\n",
       "149. 'TotVote_75'\n",
       "150. 'PVoteT_25to44'\n",
       "151. 'PVoteT_65to74'\n",
       "152. 'PVoteT_75'\n",
       "153. 'PVoteC_25to44'\n",
       "154. 'PVoteC_65to74'\n",
       "155. 'PVoteC_75'\n",
       "156. 'TotPop_45to54'\n",
       "157. 'TotPop_55to64'\n",
       "158. 'TotPop_18to44'\n",
       "159. 'TotCPop_45to54'\n",
       "160. 'TotCPop_55to64'\n",
       "161. 'TotCPop_18to44'\n",
       "162. 'TotReg_45to54'\n",
       "163. 'TotReg_55to64'\n",
       "164. 'TotReg_18to44'\n",
       "165. 'PRegT_45to54'\n",
       "166. 'PRegT_55to64'\n",
       "167. 'PRegT_18to44'\n",
       "168. 'PRegC_45to54'\n",
       "169. 'PRegC_55to64'\n",
       "170. 'PRegC_18to44'\n",
       "171. 'TotVote_45to54'\n",
       "172. 'TotVote_55to64'\n",
       "173. 'TotVote_18to44'\n",
       "174. 'PVoteT_45to54'\n",
       "175. 'PVoteT_55to64'\n",
       "176. 'PVoteT_18to44'\n",
       "177. 'PVoteC_45to54'\n",
       "178. 'PVoteC_55to64'\n",
       "179. 'PVoteC_18to44'\n",
       "180. 'TotPop_WhitenonHispanicaloneorincombination'\n",
       "181. 'TotPop_NonHispanicWhite'\n",
       "182. 'TotCPop_WhitenonHispanicaloneorincombination'\n",
       "183. 'TotCPop_NonHispanicWhite'\n",
       "184. 'TotReg_WhitenonHispanicaloneorincombination'\n",
       "185. 'TotReg_NonHispanicWhite'\n",
       "186. 'PRegT_WhitenonHispanicaloneorincombination'\n",
       "187. 'PRegT_NonHispanicWhite'\n",
       "188. 'PRegC_WhitenonHispanicaloneorincombination'\n",
       "189. 'PRegC_NonHispanicWhite'\n",
       "190. 'TotVote_WhitenonHispanicaloneorincombination'\n",
       "191. 'TotVote_NonHispanicWhite'\n",
       "192. 'PVoteT_WhitenonHispanicaloneorincombination'\n",
       "193. 'PVoteT_NonHispanicWhite'\n",
       "194. 'PVoteC_WhitenonHispanicaloneorincombination'\n",
       "195. 'PVoteC_NonHispanicWhite'\n",
       "196. 'TotPop_NonHispanicBlack'\n",
       "197. 'TotCPop_NonHispanicBlack'\n",
       "198. 'TotReg_NonHispanicBlack'\n",
       "199. 'PRegT_NonHispanicBlack'\n",
       "200. 'PRegC_NonHispanicBlack'\n",
       "201. 'TotVote_NonHispanicBlack'\n",
       "202. 'PVoteT_NonHispanicBlack'\n",
       "203. 'PVoteC_NonHispanicBlack'\n",
       "204. 'Dif_WhiteBlack'\n",
       "205. 'Dif_45to64_18to24'\n",
       "206. 'Treatment'\n",
       "207. 'Semi_treatment'\n",
       "208. 'pre_2013'\n",
       "209. 'post_2013'\n",
       "210. 'is_2000'\n",
       "211. 'is_2002'\n",
       "212. 'is_2004'\n",
       "213. 'is_2006'\n",
       "214. 'is_2008'\n",
       "215. 'is_2010'\n",
       "216. 'is_2012'\n",
       "217. 'is_2014'\n",
       "218. 'is_2016'\n",
       "219. 'is_2018'\n",
       "220. 'is_2020'\n",
       "221. 'pres_year'\n",
       "222. 'senate'\n",
       "223. 'swing_2000'\n",
       "224. 'swing_2004'\n",
       "225. 'swing_2008'\n",
       "226. 'swing_2012'\n",
       "227. 'swing_ever'\n",
       "228. 'TotCPop_18to24_2012'\n",
       "229. 'TotCPop_Blackaloneorincombination_2012'\n",
       "230. 'TotCPop_Total_2012'\n",
       "231. 'TotPop_Total_2012'\n",
       "232. 'TotCPop_Whitealoneorincombination_2012'\n",
       "233. 'TotCPop_45to64_2012'\n",
       "234. 'Percent_18to24_CompleteHS_2000'\n",
       "235. 'Percent_18to24_CompleteHS_2006to2008'\n",
       "236. 'Percent_25andOver_LessThanHS_2000'\n",
       "237. 'Percent_25andOver_HSorMore_2000'\n",
       "238. 'Percent_25andOver_BachelororMore_2000'\n",
       "239. 'Percent_25andOver_JustBachelor_2000'\n",
       "240. 'Percent_25andOver_JustGradDegree_2000'\n",
       "241. 'Percent_25andOver_LessThanHS_2006to2008'\n",
       "242. 'Percent_25andOver_HSorMore_2006to2008'\n",
       "243. 'Percent_25andOver_BachelororMore_2006to2008'\n",
       "244. 'Percent_25andOver_JustBachelor_2006to2008'\n",
       "245. 'Percent_25andOver_JustGradDegree_2006to2008'\n",
       "246. 'rGDPperCap_2000'\n",
       "247. 'rGDPperCap_2001'\n",
       "248. 'rGDPperCap_2002'\n",
       "249. 'rGDPperCap_2003'\n",
       "250. 'rGDPperCap_2004'\n",
       "251. 'rGDPperCap_2005'\n",
       "252. 'rGDPperCap_2006'\n",
       "253. 'rGDPperCap_2007'\n",
       "254. 'rGDPperCap_2008'\n",
       "255. 'rGDPperCap_2009'\n",
       "256. 'rGDPperCap_2010'\n",
       "257. 'rGDPperCap_2011'\n",
       "258. 'rGDPperCap_2012'\n",
       "259. 'Covid_mrate_2020'\n",
       "\n",
       "\n"
      ],
      "text/plain": [
       "  [1] \"X\"                                           \n",
       "  [2] \"STATE\"                                       \n",
       "  [3] \"Year\"                                        \n",
       "  [4] \"TotPop_18to24\"                               \n",
       "  [5] \"TotPop_25to34\"                               \n",
       "  [6] \"TotPop_35to44\"                               \n",
       "  [7] \"TotPop_45to64\"                               \n",
       "  [8] \"TotPop_65\"                                   \n",
       "  [9] \"TotCPop_18to24\"                              \n",
       " [10] \"TotCPop_25to34\"                              \n",
       " [11] \"TotCPop_35to44\"                              \n",
       " [12] \"TotCPop_45to64\"                              \n",
       " [13] \"TotCPop_65\"                                  \n",
       " [14] \"TotReg_18to24\"                               \n",
       " [15] \"TotReg_25to34\"                               \n",
       " [16] \"TotReg_35to44\"                               \n",
       " [17] \"TotReg_45to64\"                               \n",
       " [18] \"TotReg_65\"                                   \n",
       " [19] \"PRegT_18to24\"                                \n",
       " [20] \"PRegT_25to34\"                                \n",
       " [21] \"PRegT_35to44\"                                \n",
       " [22] \"PRegT_45to64\"                                \n",
       " [23] \"PRegT_65\"                                    \n",
       " [24] \"PRegC_18to24\"                                \n",
       " [25] \"PRegC_25to34\"                                \n",
       " [26] \"PRegC_35to44\"                                \n",
       " [27] \"PRegC_45to64\"                                \n",
       " [28] \"PRegC_65\"                                    \n",
       " [29] \"TotVote_18to24\"                              \n",
       " [30] \"TotVote_25to34\"                              \n",
       " [31] \"TotVote_35to44\"                              \n",
       " [32] \"TotVote_45to64\"                              \n",
       " [33] \"TotVote_65\"                                  \n",
       " [34] \"PVoteT_18to24\"                               \n",
       " [35] \"PVoteT_25to34\"                               \n",
       " [36] \"PVoteT_35to44\"                               \n",
       " [37] \"PVoteT_45to64\"                               \n",
       " [38] \"PVoteT_65\"                                   \n",
       " [39] \"PVoteC_18to24\"                               \n",
       " [40] \"PVoteC_25to34\"                               \n",
       " [41] \"PVoteC_35to44\"                               \n",
       " [42] \"PVoteC_45to64\"                               \n",
       " [43] \"PVoteC_65\"                                   \n",
       " [44] \"TotPop_Total\"                                \n",
       " [45] \"TotPop_Male\"                                 \n",
       " [46] \"TotPop_Female\"                               \n",
       " [47] \"TotPop_Whitealone\"                           \n",
       " [48] \"TotPop_WhitenonHispanicalone\"                \n",
       " [49] \"TotPop_Blackalone\"                           \n",
       " [50] \"TotPop_Asianalone\"                           \n",
       " [51] \"TotPop_Hispanicofanyrace\"                    \n",
       " [52] \"TotPop_Whitealoneorincombination\"            \n",
       " [53] \"TotPop_Blackaloneorincombination\"            \n",
       " [54] \"TotPop_Asianaloneorincombination\"            \n",
       " [55] \"TotCPop_Total\"                               \n",
       " [56] \"TotCPop_Male\"                                \n",
       " [57] \"TotCPop_Female\"                              \n",
       " [58] \"TotCPop_Whitealone\"                          \n",
       " [59] \"TotCPop_WhitenonHispanicalone\"               \n",
       " [60] \"TotCPop_Blackalone\"                          \n",
       " [61] \"TotCPop_Asianalone\"                          \n",
       " [62] \"TotCPop_Hispanicofanyrace\"                   \n",
       " [63] \"TotCPop_Whitealoneorincombination\"           \n",
       " [64] \"TotCPop_Blackaloneorincombination\"           \n",
       " [65] \"TotCPop_Asianaloneorincombination\"           \n",
       " [66] \"TotReg_Total\"                                \n",
       " [67] \"TotReg_Male\"                                 \n",
       " [68] \"TotReg_Female\"                               \n",
       " [69] \"TotReg_Whitealone\"                           \n",
       " [70] \"TotReg_WhitenonHispanicalone\"                \n",
       " [71] \"TotReg_Blackalone\"                           \n",
       " [72] \"TotReg_Asianalone\"                           \n",
       " [73] \"TotReg_Hispanicofanyrace\"                    \n",
       " [74] \"TotReg_Whitealoneorincombination\"            \n",
       " [75] \"TotReg_Blackaloneorincombination\"            \n",
       " [76] \"TotReg_Asianaloneorincombination\"            \n",
       " [77] \"PRegT_Total\"                                 \n",
       " [78] \"PRegT_Male\"                                  \n",
       " [79] \"PRegT_Female\"                                \n",
       " [80] \"PRegT_Whitealone\"                            \n",
       " [81] \"PRegT_WhitenonHispanicalone\"                 \n",
       " [82] \"PRegT_Blackalone\"                            \n",
       " [83] \"PRegT_Asianalone\"                            \n",
       " [84] \"PRegT_Hispanicofanyrace\"                     \n",
       " [85] \"PRegT_Whitealoneorincombination\"             \n",
       " [86] \"PRegT_Blackaloneorincombination\"             \n",
       " [87] \"PRegT_Asianaloneorincombination\"             \n",
       " [88] \"PRegC_Total\"                                 \n",
       " [89] \"PRegC_Male\"                                  \n",
       " [90] \"PRegC_Female\"                                \n",
       " [91] \"PRegC_Whitealone\"                            \n",
       " [92] \"PRegC_WhitenonHispanicalone\"                 \n",
       " [93] \"PRegC_Blackalone\"                            \n",
       " [94] \"PRegC_Asianalone\"                            \n",
       " [95] \"PRegC_Hispanicofanyrace\"                     \n",
       " [96] \"PRegC_Whitealoneorincombination\"             \n",
       " [97] \"PRegC_Blackaloneorincombination\"             \n",
       " [98] \"PRegC_Asianaloneorincombination\"             \n",
       " [99] \"TotVote_Total\"                               \n",
       "[100] \"TotVote_Male\"                                \n",
       "[101] \"TotVote_Female\"                              \n",
       "[102] \"TotVote_Whitealone\"                          \n",
       "[103] \"TotVote_WhitenonHispanicalone\"               \n",
       "[104] \"TotVote_Blackalone\"                          \n",
       "[105] \"TotVote_Asianalone\"                          \n",
       "[106] \"TotVote_Hispanicofanyrace\"                   \n",
       "[107] \"TotVote_Whitealoneorincombination\"           \n",
       "[108] \"TotVote_Blackaloneorincombination\"           \n",
       "[109] \"TotVote_Asianaloneorincombination\"           \n",
       "[110] \"PVoteT_Total\"                                \n",
       "[111] \"PVoteT_Male\"                                 \n",
       "[112] \"PVoteT_Female\"                               \n",
       "[113] \"PVoteT_Whitealone\"                           \n",
       "[114] \"PVoteT_WhitenonHispanicalone\"                \n",
       "[115] \"PVoteT_Blackalone\"                           \n",
       "[116] \"PVoteT_Asianalone\"                           \n",
       "[117] \"PVoteT_Hispanicofanyrace\"                    \n",
       "[118] \"PVoteT_Whitealoneorincombination\"            \n",
       "[119] \"PVoteT_Blackaloneorincombination\"            \n",
       "[120] \"PVoteT_Asianaloneorincombination\"            \n",
       "[121] \"PVoteC_Total\"                                \n",
       "[122] \"PVoteC_Male\"                                 \n",
       "[123] \"PVoteC_Female\"                               \n",
       "[124] \"PVoteC_Whitealone\"                           \n",
       "[125] \"PVoteC_WhitenonHispanicalone\"                \n",
       "[126] \"PVoteC_Blackalone\"                           \n",
       "[127] \"PVoteC_Asianalone\"                           \n",
       "[128] \"PVoteC_Hispanicofanyrace\"                    \n",
       "[129] \"PVoteC_Whitealoneorincombination\"            \n",
       "[130] \"PVoteC_Blackaloneorincombination\"            \n",
       "[131] \"PVoteC_Asianaloneorincombination\"            \n",
       "[132] \"TotPop_25to44\"                               \n",
       "[133] \"TotPop_65to74\"                               \n",
       "[134] \"TotPop_75\"                                   \n",
       "[135] \"TotCPop_25to44\"                              \n",
       "[136] \"TotCPop_65to74\"                              \n",
       "[137] \"TotCPop_75\"                                  \n",
       "[138] \"TotReg_25to44\"                               \n",
       "[139] \"TotReg_65to74\"                               \n",
       "[140] \"TotReg_75\"                                   \n",
       "[141] \"PRegT_25to44\"                                \n",
       "[142] \"PRegT_65to74\"                                \n",
       "[143] \"PRegT_75\"                                    \n",
       "[144] \"PRegC_25to44\"                                \n",
       "[145] \"PRegC_65to74\"                                \n",
       "[146] \"PRegC_75\"                                    \n",
       "[147] \"TotVote_25to44\"                              \n",
       "[148] \"TotVote_65to74\"                              \n",
       "[149] \"TotVote_75\"                                  \n",
       "[150] \"PVoteT_25to44\"                               \n",
       "[151] \"PVoteT_65to74\"                               \n",
       "[152] \"PVoteT_75\"                                   \n",
       "[153] \"PVoteC_25to44\"                               \n",
       "[154] \"PVoteC_65to74\"                               \n",
       "[155] \"PVoteC_75\"                                   \n",
       "[156] \"TotPop_45to54\"                               \n",
       "[157] \"TotPop_55to64\"                               \n",
       "[158] \"TotPop_18to44\"                               \n",
       "[159] \"TotCPop_45to54\"                              \n",
       "[160] \"TotCPop_55to64\"                              \n",
       "[161] \"TotCPop_18to44\"                              \n",
       "[162] \"TotReg_45to54\"                               \n",
       "[163] \"TotReg_55to64\"                               \n",
       "[164] \"TotReg_18to44\"                               \n",
       "[165] \"PRegT_45to54\"                                \n",
       "[166] \"PRegT_55to64\"                                \n",
       "[167] \"PRegT_18to44\"                                \n",
       "[168] \"PRegC_45to54\"                                \n",
       "[169] \"PRegC_55to64\"                                \n",
       "[170] \"PRegC_18to44\"                                \n",
       "[171] \"TotVote_45to54\"                              \n",
       "[172] \"TotVote_55to64\"                              \n",
       "[173] \"TotVote_18to44\"                              \n",
       "[174] \"PVoteT_45to54\"                               \n",
       "[175] \"PVoteT_55to64\"                               \n",
       "[176] \"PVoteT_18to44\"                               \n",
       "[177] \"PVoteC_45to54\"                               \n",
       "[178] \"PVoteC_55to64\"                               \n",
       "[179] \"PVoteC_18to44\"                               \n",
       "[180] \"TotPop_WhitenonHispanicaloneorincombination\" \n",
       "[181] \"TotPop_NonHispanicWhite\"                     \n",
       "[182] \"TotCPop_WhitenonHispanicaloneorincombination\"\n",
       "[183] \"TotCPop_NonHispanicWhite\"                    \n",
       "[184] \"TotReg_WhitenonHispanicaloneorincombination\" \n",
       "[185] \"TotReg_NonHispanicWhite\"                     \n",
       "[186] \"PRegT_WhitenonHispanicaloneorincombination\"  \n",
       "[187] \"PRegT_NonHispanicWhite\"                      \n",
       "[188] \"PRegC_WhitenonHispanicaloneorincombination\"  \n",
       "[189] \"PRegC_NonHispanicWhite\"                      \n",
       "[190] \"TotVote_WhitenonHispanicaloneorincombination\"\n",
       "[191] \"TotVote_NonHispanicWhite\"                    \n",
       "[192] \"PVoteT_WhitenonHispanicaloneorincombination\" \n",
       "[193] \"PVoteT_NonHispanicWhite\"                     \n",
       "[194] \"PVoteC_WhitenonHispanicaloneorincombination\" \n",
       "[195] \"PVoteC_NonHispanicWhite\"                     \n",
       "[196] \"TotPop_NonHispanicBlack\"                     \n",
       "[197] \"TotCPop_NonHispanicBlack\"                    \n",
       "[198] \"TotReg_NonHispanicBlack\"                     \n",
       "[199] \"PRegT_NonHispanicBlack\"                      \n",
       "[200] \"PRegC_NonHispanicBlack\"                      \n",
       "[201] \"TotVote_NonHispanicBlack\"                    \n",
       "[202] \"PVoteT_NonHispanicBlack\"                     \n",
       "[203] \"PVoteC_NonHispanicBlack\"                     \n",
       "[204] \"Dif_WhiteBlack\"                              \n",
       "[205] \"Dif_45to64_18to24\"                           \n",
       "[206] \"Treatment\"                                   \n",
       "[207] \"Semi_treatment\"                              \n",
       "[208] \"pre_2013\"                                    \n",
       "[209] \"post_2013\"                                   \n",
       "[210] \"is_2000\"                                     \n",
       "[211] \"is_2002\"                                     \n",
       "[212] \"is_2004\"                                     \n",
       "[213] \"is_2006\"                                     \n",
       "[214] \"is_2008\"                                     \n",
       "[215] \"is_2010\"                                     \n",
       "[216] \"is_2012\"                                     \n",
       "[217] \"is_2014\"                                     \n",
       "[218] \"is_2016\"                                     \n",
       "[219] \"is_2018\"                                     \n",
       "[220] \"is_2020\"                                     \n",
       "[221] \"pres_year\"                                   \n",
       "[222] \"senate\"                                      \n",
       "[223] \"swing_2000\"                                  \n",
       "[224] \"swing_2004\"                                  \n",
       "[225] \"swing_2008\"                                  \n",
       "[226] \"swing_2012\"                                  \n",
       "[227] \"swing_ever\"                                  \n",
       "[228] \"TotCPop_18to24_2012\"                         \n",
       "[229] \"TotCPop_Blackaloneorincombination_2012\"      \n",
       "[230] \"TotCPop_Total_2012\"                          \n",
       "[231] \"TotPop_Total_2012\"                           \n",
       "[232] \"TotCPop_Whitealoneorincombination_2012\"      \n",
       "[233] \"TotCPop_45to64_2012\"                         \n",
       "[234] \"Percent_18to24_CompleteHS_2000\"              \n",
       "[235] \"Percent_18to24_CompleteHS_2006to2008\"        \n",
       "[236] \"Percent_25andOver_LessThanHS_2000\"           \n",
       "[237] \"Percent_25andOver_HSorMore_2000\"             \n",
       "[238] \"Percent_25andOver_BachelororMore_2000\"       \n",
       "[239] \"Percent_25andOver_JustBachelor_2000\"         \n",
       "[240] \"Percent_25andOver_JustGradDegree_2000\"       \n",
       "[241] \"Percent_25andOver_LessThanHS_2006to2008\"     \n",
       "[242] \"Percent_25andOver_HSorMore_2006to2008\"       \n",
       "[243] \"Percent_25andOver_BachelororMore_2006to2008\" \n",
       "[244] \"Percent_25andOver_JustBachelor_2006to2008\"   \n",
       "[245] \"Percent_25andOver_JustGradDegree_2006to2008\" \n",
       "[246] \"rGDPperCap_2000\"                             \n",
       "[247] \"rGDPperCap_2001\"                             \n",
       "[248] \"rGDPperCap_2002\"                             \n",
       "[249] \"rGDPperCap_2003\"                             \n",
       "[250] \"rGDPperCap_2004\"                             \n",
       "[251] \"rGDPperCap_2005\"                             \n",
       "[252] \"rGDPperCap_2006\"                             \n",
       "[253] \"rGDPperCap_2007\"                             \n",
       "[254] \"rGDPperCap_2008\"                             \n",
       "[255] \"rGDPperCap_2009\"                             \n",
       "[256] \"rGDPperCap_2010\"                             \n",
       "[257] \"rGDPperCap_2011\"                             \n",
       "[258] \"rGDPperCap_2012\"                             \n",
       "[259] \"Covid_mrate_2020\"                            "
      ]
     },
     "metadata": {},
     "output_type": "display_data"
    }
   ],
   "source": [
    "colnames(final)"
   ]
  },
  {
   "cell_type": "code",
   "execution_count": 173,
   "metadata": {},
   "outputs": [
    {
     "data": {
      "text/html": [
       "<table class=\"dataframe\">\n",
       "<caption>A data.frame: 6 × 259</caption>\n",
       "<thead>\n",
       "\t<tr><th></th><th scope=col>X</th><th scope=col>STATE</th><th scope=col>Year</th><th scope=col>TotPop_18to24</th><th scope=col>TotPop_25to34</th><th scope=col>TotPop_35to44</th><th scope=col>TotPop_45to64</th><th scope=col>TotPop_65</th><th scope=col>TotCPop_18to24</th><th scope=col>TotCPop_25to34</th><th scope=col>⋯</th><th scope=col>rGDPperCap_2004</th><th scope=col>rGDPperCap_2005</th><th scope=col>rGDPperCap_2006</th><th scope=col>rGDPperCap_2007</th><th scope=col>rGDPperCap_2008</th><th scope=col>rGDPperCap_2009</th><th scope=col>rGDPperCap_2010</th><th scope=col>rGDPperCap_2011</th><th scope=col>rGDPperCap_2012</th><th scope=col>Covid_mrate_2020</th></tr>\n",
       "\t<tr><th></th><th scope=col>&lt;int&gt;</th><th scope=col>&lt;chr&gt;</th><th scope=col>&lt;int&gt;</th><th scope=col>&lt;int&gt;</th><th scope=col>&lt;int&gt;</th><th scope=col>&lt;int&gt;</th><th scope=col>&lt;int&gt;</th><th scope=col>&lt;int&gt;</th><th scope=col>&lt;int&gt;</th><th scope=col>&lt;int&gt;</th><th scope=col>⋯</th><th scope=col>&lt;int&gt;</th><th scope=col>&lt;int&gt;</th><th scope=col>&lt;int&gt;</th><th scope=col>&lt;int&gt;</th><th scope=col>&lt;int&gt;</th><th scope=col>&lt;int&gt;</th><th scope=col>&lt;int&gt;</th><th scope=col>&lt;int&gt;</th><th scope=col>&lt;int&gt;</th><th scope=col>&lt;dbl&gt;</th></tr>\n",
       "</thead>\n",
       "<tbody>\n",
       "\t<tr><th scope=row>1</th><td>1</td><td>ALABAMA</td><td>2012</td><td>439</td><td>576</td><td>615</td><td>1297</td><td>667</td><td>428</td><td>535</td><td>⋯</td><td>32431</td><td>33036</td><td>33200</td><td>33253</td><td>33036</td><td>31493</td><td>32148</td><td>32354</td><td>32615</td><td>103.6</td></tr>\n",
       "\t<tr><th scope=row>2</th><td>2</td><td>ALABAMA</td><td>2014</td><td>482</td><td>555</td><td>610</td><td>1298</td><td>710</td><td>449</td><td>519</td><td>⋯</td><td>32431</td><td>33036</td><td>33200</td><td>33253</td><td>33036</td><td>31493</td><td>32148</td><td>32354</td><td>32615</td><td>103.6</td></tr>\n",
       "\t<tr><th scope=row>3</th><td>3</td><td>ALABAMA</td><td>2002</td><td>396</td><td> NA</td><td> NA</td><td>1115</td><td> NA</td><td>385</td><td> NA</td><td>⋯</td><td>32431</td><td>33036</td><td>33200</td><td>33253</td><td>33036</td><td>31493</td><td>32148</td><td>32354</td><td>32615</td><td>103.6</td></tr>\n",
       "\t<tr><th scope=row>4</th><td>4</td><td>ALABAMA</td><td>2004</td><td>413</td><td> NA</td><td> NA</td><td>1131</td><td> NA</td><td>387</td><td> NA</td><td>⋯</td><td>32431</td><td>33036</td><td>33200</td><td>33253</td><td>33036</td><td>31493</td><td>32148</td><td>32354</td><td>32615</td><td>103.6</td></tr>\n",
       "\t<tr><th scope=row>5</th><td>5</td><td>ALABAMA</td><td>2006</td><td> NA</td><td> NA</td><td> NA</td><td>  NA</td><td> NA</td><td> NA</td><td> NA</td><td>⋯</td><td>32431</td><td>33036</td><td>33200</td><td>33253</td><td>33036</td><td>31493</td><td>32148</td><td>32354</td><td>32615</td><td>103.6</td></tr>\n",
       "\t<tr><th scope=row>6</th><td>6</td><td>ALABAMA</td><td>2008</td><td>458</td><td> NA</td><td> NA</td><td>1210</td><td> NA</td><td>441</td><td> NA</td><td>⋯</td><td>32431</td><td>33036</td><td>33200</td><td>33253</td><td>33036</td><td>31493</td><td>32148</td><td>32354</td><td>32615</td><td>103.6</td></tr>\n",
       "</tbody>\n",
       "</table>\n"
      ],
      "text/latex": [
       "A data.frame: 6 × 259\n",
       "\\begin{tabular}{r|lllllllllllllllllllll}\n",
       "  & X & STATE & Year & TotPop\\_18to24 & TotPop\\_25to34 & TotPop\\_35to44 & TotPop\\_45to64 & TotPop\\_65 & TotCPop\\_18to24 & TotCPop\\_25to34 & ⋯ & rGDPperCap\\_2004 & rGDPperCap\\_2005 & rGDPperCap\\_2006 & rGDPperCap\\_2007 & rGDPperCap\\_2008 & rGDPperCap\\_2009 & rGDPperCap\\_2010 & rGDPperCap\\_2011 & rGDPperCap\\_2012 & Covid\\_mrate\\_2020\\\\\n",
       "  & <int> & <chr> & <int> & <int> & <int> & <int> & <int> & <int> & <int> & <int> & ⋯ & <int> & <int> & <int> & <int> & <int> & <int> & <int> & <int> & <int> & <dbl>\\\\\n",
       "\\hline\n",
       "\t1 & 1 & ALABAMA & 2012 & 439 & 576 & 615 & 1297 & 667 & 428 & 535 & ⋯ & 32431 & 33036 & 33200 & 33253 & 33036 & 31493 & 32148 & 32354 & 32615 & 103.6\\\\\n",
       "\t2 & 2 & ALABAMA & 2014 & 482 & 555 & 610 & 1298 & 710 & 449 & 519 & ⋯ & 32431 & 33036 & 33200 & 33253 & 33036 & 31493 & 32148 & 32354 & 32615 & 103.6\\\\\n",
       "\t3 & 3 & ALABAMA & 2002 & 396 &  NA &  NA & 1115 &  NA & 385 &  NA & ⋯ & 32431 & 33036 & 33200 & 33253 & 33036 & 31493 & 32148 & 32354 & 32615 & 103.6\\\\\n",
       "\t4 & 4 & ALABAMA & 2004 & 413 &  NA &  NA & 1131 &  NA & 387 &  NA & ⋯ & 32431 & 33036 & 33200 & 33253 & 33036 & 31493 & 32148 & 32354 & 32615 & 103.6\\\\\n",
       "\t5 & 5 & ALABAMA & 2006 &  NA &  NA &  NA &   NA &  NA &  NA &  NA & ⋯ & 32431 & 33036 & 33200 & 33253 & 33036 & 31493 & 32148 & 32354 & 32615 & 103.6\\\\\n",
       "\t6 & 6 & ALABAMA & 2008 & 458 &  NA &  NA & 1210 &  NA & 441 &  NA & ⋯ & 32431 & 33036 & 33200 & 33253 & 33036 & 31493 & 32148 & 32354 & 32615 & 103.6\\\\\n",
       "\\end{tabular}\n"
      ],
      "text/markdown": [
       "\n",
       "A data.frame: 6 × 259\n",
       "\n",
       "| <!--/--> | X &lt;int&gt; | STATE &lt;chr&gt; | Year &lt;int&gt; | TotPop_18to24 &lt;int&gt; | TotPop_25to34 &lt;int&gt; | TotPop_35to44 &lt;int&gt; | TotPop_45to64 &lt;int&gt; | TotPop_65 &lt;int&gt; | TotCPop_18to24 &lt;int&gt; | TotCPop_25to34 &lt;int&gt; | ⋯ ⋯ | rGDPperCap_2004 &lt;int&gt; | rGDPperCap_2005 &lt;int&gt; | rGDPperCap_2006 &lt;int&gt; | rGDPperCap_2007 &lt;int&gt; | rGDPperCap_2008 &lt;int&gt; | rGDPperCap_2009 &lt;int&gt; | rGDPperCap_2010 &lt;int&gt; | rGDPperCap_2011 &lt;int&gt; | rGDPperCap_2012 &lt;int&gt; | Covid_mrate_2020 &lt;dbl&gt; |\n",
       "|---|---|---|---|---|---|---|---|---|---|---|---|---|---|---|---|---|---|---|---|---|---|\n",
       "| 1 | 1 | ALABAMA | 2012 | 439 | 576 | 615 | 1297 | 667 | 428 | 535 | ⋯ | 32431 | 33036 | 33200 | 33253 | 33036 | 31493 | 32148 | 32354 | 32615 | 103.6 |\n",
       "| 2 | 2 | ALABAMA | 2014 | 482 | 555 | 610 | 1298 | 710 | 449 | 519 | ⋯ | 32431 | 33036 | 33200 | 33253 | 33036 | 31493 | 32148 | 32354 | 32615 | 103.6 |\n",
       "| 3 | 3 | ALABAMA | 2002 | 396 |  NA |  NA | 1115 |  NA | 385 |  NA | ⋯ | 32431 | 33036 | 33200 | 33253 | 33036 | 31493 | 32148 | 32354 | 32615 | 103.6 |\n",
       "| 4 | 4 | ALABAMA | 2004 | 413 |  NA |  NA | 1131 |  NA | 387 |  NA | ⋯ | 32431 | 33036 | 33200 | 33253 | 33036 | 31493 | 32148 | 32354 | 32615 | 103.6 |\n",
       "| 5 | 5 | ALABAMA | 2006 |  NA |  NA |  NA |   NA |  NA |  NA |  NA | ⋯ | 32431 | 33036 | 33200 | 33253 | 33036 | 31493 | 32148 | 32354 | 32615 | 103.6 |\n",
       "| 6 | 6 | ALABAMA | 2008 | 458 |  NA |  NA | 1210 |  NA | 441 |  NA | ⋯ | 32431 | 33036 | 33200 | 33253 | 33036 | 31493 | 32148 | 32354 | 32615 | 103.6 |\n",
       "\n"
      ],
      "text/plain": [
       "  X STATE   Year TotPop_18to24 TotPop_25to34 TotPop_35to44 TotPop_45to64\n",
       "1 1 ALABAMA 2012 439           576           615           1297         \n",
       "2 2 ALABAMA 2014 482           555           610           1298         \n",
       "3 3 ALABAMA 2002 396            NA            NA           1115         \n",
       "4 4 ALABAMA 2004 413            NA            NA           1131         \n",
       "5 5 ALABAMA 2006  NA            NA            NA             NA         \n",
       "6 6 ALABAMA 2008 458            NA            NA           1210         \n",
       "  TotPop_65 TotCPop_18to24 TotCPop_25to34 ⋯ rGDPperCap_2004 rGDPperCap_2005\n",
       "1 667       428            535            ⋯ 32431           33036          \n",
       "2 710       449            519            ⋯ 32431           33036          \n",
       "3  NA       385             NA            ⋯ 32431           33036          \n",
       "4  NA       387             NA            ⋯ 32431           33036          \n",
       "5  NA        NA             NA            ⋯ 32431           33036          \n",
       "6  NA       441             NA            ⋯ 32431           33036          \n",
       "  rGDPperCap_2006 rGDPperCap_2007 rGDPperCap_2008 rGDPperCap_2009\n",
       "1 33200           33253           33036           31493          \n",
       "2 33200           33253           33036           31493          \n",
       "3 33200           33253           33036           31493          \n",
       "4 33200           33253           33036           31493          \n",
       "5 33200           33253           33036           31493          \n",
       "6 33200           33253           33036           31493          \n",
       "  rGDPperCap_2010 rGDPperCap_2011 rGDPperCap_2012 Covid_mrate_2020\n",
       "1 32148           32354           32615           103.6           \n",
       "2 32148           32354           32615           103.6           \n",
       "3 32148           32354           32615           103.6           \n",
       "4 32148           32354           32615           103.6           \n",
       "5 32148           32354           32615           103.6           \n",
       "6 32148           32354           32615           103.6           "
      ]
     },
     "metadata": {},
     "output_type": "display_data"
    }
   ],
   "source": [
    "head(final)"
   ]
  },
  {
   "cell_type": "markdown",
   "metadata": {},
   "source": [
    "# Creating Table for Voted"
   ]
  },
  {
   "cell_type": "code",
   "execution_count": 269,
   "metadata": {},
   "outputs": [],
   "source": [
    "variables_1 <- c(\"PVoteC_18to24\", \"PVoteC_45to64\", \n",
    "                 \"PVoteC_Whitealoneorincombination\", \n",
    "                \"PVoteC_Blackaloneorincombination\"\n",
    "                )\n",
    "\n",
    "weights <- c(\"TotCPop_18to24\", \"TotCPop_45to64\", \n",
    "            \"TotCPop_Whitealoneorincombination\",\n",
    "             \"TotCPop_Blackaloneorincombination\"\n",
    "            )\n",
    "\n",
    "# Initialize an empty dataframe\n",
    "graph_data_v <- data.frame(Year = integer())\n",
    "\n",
    "# Iterate through the years\n",
    "for (year in seq(2000, 2020, by = 2)) {\n",
    "    # Subset data for the current year\n",
    "    year_data <- final[final$Year == year, ]\n",
    "    \n",
    "    \n",
    "    # Initialize vectors to store weighted averages\n",
    "    preclearance_weighted_avg <- numeric(length(variables_1))\n",
    "    semipreclearance_weighted_avg <- numeric(length(variables_1))\n",
    "    control_weighted_avg <- numeric(length(variables_1))\n",
    "    \n",
    "    # Calculate weighted averages for each variable\n",
    "    for (j in seq_along(variables_1)) {\n",
    "        preclearance_weighted_avg[j] <- weighted.mean(year_data[[variables_1[j]]][year_data$Treatment == 1],\n",
    "                                                      w = year_data[[weights[j]]][year_data$Treatment == 1], na.rm = TRUE)\n",
    "        \n",
    "        semipreclearance_weighted_avg[j] <- weighted.mean(year_data[[variables_1[j]]][year_data$Semi_treatment == 1],\n",
    "                                                  w = year_data[[weights[j]]][year_data$Semi_treatment == 1], na.rm = TRUE)\n",
    "        \n",
    "        \n",
    "        control_weighted_avg[j] <- weighted.mean(year_data[[variables_1[j]]][year_data$Treatment == 0 & year_data$Semi_treatment == 0],\n",
    "                                                  w = year_data[[weights[j]]][year_data$Treatment == 0 & year_data$Semi_treatment == 0], na.rm = TRUE)\n",
    "        \n",
    "    }\n",
    "    \n",
    "    # Create column names for the current year\n",
    "    preclearance_col_names <- paste0(\"Preclearance_WAvg_\", variables_1)\n",
    "    semipreclearance_col_names <- paste0(\"Semipreclearance_WAvg_\", variables_1)\n",
    "    control_col_names <- paste0(\"Control_WAvg_\", variables_1)\n",
    "    \n",
    "    # Create a dataframe for the current year\n",
    "    year_df <- data.frame(Year = year,\n",
    "                          setNames(as.list(preclearance_weighted_avg), preclearance_col_names),\n",
    "                          setNames(as.list(semipreclearance_weighted_avg), semipreclearance_col_names),\n",
    "                          setNames(as.list(control_weighted_avg), control_col_names))\n",
    "    \n",
    "    # Append data to graph_data dataframe\n",
    "    graph_data_v <- rbind(graph_data_v, year_df)\n",
    "}"
   ]
  },
  {
   "cell_type": "code",
   "execution_count": 270,
   "metadata": {},
   "outputs": [],
   "source": [
    "#Creating columns for 45to64 and 18to24 difference\n",
    "graph_data_v$Preclearance_dif_45to64_18to24 <- graph_data_v$Preclearance_WAvg_PVoteC_45to64 - graph_data_v$Preclearance_WAvg_PVoteC_18to24\n",
    "graph_data_v$Semipreclearance_dif_45to64_18to24 <- graph_data_v$Semipreclearance_WAvg_PVoteC_45to64 - graph_data_v$Semipreclearance_WAvg_PVoteC_18to24\n",
    "graph_data_v$Control_dif_45to64_18to24 <- graph_data_v$Control_WAvg_PVoteC_45to64 - graph_data_v$Control_WAvg_PVoteC_18to24\n",
    "\n"
   ]
  },
  {
   "cell_type": "code",
   "execution_count": 271,
   "metadata": {},
   "outputs": [],
   "source": [
    "#Creating columns for White and Black difference\n",
    "graph_data_v$Preclearance_dif_White_Black <- graph_data_v$Preclearance_WAvg_PVoteC_Whitealoneorincombination - graph_data_v$Preclearance_WAvg_PVoteC_Blackaloneorincombination\n",
    "graph_data_v$Semipreclearance_dif_White_Black <- graph_data_v$Semipreclearance_WAvg_PVoteC_Whitealoneorincombination - graph_data_v$Semipreclearance_WAvg_PVoteC_Blackaloneorincombination\n",
    "graph_data_v$Control_dif_White_Black <- graph_data_v$Control_WAvg_PVoteC_Whitealoneorincombination - graph_data_v$Control_WAvg_PVoteC_Blackaloneorincombination"
   ]
  },
  {
   "cell_type": "code",
   "execution_count": 272,
   "metadata": {
    "scrolled": true
   },
   "outputs": [
    {
     "data": {
      "text/html": [
       "<table class=\"dataframe\">\n",
       "<caption>A data.frame: 11 × 19</caption>\n",
       "<thead>\n",
       "\t<tr><th></th><th scope=col>Year</th><th scope=col>Preclearance_WAvg_PVoteC_18to24</th><th scope=col>Preclearance_WAvg_PVoteC_45to64</th><th scope=col>Preclearance_WAvg_PVoteC_Whitealoneorincombination</th><th scope=col>Preclearance_WAvg_PVoteC_Blackaloneorincombination</th><th scope=col>Semipreclearance_WAvg_PVoteC_18to24</th><th scope=col>Semipreclearance_WAvg_PVoteC_45to64</th><th scope=col>Semipreclearance_WAvg_PVoteC_Whitealoneorincombination</th><th scope=col>Semipreclearance_WAvg_PVoteC_Blackaloneorincombination</th><th scope=col>Control_WAvg_PVoteC_18to24</th><th scope=col>Control_WAvg_PVoteC_45to64</th><th scope=col>Control_WAvg_PVoteC_Whitealoneorincombination</th><th scope=col>Control_WAvg_PVoteC_Blackaloneorincombination</th><th scope=col>Preclearance_dif_45to64_18to24</th><th scope=col>Semipreclearance_dif_45to64_18to24</th><th scope=col>Control_dif_45to64_18to24</th><th scope=col>Preclearance_dif_White_Black</th><th scope=col>Semipreclearance_dif_White_Black</th><th scope=col>Control_dif_White_Black</th></tr>\n",
       "\t<tr><th></th><th scope=col>&lt;dbl&gt;</th><th scope=col>&lt;dbl&gt;</th><th scope=col>&lt;dbl&gt;</th><th scope=col>&lt;dbl&gt;</th><th scope=col>&lt;dbl&gt;</th><th scope=col>&lt;dbl&gt;</th><th scope=col>&lt;dbl&gt;</th><th scope=col>&lt;dbl&gt;</th><th scope=col>&lt;dbl&gt;</th><th scope=col>&lt;dbl&gt;</th><th scope=col>&lt;dbl&gt;</th><th scope=col>&lt;dbl&gt;</th><th scope=col>&lt;dbl&gt;</th><th scope=col>&lt;dbl&gt;</th><th scope=col>&lt;dbl&gt;</th><th scope=col>&lt;dbl&gt;</th><th scope=col>&lt;dbl&gt;</th><th scope=col>&lt;dbl&gt;</th><th scope=col>&lt;dbl&gt;</th></tr>\n",
       "</thead>\n",
       "<tbody>\n",
       "\t<tr><th scope=row>1</th><td>2000</td><td>35.33409</td><td>65.00868</td><td>57.08034</td><td>56.86832</td><td>35.49440</td><td>66.45517</td><td>60.55371</td><td>54.05005</td><td>36.80844</td><td>69.64811</td><td>61.63301</td><td>58.83378</td><td>29.67459</td><td>30.96077</td><td>32.83967</td><td> 0.2120230</td><td> 6.503659</td><td> 2.7992307</td></tr>\n",
       "\t<tr><th scope=row>2</th><td>2002</td><td>18.03443</td><td>52.89243</td><td>43.53202</td><td>41.87277</td><td>18.79065</td><td>54.09899</td><td>47.30229</td><td>40.85162</td><td>20.10403</td><td>58.45694</td><td>48.89794</td><td>43.85778</td><td>34.85800</td><td>35.30834</td><td>38.35291</td><td> 1.6592525</td><td> 6.450671</td><td> 5.0401561</td></tr>\n",
       "\t<tr><th scope=row>3</th><td>2004</td><td>42.69860</td><td>67.31650</td><td>61.32881</td><td>59.03175</td><td>46.44934</td><td>68.11128</td><td>64.58915</td><td>59.74327</td><td>48.57720</td><td>73.06689</td><td>67.16582</td><td>60.77727</td><td>24.61790</td><td>21.66194</td><td>24.48969</td><td> 2.2970524</td><td> 4.845871</td><td> 6.3885539</td></tr>\n",
       "\t<tr><th scope=row>4</th><td>2006</td><td>     NaN</td><td>     NaN</td><td>44.02342</td><td>41.02660</td><td>     NaN</td><td>     NaN</td><td>48.62093</td><td>39.60215</td><td>     NaN</td><td>     NaN</td><td>52.16366</td><td>42.06836</td><td>     NaN</td><td>     NaN</td><td>     NaN</td><td> 2.9968259</td><td> 9.018787</td><td>10.0952976</td></tr>\n",
       "\t<tr><th scope=row>5</th><td>2008</td><td>44.69669</td><td>68.40499</td><td>61.52265</td><td>67.30118</td><td>49.57096</td><td>68.72288</td><td>64.96692</td><td>62.05102</td><td>49.56354</td><td>69.71250</td><td>65.01537</td><td>64.57909</td><td>23.70829</td><td>19.15192</td><td>20.14896</td><td>-5.7785335</td><td> 2.915894</td><td> 0.4362799</td></tr>\n",
       "\t<tr><th scope=row>6</th><td>2010</td><td>20.69935</td><td>51.26626</td><td>42.76913</td><td>44.24392</td><td>23.22844</td><td>53.66126</td><td>47.55154</td><td>42.19548</td><td>20.26144</td><td>56.08714</td><td>47.54431</td><td>43.15032</td><td>30.56691</td><td>30.43281</td><td>35.82570</td><td>-1.4747869</td><td> 5.356066</td><td> 4.3939923</td></tr>\n",
       "\t<tr><th scope=row>7</th><td>2012</td><td>37.58865</td><td>67.03738</td><td>59.29383</td><td>66.20280</td><td>42.16159</td><td>65.85896</td><td>61.16986</td><td>66.07868</td><td>42.25137</td><td>69.41170</td><td>63.60318</td><td>65.53672</td><td>29.44873</td><td>23.69737</td><td>27.16033</td><td>-6.9089736</td><td>-4.908824</td><td>-1.9335402</td></tr>\n",
       "\t<tr><th scope=row>8</th><td>2014</td><td>17.28792</td><td>48.05885</td><td>40.50940</td><td>41.48969</td><td>17.06226</td><td>47.16665</td><td>41.50954</td><td>39.11553</td><td>17.12198</td><td>51.68236</td><td>45.31364</td><td>37.29442</td><td>30.77093</td><td>30.10439</td><td>34.56038</td><td>-0.9802893</td><td> 2.394009</td><td> 8.0192238</td></tr>\n",
       "\t<tr><th scope=row>9</th><td>2016</td><td>41.60262</td><td>65.83242</td><td>60.11742</td><td>60.69341</td><td>41.04961</td><td>64.73157</td><td>61.84912</td><td>56.36147</td><td>44.79061</td><td>68.16629</td><td>64.24932</td><td>59.46266</td><td>24.22980</td><td>23.68196</td><td>23.37568</td><td>-0.5759968</td><td> 5.487644</td><td> 4.7866618</td></tr>\n",
       "\t<tr><th scope=row>10</th><td>2018</td><td>30.39786</td><td>59.31352</td><td>52.57729</td><td>52.89736</td><td>33.19165</td><td>57.60320</td><td>54.23609</td><td>50.31675</td><td>32.84104</td><td>60.68734</td><td>56.08462</td><td>48.67272</td><td>28.91565</td><td>24.41155</td><td>27.84631</td><td>-0.3200671</td><td> 3.919342</td><td> 7.4118955</td></tr>\n",
       "\t<tr><th scope=row>11</th><td>2020</td><td>47.62839</td><td>71.50187</td><td>67.40291</td><td>61.47526</td><td>50.67754</td><td>68.00854</td><td>65.76535</td><td>61.99939</td><td>53.73795</td><td>72.56083</td><td>69.82782</td><td>63.69053</td><td>23.87348</td><td>17.33100</td><td>18.82288</td><td> 5.9276494</td><td> 3.765961</td><td> 6.1372886</td></tr>\n",
       "</tbody>\n",
       "</table>\n"
      ],
      "text/latex": [
       "A data.frame: 11 × 19\n",
       "\\begin{tabular}{r|lllllllllllllllllll}\n",
       "  & Year & Preclearance\\_WAvg\\_PVoteC\\_18to24 & Preclearance\\_WAvg\\_PVoteC\\_45to64 & Preclearance\\_WAvg\\_PVoteC\\_Whitealoneorincombination & Preclearance\\_WAvg\\_PVoteC\\_Blackaloneorincombination & Semipreclearance\\_WAvg\\_PVoteC\\_18to24 & Semipreclearance\\_WAvg\\_PVoteC\\_45to64 & Semipreclearance\\_WAvg\\_PVoteC\\_Whitealoneorincombination & Semipreclearance\\_WAvg\\_PVoteC\\_Blackaloneorincombination & Control\\_WAvg\\_PVoteC\\_18to24 & Control\\_WAvg\\_PVoteC\\_45to64 & Control\\_WAvg\\_PVoteC\\_Whitealoneorincombination & Control\\_WAvg\\_PVoteC\\_Blackaloneorincombination & Preclearance\\_dif\\_45to64\\_18to24 & Semipreclearance\\_dif\\_45to64\\_18to24 & Control\\_dif\\_45to64\\_18to24 & Preclearance\\_dif\\_White\\_Black & Semipreclearance\\_dif\\_White\\_Black & Control\\_dif\\_White\\_Black\\\\\n",
       "  & <dbl> & <dbl> & <dbl> & <dbl> & <dbl> & <dbl> & <dbl> & <dbl> & <dbl> & <dbl> & <dbl> & <dbl> & <dbl> & <dbl> & <dbl> & <dbl> & <dbl> & <dbl> & <dbl>\\\\\n",
       "\\hline\n",
       "\t1 & 2000 & 35.33409 & 65.00868 & 57.08034 & 56.86832 & 35.49440 & 66.45517 & 60.55371 & 54.05005 & 36.80844 & 69.64811 & 61.63301 & 58.83378 & 29.67459 & 30.96077 & 32.83967 &  0.2120230 &  6.503659 &  2.7992307\\\\\n",
       "\t2 & 2002 & 18.03443 & 52.89243 & 43.53202 & 41.87277 & 18.79065 & 54.09899 & 47.30229 & 40.85162 & 20.10403 & 58.45694 & 48.89794 & 43.85778 & 34.85800 & 35.30834 & 38.35291 &  1.6592525 &  6.450671 &  5.0401561\\\\\n",
       "\t3 & 2004 & 42.69860 & 67.31650 & 61.32881 & 59.03175 & 46.44934 & 68.11128 & 64.58915 & 59.74327 & 48.57720 & 73.06689 & 67.16582 & 60.77727 & 24.61790 & 21.66194 & 24.48969 &  2.2970524 &  4.845871 &  6.3885539\\\\\n",
       "\t4 & 2006 &      NaN &      NaN & 44.02342 & 41.02660 &      NaN &      NaN & 48.62093 & 39.60215 &      NaN &      NaN & 52.16366 & 42.06836 &      NaN &      NaN &      NaN &  2.9968259 &  9.018787 & 10.0952976\\\\\n",
       "\t5 & 2008 & 44.69669 & 68.40499 & 61.52265 & 67.30118 & 49.57096 & 68.72288 & 64.96692 & 62.05102 & 49.56354 & 69.71250 & 65.01537 & 64.57909 & 23.70829 & 19.15192 & 20.14896 & -5.7785335 &  2.915894 &  0.4362799\\\\\n",
       "\t6 & 2010 & 20.69935 & 51.26626 & 42.76913 & 44.24392 & 23.22844 & 53.66126 & 47.55154 & 42.19548 & 20.26144 & 56.08714 & 47.54431 & 43.15032 & 30.56691 & 30.43281 & 35.82570 & -1.4747869 &  5.356066 &  4.3939923\\\\\n",
       "\t7 & 2012 & 37.58865 & 67.03738 & 59.29383 & 66.20280 & 42.16159 & 65.85896 & 61.16986 & 66.07868 & 42.25137 & 69.41170 & 63.60318 & 65.53672 & 29.44873 & 23.69737 & 27.16033 & -6.9089736 & -4.908824 & -1.9335402\\\\\n",
       "\t8 & 2014 & 17.28792 & 48.05885 & 40.50940 & 41.48969 & 17.06226 & 47.16665 & 41.50954 & 39.11553 & 17.12198 & 51.68236 & 45.31364 & 37.29442 & 30.77093 & 30.10439 & 34.56038 & -0.9802893 &  2.394009 &  8.0192238\\\\\n",
       "\t9 & 2016 & 41.60262 & 65.83242 & 60.11742 & 60.69341 & 41.04961 & 64.73157 & 61.84912 & 56.36147 & 44.79061 & 68.16629 & 64.24932 & 59.46266 & 24.22980 & 23.68196 & 23.37568 & -0.5759968 &  5.487644 &  4.7866618\\\\\n",
       "\t10 & 2018 & 30.39786 & 59.31352 & 52.57729 & 52.89736 & 33.19165 & 57.60320 & 54.23609 & 50.31675 & 32.84104 & 60.68734 & 56.08462 & 48.67272 & 28.91565 & 24.41155 & 27.84631 & -0.3200671 &  3.919342 &  7.4118955\\\\\n",
       "\t11 & 2020 & 47.62839 & 71.50187 & 67.40291 & 61.47526 & 50.67754 & 68.00854 & 65.76535 & 61.99939 & 53.73795 & 72.56083 & 69.82782 & 63.69053 & 23.87348 & 17.33100 & 18.82288 &  5.9276494 &  3.765961 &  6.1372886\\\\\n",
       "\\end{tabular}\n"
      ],
      "text/markdown": [
       "\n",
       "A data.frame: 11 × 19\n",
       "\n",
       "| <!--/--> | Year &lt;dbl&gt; | Preclearance_WAvg_PVoteC_18to24 &lt;dbl&gt; | Preclearance_WAvg_PVoteC_45to64 &lt;dbl&gt; | Preclearance_WAvg_PVoteC_Whitealoneorincombination &lt;dbl&gt; | Preclearance_WAvg_PVoteC_Blackaloneorincombination &lt;dbl&gt; | Semipreclearance_WAvg_PVoteC_18to24 &lt;dbl&gt; | Semipreclearance_WAvg_PVoteC_45to64 &lt;dbl&gt; | Semipreclearance_WAvg_PVoteC_Whitealoneorincombination &lt;dbl&gt; | Semipreclearance_WAvg_PVoteC_Blackaloneorincombination &lt;dbl&gt; | Control_WAvg_PVoteC_18to24 &lt;dbl&gt; | Control_WAvg_PVoteC_45to64 &lt;dbl&gt; | Control_WAvg_PVoteC_Whitealoneorincombination &lt;dbl&gt; | Control_WAvg_PVoteC_Blackaloneorincombination &lt;dbl&gt; | Preclearance_dif_45to64_18to24 &lt;dbl&gt; | Semipreclearance_dif_45to64_18to24 &lt;dbl&gt; | Control_dif_45to64_18to24 &lt;dbl&gt; | Preclearance_dif_White_Black &lt;dbl&gt; | Semipreclearance_dif_White_Black &lt;dbl&gt; | Control_dif_White_Black &lt;dbl&gt; |\n",
       "|---|---|---|---|---|---|---|---|---|---|---|---|---|---|---|---|---|---|---|---|\n",
       "| 1 | 2000 | 35.33409 | 65.00868 | 57.08034 | 56.86832 | 35.49440 | 66.45517 | 60.55371 | 54.05005 | 36.80844 | 69.64811 | 61.63301 | 58.83378 | 29.67459 | 30.96077 | 32.83967 |  0.2120230 |  6.503659 |  2.7992307 |\n",
       "| 2 | 2002 | 18.03443 | 52.89243 | 43.53202 | 41.87277 | 18.79065 | 54.09899 | 47.30229 | 40.85162 | 20.10403 | 58.45694 | 48.89794 | 43.85778 | 34.85800 | 35.30834 | 38.35291 |  1.6592525 |  6.450671 |  5.0401561 |\n",
       "| 3 | 2004 | 42.69860 | 67.31650 | 61.32881 | 59.03175 | 46.44934 | 68.11128 | 64.58915 | 59.74327 | 48.57720 | 73.06689 | 67.16582 | 60.77727 | 24.61790 | 21.66194 | 24.48969 |  2.2970524 |  4.845871 |  6.3885539 |\n",
       "| 4 | 2006 |      NaN |      NaN | 44.02342 | 41.02660 |      NaN |      NaN | 48.62093 | 39.60215 |      NaN |      NaN | 52.16366 | 42.06836 |      NaN |      NaN |      NaN |  2.9968259 |  9.018787 | 10.0952976 |\n",
       "| 5 | 2008 | 44.69669 | 68.40499 | 61.52265 | 67.30118 | 49.57096 | 68.72288 | 64.96692 | 62.05102 | 49.56354 | 69.71250 | 65.01537 | 64.57909 | 23.70829 | 19.15192 | 20.14896 | -5.7785335 |  2.915894 |  0.4362799 |\n",
       "| 6 | 2010 | 20.69935 | 51.26626 | 42.76913 | 44.24392 | 23.22844 | 53.66126 | 47.55154 | 42.19548 | 20.26144 | 56.08714 | 47.54431 | 43.15032 | 30.56691 | 30.43281 | 35.82570 | -1.4747869 |  5.356066 |  4.3939923 |\n",
       "| 7 | 2012 | 37.58865 | 67.03738 | 59.29383 | 66.20280 | 42.16159 | 65.85896 | 61.16986 | 66.07868 | 42.25137 | 69.41170 | 63.60318 | 65.53672 | 29.44873 | 23.69737 | 27.16033 | -6.9089736 | -4.908824 | -1.9335402 |\n",
       "| 8 | 2014 | 17.28792 | 48.05885 | 40.50940 | 41.48969 | 17.06226 | 47.16665 | 41.50954 | 39.11553 | 17.12198 | 51.68236 | 45.31364 | 37.29442 | 30.77093 | 30.10439 | 34.56038 | -0.9802893 |  2.394009 |  8.0192238 |\n",
       "| 9 | 2016 | 41.60262 | 65.83242 | 60.11742 | 60.69341 | 41.04961 | 64.73157 | 61.84912 | 56.36147 | 44.79061 | 68.16629 | 64.24932 | 59.46266 | 24.22980 | 23.68196 | 23.37568 | -0.5759968 |  5.487644 |  4.7866618 |\n",
       "| 10 | 2018 | 30.39786 | 59.31352 | 52.57729 | 52.89736 | 33.19165 | 57.60320 | 54.23609 | 50.31675 | 32.84104 | 60.68734 | 56.08462 | 48.67272 | 28.91565 | 24.41155 | 27.84631 | -0.3200671 |  3.919342 |  7.4118955 |\n",
       "| 11 | 2020 | 47.62839 | 71.50187 | 67.40291 | 61.47526 | 50.67754 | 68.00854 | 65.76535 | 61.99939 | 53.73795 | 72.56083 | 69.82782 | 63.69053 | 23.87348 | 17.33100 | 18.82288 |  5.9276494 |  3.765961 |  6.1372886 |\n",
       "\n"
      ],
      "text/plain": [
       "   Year Preclearance_WAvg_PVoteC_18to24 Preclearance_WAvg_PVoteC_45to64\n",
       "1  2000 35.33409                        65.00868                       \n",
       "2  2002 18.03443                        52.89243                       \n",
       "3  2004 42.69860                        67.31650                       \n",
       "4  2006      NaN                             NaN                       \n",
       "5  2008 44.69669                        68.40499                       \n",
       "6  2010 20.69935                        51.26626                       \n",
       "7  2012 37.58865                        67.03738                       \n",
       "8  2014 17.28792                        48.05885                       \n",
       "9  2016 41.60262                        65.83242                       \n",
       "10 2018 30.39786                        59.31352                       \n",
       "11 2020 47.62839                        71.50187                       \n",
       "   Preclearance_WAvg_PVoteC_Whitealoneorincombination\n",
       "1  57.08034                                          \n",
       "2  43.53202                                          \n",
       "3  61.32881                                          \n",
       "4  44.02342                                          \n",
       "5  61.52265                                          \n",
       "6  42.76913                                          \n",
       "7  59.29383                                          \n",
       "8  40.50940                                          \n",
       "9  60.11742                                          \n",
       "10 52.57729                                          \n",
       "11 67.40291                                          \n",
       "   Preclearance_WAvg_PVoteC_Blackaloneorincombination\n",
       "1  56.86832                                          \n",
       "2  41.87277                                          \n",
       "3  59.03175                                          \n",
       "4  41.02660                                          \n",
       "5  67.30118                                          \n",
       "6  44.24392                                          \n",
       "7  66.20280                                          \n",
       "8  41.48969                                          \n",
       "9  60.69341                                          \n",
       "10 52.89736                                          \n",
       "11 61.47526                                          \n",
       "   Semipreclearance_WAvg_PVoteC_18to24 Semipreclearance_WAvg_PVoteC_45to64\n",
       "1  35.49440                            66.45517                           \n",
       "2  18.79065                            54.09899                           \n",
       "3  46.44934                            68.11128                           \n",
       "4       NaN                                 NaN                           \n",
       "5  49.57096                            68.72288                           \n",
       "6  23.22844                            53.66126                           \n",
       "7  42.16159                            65.85896                           \n",
       "8  17.06226                            47.16665                           \n",
       "9  41.04961                            64.73157                           \n",
       "10 33.19165                            57.60320                           \n",
       "11 50.67754                            68.00854                           \n",
       "   Semipreclearance_WAvg_PVoteC_Whitealoneorincombination\n",
       "1  60.55371                                              \n",
       "2  47.30229                                              \n",
       "3  64.58915                                              \n",
       "4  48.62093                                              \n",
       "5  64.96692                                              \n",
       "6  47.55154                                              \n",
       "7  61.16986                                              \n",
       "8  41.50954                                              \n",
       "9  61.84912                                              \n",
       "10 54.23609                                              \n",
       "11 65.76535                                              \n",
       "   Semipreclearance_WAvg_PVoteC_Blackaloneorincombination\n",
       "1  54.05005                                              \n",
       "2  40.85162                                              \n",
       "3  59.74327                                              \n",
       "4  39.60215                                              \n",
       "5  62.05102                                              \n",
       "6  42.19548                                              \n",
       "7  66.07868                                              \n",
       "8  39.11553                                              \n",
       "9  56.36147                                              \n",
       "10 50.31675                                              \n",
       "11 61.99939                                              \n",
       "   Control_WAvg_PVoteC_18to24 Control_WAvg_PVoteC_45to64\n",
       "1  36.80844                   69.64811                  \n",
       "2  20.10403                   58.45694                  \n",
       "3  48.57720                   73.06689                  \n",
       "4       NaN                        NaN                  \n",
       "5  49.56354                   69.71250                  \n",
       "6  20.26144                   56.08714                  \n",
       "7  42.25137                   69.41170                  \n",
       "8  17.12198                   51.68236                  \n",
       "9  44.79061                   68.16629                  \n",
       "10 32.84104                   60.68734                  \n",
       "11 53.73795                   72.56083                  \n",
       "   Control_WAvg_PVoteC_Whitealoneorincombination\n",
       "1  61.63301                                     \n",
       "2  48.89794                                     \n",
       "3  67.16582                                     \n",
       "4  52.16366                                     \n",
       "5  65.01537                                     \n",
       "6  47.54431                                     \n",
       "7  63.60318                                     \n",
       "8  45.31364                                     \n",
       "9  64.24932                                     \n",
       "10 56.08462                                     \n",
       "11 69.82782                                     \n",
       "   Control_WAvg_PVoteC_Blackaloneorincombination Preclearance_dif_45to64_18to24\n",
       "1  58.83378                                      29.67459                      \n",
       "2  43.85778                                      34.85800                      \n",
       "3  60.77727                                      24.61790                      \n",
       "4  42.06836                                           NaN                      \n",
       "5  64.57909                                      23.70829                      \n",
       "6  43.15032                                      30.56691                      \n",
       "7  65.53672                                      29.44873                      \n",
       "8  37.29442                                      30.77093                      \n",
       "9  59.46266                                      24.22980                      \n",
       "10 48.67272                                      28.91565                      \n",
       "11 63.69053                                      23.87348                      \n",
       "   Semipreclearance_dif_45to64_18to24 Control_dif_45to64_18to24\n",
       "1  30.96077                           32.83967                 \n",
       "2  35.30834                           38.35291                 \n",
       "3  21.66194                           24.48969                 \n",
       "4       NaN                                NaN                 \n",
       "5  19.15192                           20.14896                 \n",
       "6  30.43281                           35.82570                 \n",
       "7  23.69737                           27.16033                 \n",
       "8  30.10439                           34.56038                 \n",
       "9  23.68196                           23.37568                 \n",
       "10 24.41155                           27.84631                 \n",
       "11 17.33100                           18.82288                 \n",
       "   Preclearance_dif_White_Black Semipreclearance_dif_White_Black\n",
       "1   0.2120230                    6.503659                       \n",
       "2   1.6592525                    6.450671                       \n",
       "3   2.2970524                    4.845871                       \n",
       "4   2.9968259                    9.018787                       \n",
       "5  -5.7785335                    2.915894                       \n",
       "6  -1.4747869                    5.356066                       \n",
       "7  -6.9089736                   -4.908824                       \n",
       "8  -0.9802893                    2.394009                       \n",
       "9  -0.5759968                    5.487644                       \n",
       "10 -0.3200671                    3.919342                       \n",
       "11  5.9276494                    3.765961                       \n",
       "   Control_dif_White_Black\n",
       "1   2.7992307             \n",
       "2   5.0401561             \n",
       "3   6.3885539             \n",
       "4  10.0952976             \n",
       "5   0.4362799             \n",
       "6   4.3939923             \n",
       "7  -1.9335402             \n",
       "8   8.0192238             \n",
       "9   4.7866618             \n",
       "10  7.4118955             \n",
       "11  6.1372886             "
      ]
     },
     "metadata": {},
     "output_type": "display_data"
    }
   ],
   "source": [
    "head(graph_data_v, 20)"
   ]
  },
  {
   "cell_type": "markdown",
   "metadata": {},
   "source": [
    "## Pre-2013 Summary Statistics for Weighted Averages"
   ]
  },
  {
   "cell_type": "code",
   "execution_count": 178,
   "metadata": {},
   "outputs": [
    {
     "data": {
      "text/html": [
       "<table class=\"dataframe\">\n",
       "<caption>A data.frame: 5 × 18</caption>\n",
       "<thead>\n",
       "\t<tr><th></th><th scope=col>Preclearance_WAvg_PVoteC_18to24</th><th scope=col>Preclearance_WAvg_PVoteC_45to64</th><th scope=col>Preclearance_WAvg_PVoteC_Whitealoneorincombination</th><th scope=col>Preclearance_WAvg_PVoteC_Blackaloneorincombination</th><th scope=col>Semipreclearance_WAvg_PVoteC_18to24</th><th scope=col>Semipreclearance_WAvg_PVoteC_45to64</th><th scope=col>Semipreclearance_WAvg_PVoteC_Whitealoneorincombination</th><th scope=col>Semipreclearance_WAvg_PVoteC_Blackaloneorincombination</th><th scope=col>Control_WAvg_PVoteC_18to24</th><th scope=col>Control_WAvg_PVoteC_45to64</th><th scope=col>Control_WAvg_PVoteC_Whitealoneorincombination</th><th scope=col>Control_WAvg_PVoteC_Blackaloneorincombination</th><th scope=col>Preclearance_dif_45to64_18to24</th><th scope=col>Semipreclearance_dif_45to64_18to24</th><th scope=col>Control_dif_45to64_18to24</th><th scope=col>Preclearance_dif_White_Black</th><th scope=col>Semipreclearance_dif_White_Black</th><th scope=col>Control_dif_White_Black</th></tr>\n",
       "\t<tr><th></th><th scope=col>&lt;dbl&gt;</th><th scope=col>&lt;dbl&gt;</th><th scope=col>&lt;dbl&gt;</th><th scope=col>&lt;dbl&gt;</th><th scope=col>&lt;dbl&gt;</th><th scope=col>&lt;dbl&gt;</th><th scope=col>&lt;dbl&gt;</th><th scope=col>&lt;dbl&gt;</th><th scope=col>&lt;dbl&gt;</th><th scope=col>&lt;dbl&gt;</th><th scope=col>&lt;dbl&gt;</th><th scope=col>&lt;dbl&gt;</th><th scope=col>&lt;dbl&gt;</th><th scope=col>&lt;dbl&gt;</th><th scope=col>&lt;dbl&gt;</th><th scope=col>&lt;dbl&gt;</th><th scope=col>&lt;dbl&gt;</th><th scope=col>&lt;dbl&gt;</th></tr>\n",
       "</thead>\n",
       "<tbody>\n",
       "\t<tr><th scope=row>Min</th><td>18.03443</td><td>51.266265</td><td>42.769132</td><td>41.02660</td><td>18.79065</td><td>53.661256</td><td>47.30229</td><td>39.60215</td><td>20.10403</td><td>56.087141</td><td>47.544315</td><td>42.06836</td><td>23.708295</td><td>19.151921</td><td>20.148965</td><td>-6.9089736</td><td>-4.908824</td><td>-1.933540</td></tr>\n",
       "\t<tr><th scope=row>Max</th><td>44.69669</td><td>68.404989</td><td>61.522646</td><td>67.30118</td><td>49.57096</td><td>68.722878</td><td>64.96692</td><td>66.07868</td><td>49.56354</td><td>73.066888</td><td>67.165820</td><td>65.53672</td><td>34.858003</td><td>35.308340</td><td>38.352908</td><td> 2.9968259</td><td> 9.018787</td><td>10.095298</td></tr>\n",
       "\t<tr><th scope=row>Mean</th><td>33.17530</td><td>61.987707</td><td>52.792886</td><td>53.79248</td><td>35.94923</td><td>62.818090</td><td>56.39349</td><td>52.08175</td><td>36.26100</td><td>66.063880</td><td>58.003328</td><td>54.11476</td><td>28.812405</td><td>26.868860</td><td>29.802877</td><td>-0.9995915</td><td> 4.311732</td><td> 3.888567</td></tr>\n",
       "\t<tr><th scope=row>SD</th><td>11.24695</td><td> 7.770153</td><td> 8.877481</td><td>11.32574</td><td>12.57648</td><td> 7.003286</td><td> 8.18572</td><td>11.08654</td><td>13.28054</td><td> 6.982981</td><td> 8.206234</td><td>10.62357</td><td> 4.109055</td><td> 6.283182</td><td> 7.028665</td><td> 3.9446497</td><td> 4.469879</td><td> 3.944552</td></tr>\n",
       "\t<tr><th scope=row>Count</th><td> 6.00000</td><td> 6.000000</td><td> 7.000000</td><td> 7.00000</td><td> 6.00000</td><td> 6.000000</td><td> 7.00000</td><td> 7.00000</td><td> 6.00000</td><td> 6.000000</td><td> 7.000000</td><td> 7.00000</td><td> 6.000000</td><td> 6.000000</td><td> 6.000000</td><td> 7.0000000</td><td> 7.000000</td><td> 7.000000</td></tr>\n",
       "</tbody>\n",
       "</table>\n"
      ],
      "text/latex": [
       "A data.frame: 5 × 18\n",
       "\\begin{tabular}{r|llllllllllllllllll}\n",
       "  & Preclearance\\_WAvg\\_PVoteC\\_18to24 & Preclearance\\_WAvg\\_PVoteC\\_45to64 & Preclearance\\_WAvg\\_PVoteC\\_Whitealoneorincombination & Preclearance\\_WAvg\\_PVoteC\\_Blackaloneorincombination & Semipreclearance\\_WAvg\\_PVoteC\\_18to24 & Semipreclearance\\_WAvg\\_PVoteC\\_45to64 & Semipreclearance\\_WAvg\\_PVoteC\\_Whitealoneorincombination & Semipreclearance\\_WAvg\\_PVoteC\\_Blackaloneorincombination & Control\\_WAvg\\_PVoteC\\_18to24 & Control\\_WAvg\\_PVoteC\\_45to64 & Control\\_WAvg\\_PVoteC\\_Whitealoneorincombination & Control\\_WAvg\\_PVoteC\\_Blackaloneorincombination & Preclearance\\_dif\\_45to64\\_18to24 & Semipreclearance\\_dif\\_45to64\\_18to24 & Control\\_dif\\_45to64\\_18to24 & Preclearance\\_dif\\_White\\_Black & Semipreclearance\\_dif\\_White\\_Black & Control\\_dif\\_White\\_Black\\\\\n",
       "  & <dbl> & <dbl> & <dbl> & <dbl> & <dbl> & <dbl> & <dbl> & <dbl> & <dbl> & <dbl> & <dbl> & <dbl> & <dbl> & <dbl> & <dbl> & <dbl> & <dbl> & <dbl>\\\\\n",
       "\\hline\n",
       "\tMin & 18.03443 & 51.266265 & 42.769132 & 41.02660 & 18.79065 & 53.661256 & 47.30229 & 39.60215 & 20.10403 & 56.087141 & 47.544315 & 42.06836 & 23.708295 & 19.151921 & 20.148965 & -6.9089736 & -4.908824 & -1.933540\\\\\n",
       "\tMax & 44.69669 & 68.404989 & 61.522646 & 67.30118 & 49.57096 & 68.722878 & 64.96692 & 66.07868 & 49.56354 & 73.066888 & 67.165820 & 65.53672 & 34.858003 & 35.308340 & 38.352908 &  2.9968259 &  9.018787 & 10.095298\\\\\n",
       "\tMean & 33.17530 & 61.987707 & 52.792886 & 53.79248 & 35.94923 & 62.818090 & 56.39349 & 52.08175 & 36.26100 & 66.063880 & 58.003328 & 54.11476 & 28.812405 & 26.868860 & 29.802877 & -0.9995915 &  4.311732 &  3.888567\\\\\n",
       "\tSD & 11.24695 &  7.770153 &  8.877481 & 11.32574 & 12.57648 &  7.003286 &  8.18572 & 11.08654 & 13.28054 &  6.982981 &  8.206234 & 10.62357 &  4.109055 &  6.283182 &  7.028665 &  3.9446497 &  4.469879 &  3.944552\\\\\n",
       "\tCount &  6.00000 &  6.000000 &  7.000000 &  7.00000 &  6.00000 &  6.000000 &  7.00000 &  7.00000 &  6.00000 &  6.000000 &  7.000000 &  7.00000 &  6.000000 &  6.000000 &  6.000000 &  7.0000000 &  7.000000 &  7.000000\\\\\n",
       "\\end{tabular}\n"
      ],
      "text/markdown": [
       "\n",
       "A data.frame: 5 × 18\n",
       "\n",
       "| <!--/--> | Preclearance_WAvg_PVoteC_18to24 &lt;dbl&gt; | Preclearance_WAvg_PVoteC_45to64 &lt;dbl&gt; | Preclearance_WAvg_PVoteC_Whitealoneorincombination &lt;dbl&gt; | Preclearance_WAvg_PVoteC_Blackaloneorincombination &lt;dbl&gt; | Semipreclearance_WAvg_PVoteC_18to24 &lt;dbl&gt; | Semipreclearance_WAvg_PVoteC_45to64 &lt;dbl&gt; | Semipreclearance_WAvg_PVoteC_Whitealoneorincombination &lt;dbl&gt; | Semipreclearance_WAvg_PVoteC_Blackaloneorincombination &lt;dbl&gt; | Control_WAvg_PVoteC_18to24 &lt;dbl&gt; | Control_WAvg_PVoteC_45to64 &lt;dbl&gt; | Control_WAvg_PVoteC_Whitealoneorincombination &lt;dbl&gt; | Control_WAvg_PVoteC_Blackaloneorincombination &lt;dbl&gt; | Preclearance_dif_45to64_18to24 &lt;dbl&gt; | Semipreclearance_dif_45to64_18to24 &lt;dbl&gt; | Control_dif_45to64_18to24 &lt;dbl&gt; | Preclearance_dif_White_Black &lt;dbl&gt; | Semipreclearance_dif_White_Black &lt;dbl&gt; | Control_dif_White_Black &lt;dbl&gt; |\n",
       "|---|---|---|---|---|---|---|---|---|---|---|---|---|---|---|---|---|---|---|\n",
       "| Min | 18.03443 | 51.266265 | 42.769132 | 41.02660 | 18.79065 | 53.661256 | 47.30229 | 39.60215 | 20.10403 | 56.087141 | 47.544315 | 42.06836 | 23.708295 | 19.151921 | 20.148965 | -6.9089736 | -4.908824 | -1.933540 |\n",
       "| Max | 44.69669 | 68.404989 | 61.522646 | 67.30118 | 49.57096 | 68.722878 | 64.96692 | 66.07868 | 49.56354 | 73.066888 | 67.165820 | 65.53672 | 34.858003 | 35.308340 | 38.352908 |  2.9968259 |  9.018787 | 10.095298 |\n",
       "| Mean | 33.17530 | 61.987707 | 52.792886 | 53.79248 | 35.94923 | 62.818090 | 56.39349 | 52.08175 | 36.26100 | 66.063880 | 58.003328 | 54.11476 | 28.812405 | 26.868860 | 29.802877 | -0.9995915 |  4.311732 |  3.888567 |\n",
       "| SD | 11.24695 |  7.770153 |  8.877481 | 11.32574 | 12.57648 |  7.003286 |  8.18572 | 11.08654 | 13.28054 |  6.982981 |  8.206234 | 10.62357 |  4.109055 |  6.283182 |  7.028665 |  3.9446497 |  4.469879 |  3.944552 |\n",
       "| Count |  6.00000 |  6.000000 |  7.000000 |  7.00000 |  6.00000 |  6.000000 |  7.00000 |  7.00000 |  6.00000 |  6.000000 |  7.000000 |  7.00000 |  6.000000 |  6.000000 |  6.000000 |  7.0000000 |  7.000000 |  7.000000 |\n",
       "\n"
      ],
      "text/plain": [
       "      Preclearance_WAvg_PVoteC_18to24 Preclearance_WAvg_PVoteC_45to64\n",
       "Min   18.03443                        51.266265                      \n",
       "Max   44.69669                        68.404989                      \n",
       "Mean  33.17530                        61.987707                      \n",
       "SD    11.24695                         7.770153                      \n",
       "Count  6.00000                         6.000000                      \n",
       "      Preclearance_WAvg_PVoteC_Whitealoneorincombination\n",
       "Min   42.769132                                         \n",
       "Max   61.522646                                         \n",
       "Mean  52.792886                                         \n",
       "SD     8.877481                                         \n",
       "Count  7.000000                                         \n",
       "      Preclearance_WAvg_PVoteC_Blackaloneorincombination\n",
       "Min   41.02660                                          \n",
       "Max   67.30118                                          \n",
       "Mean  53.79248                                          \n",
       "SD    11.32574                                          \n",
       "Count  7.00000                                          \n",
       "      Semipreclearance_WAvg_PVoteC_18to24 Semipreclearance_WAvg_PVoteC_45to64\n",
       "Min   18.79065                            53.661256                          \n",
       "Max   49.57096                            68.722878                          \n",
       "Mean  35.94923                            62.818090                          \n",
       "SD    12.57648                             7.003286                          \n",
       "Count  6.00000                             6.000000                          \n",
       "      Semipreclearance_WAvg_PVoteC_Whitealoneorincombination\n",
       "Min   47.30229                                              \n",
       "Max   64.96692                                              \n",
       "Mean  56.39349                                              \n",
       "SD     8.18572                                              \n",
       "Count  7.00000                                              \n",
       "      Semipreclearance_WAvg_PVoteC_Blackaloneorincombination\n",
       "Min   39.60215                                              \n",
       "Max   66.07868                                              \n",
       "Mean  52.08175                                              \n",
       "SD    11.08654                                              \n",
       "Count  7.00000                                              \n",
       "      Control_WAvg_PVoteC_18to24 Control_WAvg_PVoteC_45to64\n",
       "Min   20.10403                   56.087141                 \n",
       "Max   49.56354                   73.066888                 \n",
       "Mean  36.26100                   66.063880                 \n",
       "SD    13.28054                    6.982981                 \n",
       "Count  6.00000                    6.000000                 \n",
       "      Control_WAvg_PVoteC_Whitealoneorincombination\n",
       "Min   47.544315                                    \n",
       "Max   67.165820                                    \n",
       "Mean  58.003328                                    \n",
       "SD     8.206234                                    \n",
       "Count  7.000000                                    \n",
       "      Control_WAvg_PVoteC_Blackaloneorincombination\n",
       "Min   42.06836                                     \n",
       "Max   65.53672                                     \n",
       "Mean  54.11476                                     \n",
       "SD    10.62357                                     \n",
       "Count  7.00000                                     \n",
       "      Preclearance_dif_45to64_18to24 Semipreclearance_dif_45to64_18to24\n",
       "Min   23.708295                      19.151921                         \n",
       "Max   34.858003                      35.308340                         \n",
       "Mean  28.812405                      26.868860                         \n",
       "SD     4.109055                       6.283182                         \n",
       "Count  6.000000                       6.000000                         \n",
       "      Control_dif_45to64_18to24 Preclearance_dif_White_Black\n",
       "Min   20.148965                 -6.9089736                  \n",
       "Max   38.352908                  2.9968259                  \n",
       "Mean  29.802877                 -0.9995915                  \n",
       "SD     7.028665                  3.9446497                  \n",
       "Count  6.000000                  7.0000000                  \n",
       "      Semipreclearance_dif_White_Black Control_dif_White_Black\n",
       "Min   -4.908824                        -1.933540              \n",
       "Max    9.018787                        10.095298              \n",
       "Mean   4.311732                         3.888567              \n",
       "SD     4.469879                         3.944552              \n",
       "Count  7.000000                         7.000000              "
      ]
     },
     "metadata": {},
     "output_type": "display_data"
    }
   ],
   "source": [
    "# Calculate summary statistics for each column\n",
    "subset_df <- graph_data_v[graph_data_v$Year < 2013, ]\n",
    "\n",
    "summary_stats <- apply(subset_df[, -1], 2, function(x) c(Min = min(x, na.rm = TRUE),\n",
    "                                                    Max = max(x, na.rm = TRUE),\n",
    "                                                    Mean = mean(x, na.rm = TRUE),\n",
    "                                                    SD = sd(x, na.rm = TRUE),\n",
    "                                                    Count = sum(!is.na(x))))\n",
    "\n",
    "# Create a dataframe from the summary statistics\n",
    "summary_df <- as.data.frame(summary_stats)\n",
    "\n",
    "# Print the summary dataframe\n",
    "head(summary_df)"
   ]
  },
  {
   "cell_type": "code",
   "execution_count": 179,
   "metadata": {},
   "outputs": [
    {
     "data": {
      "text/html": [
       "<table class=\"dataframe\">\n",
       "<caption>A data.frame: 5 × 1</caption>\n",
       "<thead>\n",
       "\t<tr><th></th><th scope=col>Preclearance_WAvg_PVoteC_18to24</th></tr>\n",
       "\t<tr><th></th><th scope=col>&lt;dbl&gt;</th></tr>\n",
       "</thead>\n",
       "<tbody>\n",
       "\t<tr><th scope=row>Min</th><td>18.03443</td></tr>\n",
       "\t<tr><th scope=row>Max</th><td>44.69669</td></tr>\n",
       "\t<tr><th scope=row>Mean</th><td>33.17530</td></tr>\n",
       "\t<tr><th scope=row>SD</th><td>11.24695</td></tr>\n",
       "\t<tr><th scope=row>Count</th><td> 6.00000</td></tr>\n",
       "</tbody>\n",
       "</table>\n"
      ],
      "text/latex": [
       "A data.frame: 5 × 1\n",
       "\\begin{tabular}{r|l}\n",
       "  & Preclearance\\_WAvg\\_PVoteC\\_18to24\\\\\n",
       "  & <dbl>\\\\\n",
       "\\hline\n",
       "\tMin & 18.03443\\\\\n",
       "\tMax & 44.69669\\\\\n",
       "\tMean & 33.17530\\\\\n",
       "\tSD & 11.24695\\\\\n",
       "\tCount &  6.00000\\\\\n",
       "\\end{tabular}\n"
      ],
      "text/markdown": [
       "\n",
       "A data.frame: 5 × 1\n",
       "\n",
       "| <!--/--> | Preclearance_WAvg_PVoteC_18to24 &lt;dbl&gt; |\n",
       "|---|---|\n",
       "| Min | 18.03443 |\n",
       "| Max | 44.69669 |\n",
       "| Mean | 33.17530 |\n",
       "| SD | 11.24695 |\n",
       "| Count |  6.00000 |\n",
       "\n"
      ],
      "text/plain": [
       "      Preclearance_WAvg_PVoteC_18to24\n",
       "Min   18.03443                       \n",
       "Max   44.69669                       \n",
       "Mean  33.17530                       \n",
       "SD    11.24695                       \n",
       "Count  6.00000                       "
      ]
     },
     "metadata": {},
     "output_type": "display_data"
    }
   ],
   "source": [
    "summary_df[\"Preclearance_WAvg_PVoteC_18to24\"]"
   ]
  },
  {
   "cell_type": "code",
   "execution_count": 180,
   "metadata": {},
   "outputs": [
    {
     "data": {
      "text/html": [
       "<table class=\"dataframe\">\n",
       "<caption>A data.frame: 5 × 1</caption>\n",
       "<thead>\n",
       "\t<tr><th></th><th scope=col>Semipreclearance_WAvg_PVoteC_18to24</th></tr>\n",
       "\t<tr><th></th><th scope=col>&lt;dbl&gt;</th></tr>\n",
       "</thead>\n",
       "<tbody>\n",
       "\t<tr><th scope=row>Min</th><td>18.79065</td></tr>\n",
       "\t<tr><th scope=row>Max</th><td>49.57096</td></tr>\n",
       "\t<tr><th scope=row>Mean</th><td>35.94923</td></tr>\n",
       "\t<tr><th scope=row>SD</th><td>12.57648</td></tr>\n",
       "\t<tr><th scope=row>Count</th><td> 6.00000</td></tr>\n",
       "</tbody>\n",
       "</table>\n"
      ],
      "text/latex": [
       "A data.frame: 5 × 1\n",
       "\\begin{tabular}{r|l}\n",
       "  & Semipreclearance\\_WAvg\\_PVoteC\\_18to24\\\\\n",
       "  & <dbl>\\\\\n",
       "\\hline\n",
       "\tMin & 18.79065\\\\\n",
       "\tMax & 49.57096\\\\\n",
       "\tMean & 35.94923\\\\\n",
       "\tSD & 12.57648\\\\\n",
       "\tCount &  6.00000\\\\\n",
       "\\end{tabular}\n"
      ],
      "text/markdown": [
       "\n",
       "A data.frame: 5 × 1\n",
       "\n",
       "| <!--/--> | Semipreclearance_WAvg_PVoteC_18to24 &lt;dbl&gt; |\n",
       "|---|---|\n",
       "| Min | 18.79065 |\n",
       "| Max | 49.57096 |\n",
       "| Mean | 35.94923 |\n",
       "| SD | 12.57648 |\n",
       "| Count |  6.00000 |\n",
       "\n"
      ],
      "text/plain": [
       "      Semipreclearance_WAvg_PVoteC_18to24\n",
       "Min   18.79065                           \n",
       "Max   49.57096                           \n",
       "Mean  35.94923                           \n",
       "SD    12.57648                           \n",
       "Count  6.00000                           "
      ]
     },
     "metadata": {},
     "output_type": "display_data"
    }
   ],
   "source": [
    "summary_df[\"Semipreclearance_WAvg_PVoteC_18to24\"]"
   ]
  },
  {
   "cell_type": "code",
   "execution_count": 181,
   "metadata": {},
   "outputs": [
    {
     "data": {
      "text/html": [
       "<table class=\"dataframe\">\n",
       "<caption>A data.frame: 5 × 1</caption>\n",
       "<thead>\n",
       "\t<tr><th></th><th scope=col>Control_WAvg_PVoteC_18to24</th></tr>\n",
       "\t<tr><th></th><th scope=col>&lt;dbl&gt;</th></tr>\n",
       "</thead>\n",
       "<tbody>\n",
       "\t<tr><th scope=row>Min</th><td>20.10403</td></tr>\n",
       "\t<tr><th scope=row>Max</th><td>49.56354</td></tr>\n",
       "\t<tr><th scope=row>Mean</th><td>36.26100</td></tr>\n",
       "\t<tr><th scope=row>SD</th><td>13.28054</td></tr>\n",
       "\t<tr><th scope=row>Count</th><td> 6.00000</td></tr>\n",
       "</tbody>\n",
       "</table>\n"
      ],
      "text/latex": [
       "A data.frame: 5 × 1\n",
       "\\begin{tabular}{r|l}\n",
       "  & Control\\_WAvg\\_PVoteC\\_18to24\\\\\n",
       "  & <dbl>\\\\\n",
       "\\hline\n",
       "\tMin & 20.10403\\\\\n",
       "\tMax & 49.56354\\\\\n",
       "\tMean & 36.26100\\\\\n",
       "\tSD & 13.28054\\\\\n",
       "\tCount &  6.00000\\\\\n",
       "\\end{tabular}\n"
      ],
      "text/markdown": [
       "\n",
       "A data.frame: 5 × 1\n",
       "\n",
       "| <!--/--> | Control_WAvg_PVoteC_18to24 &lt;dbl&gt; |\n",
       "|---|---|\n",
       "| Min | 20.10403 |\n",
       "| Max | 49.56354 |\n",
       "| Mean | 36.26100 |\n",
       "| SD | 13.28054 |\n",
       "| Count |  6.00000 |\n",
       "\n"
      ],
      "text/plain": [
       "      Control_WAvg_PVoteC_18to24\n",
       "Min   20.10403                  \n",
       "Max   49.56354                  \n",
       "Mean  36.26100                  \n",
       "SD    13.28054                  \n",
       "Count  6.00000                  "
      ]
     },
     "metadata": {},
     "output_type": "display_data"
    }
   ],
   "source": [
    "summary_df[\"Control_WAvg_PVoteC_18to24\"]"
   ]
  },
  {
   "cell_type": "code",
   "execution_count": 182,
   "metadata": {},
   "outputs": [
    {
     "data": {
      "text/html": [
       "<table class=\"dataframe\">\n",
       "<caption>A data.frame: 5 × 1</caption>\n",
       "<thead>\n",
       "\t<tr><th></th><th scope=col>Preclearance_WAvg_PVoteC_Blackaloneorincombination</th></tr>\n",
       "\t<tr><th></th><th scope=col>&lt;dbl&gt;</th></tr>\n",
       "</thead>\n",
       "<tbody>\n",
       "\t<tr><th scope=row>Min</th><td>41.02660</td></tr>\n",
       "\t<tr><th scope=row>Max</th><td>67.30118</td></tr>\n",
       "\t<tr><th scope=row>Mean</th><td>53.79248</td></tr>\n",
       "\t<tr><th scope=row>SD</th><td>11.32574</td></tr>\n",
       "\t<tr><th scope=row>Count</th><td> 7.00000</td></tr>\n",
       "</tbody>\n",
       "</table>\n"
      ],
      "text/latex": [
       "A data.frame: 5 × 1\n",
       "\\begin{tabular}{r|l}\n",
       "  & Preclearance\\_WAvg\\_PVoteC\\_Blackaloneorincombination\\\\\n",
       "  & <dbl>\\\\\n",
       "\\hline\n",
       "\tMin & 41.02660\\\\\n",
       "\tMax & 67.30118\\\\\n",
       "\tMean & 53.79248\\\\\n",
       "\tSD & 11.32574\\\\\n",
       "\tCount &  7.00000\\\\\n",
       "\\end{tabular}\n"
      ],
      "text/markdown": [
       "\n",
       "A data.frame: 5 × 1\n",
       "\n",
       "| <!--/--> | Preclearance_WAvg_PVoteC_Blackaloneorincombination &lt;dbl&gt; |\n",
       "|---|---|\n",
       "| Min | 41.02660 |\n",
       "| Max | 67.30118 |\n",
       "| Mean | 53.79248 |\n",
       "| SD | 11.32574 |\n",
       "| Count |  7.00000 |\n",
       "\n"
      ],
      "text/plain": [
       "      Preclearance_WAvg_PVoteC_Blackaloneorincombination\n",
       "Min   41.02660                                          \n",
       "Max   67.30118                                          \n",
       "Mean  53.79248                                          \n",
       "SD    11.32574                                          \n",
       "Count  7.00000                                          "
      ]
     },
     "metadata": {},
     "output_type": "display_data"
    }
   ],
   "source": [
    "summary_df[\"Preclearance_WAvg_PVoteC_Blackaloneorincombination\"]"
   ]
  },
  {
   "cell_type": "code",
   "execution_count": 183,
   "metadata": {},
   "outputs": [
    {
     "data": {
      "text/html": [
       "<table class=\"dataframe\">\n",
       "<caption>A data.frame: 5 × 1</caption>\n",
       "<thead>\n",
       "\t<tr><th></th><th scope=col>Semipreclearance_WAvg_PVoteC_Blackaloneorincombination</th></tr>\n",
       "\t<tr><th></th><th scope=col>&lt;dbl&gt;</th></tr>\n",
       "</thead>\n",
       "<tbody>\n",
       "\t<tr><th scope=row>Min</th><td>39.60215</td></tr>\n",
       "\t<tr><th scope=row>Max</th><td>66.07868</td></tr>\n",
       "\t<tr><th scope=row>Mean</th><td>52.08175</td></tr>\n",
       "\t<tr><th scope=row>SD</th><td>11.08654</td></tr>\n",
       "\t<tr><th scope=row>Count</th><td> 7.00000</td></tr>\n",
       "</tbody>\n",
       "</table>\n"
      ],
      "text/latex": [
       "A data.frame: 5 × 1\n",
       "\\begin{tabular}{r|l}\n",
       "  & Semipreclearance\\_WAvg\\_PVoteC\\_Blackaloneorincombination\\\\\n",
       "  & <dbl>\\\\\n",
       "\\hline\n",
       "\tMin & 39.60215\\\\\n",
       "\tMax & 66.07868\\\\\n",
       "\tMean & 52.08175\\\\\n",
       "\tSD & 11.08654\\\\\n",
       "\tCount &  7.00000\\\\\n",
       "\\end{tabular}\n"
      ],
      "text/markdown": [
       "\n",
       "A data.frame: 5 × 1\n",
       "\n",
       "| <!--/--> | Semipreclearance_WAvg_PVoteC_Blackaloneorincombination &lt;dbl&gt; |\n",
       "|---|---|\n",
       "| Min | 39.60215 |\n",
       "| Max | 66.07868 |\n",
       "| Mean | 52.08175 |\n",
       "| SD | 11.08654 |\n",
       "| Count |  7.00000 |\n",
       "\n"
      ],
      "text/plain": [
       "      Semipreclearance_WAvg_PVoteC_Blackaloneorincombination\n",
       "Min   39.60215                                              \n",
       "Max   66.07868                                              \n",
       "Mean  52.08175                                              \n",
       "SD    11.08654                                              \n",
       "Count  7.00000                                              "
      ]
     },
     "metadata": {},
     "output_type": "display_data"
    }
   ],
   "source": [
    "summary_df[\"Semipreclearance_WAvg_PVoteC_Blackaloneorincombination\"]"
   ]
  },
  {
   "cell_type": "code",
   "execution_count": 184,
   "metadata": {
    "scrolled": true
   },
   "outputs": [
    {
     "data": {
      "text/html": [
       "<table class=\"dataframe\">\n",
       "<caption>A data.frame: 5 × 1</caption>\n",
       "<thead>\n",
       "\t<tr><th></th><th scope=col>Control_WAvg_PVoteC_Blackaloneorincombination</th></tr>\n",
       "\t<tr><th></th><th scope=col>&lt;dbl&gt;</th></tr>\n",
       "</thead>\n",
       "<tbody>\n",
       "\t<tr><th scope=row>Min</th><td>42.06836</td></tr>\n",
       "\t<tr><th scope=row>Max</th><td>65.53672</td></tr>\n",
       "\t<tr><th scope=row>Mean</th><td>54.11476</td></tr>\n",
       "\t<tr><th scope=row>SD</th><td>10.62357</td></tr>\n",
       "\t<tr><th scope=row>Count</th><td> 7.00000</td></tr>\n",
       "</tbody>\n",
       "</table>\n"
      ],
      "text/latex": [
       "A data.frame: 5 × 1\n",
       "\\begin{tabular}{r|l}\n",
       "  & Control\\_WAvg\\_PVoteC\\_Blackaloneorincombination\\\\\n",
       "  & <dbl>\\\\\n",
       "\\hline\n",
       "\tMin & 42.06836\\\\\n",
       "\tMax & 65.53672\\\\\n",
       "\tMean & 54.11476\\\\\n",
       "\tSD & 10.62357\\\\\n",
       "\tCount &  7.00000\\\\\n",
       "\\end{tabular}\n"
      ],
      "text/markdown": [
       "\n",
       "A data.frame: 5 × 1\n",
       "\n",
       "| <!--/--> | Control_WAvg_PVoteC_Blackaloneorincombination &lt;dbl&gt; |\n",
       "|---|---|\n",
       "| Min | 42.06836 |\n",
       "| Max | 65.53672 |\n",
       "| Mean | 54.11476 |\n",
       "| SD | 10.62357 |\n",
       "| Count |  7.00000 |\n",
       "\n"
      ],
      "text/plain": [
       "      Control_WAvg_PVoteC_Blackaloneorincombination\n",
       "Min   42.06836                                     \n",
       "Max   65.53672                                     \n",
       "Mean  54.11476                                     \n",
       "SD    10.62357                                     \n",
       "Count  7.00000                                     "
      ]
     },
     "metadata": {},
     "output_type": "display_data"
    }
   ],
   "source": [
    "summary_df[\"Control_WAvg_PVoteC_Blackaloneorincombination\"]"
   ]
  },
  {
   "cell_type": "code",
   "execution_count": 185,
   "metadata": {},
   "outputs": [
    {
     "data": {
      "text/html": [
       "<table class=\"dataframe\">\n",
       "<caption>A data.frame: 5 × 1</caption>\n",
       "<thead>\n",
       "\t<tr><th></th><th scope=col>Preclearance_dif_45to64_18to24</th></tr>\n",
       "\t<tr><th></th><th scope=col>&lt;dbl&gt;</th></tr>\n",
       "</thead>\n",
       "<tbody>\n",
       "\t<tr><th scope=row>Min</th><td>23.708295</td></tr>\n",
       "\t<tr><th scope=row>Max</th><td>34.858003</td></tr>\n",
       "\t<tr><th scope=row>Mean</th><td>28.812405</td></tr>\n",
       "\t<tr><th scope=row>SD</th><td> 4.109055</td></tr>\n",
       "\t<tr><th scope=row>Count</th><td> 6.000000</td></tr>\n",
       "</tbody>\n",
       "</table>\n"
      ],
      "text/latex": [
       "A data.frame: 5 × 1\n",
       "\\begin{tabular}{r|l}\n",
       "  & Preclearance\\_dif\\_45to64\\_18to24\\\\\n",
       "  & <dbl>\\\\\n",
       "\\hline\n",
       "\tMin & 23.708295\\\\\n",
       "\tMax & 34.858003\\\\\n",
       "\tMean & 28.812405\\\\\n",
       "\tSD &  4.109055\\\\\n",
       "\tCount &  6.000000\\\\\n",
       "\\end{tabular}\n"
      ],
      "text/markdown": [
       "\n",
       "A data.frame: 5 × 1\n",
       "\n",
       "| <!--/--> | Preclearance_dif_45to64_18to24 &lt;dbl&gt; |\n",
       "|---|---|\n",
       "| Min | 23.708295 |\n",
       "| Max | 34.858003 |\n",
       "| Mean | 28.812405 |\n",
       "| SD |  4.109055 |\n",
       "| Count |  6.000000 |\n",
       "\n"
      ],
      "text/plain": [
       "      Preclearance_dif_45to64_18to24\n",
       "Min   23.708295                     \n",
       "Max   34.858003                     \n",
       "Mean  28.812405                     \n",
       "SD     4.109055                     \n",
       "Count  6.000000                     "
      ]
     },
     "metadata": {},
     "output_type": "display_data"
    }
   ],
   "source": [
    "summary_df[\"Preclearance_dif_45to64_18to24\"]"
   ]
  },
  {
   "cell_type": "code",
   "execution_count": 186,
   "metadata": {},
   "outputs": [
    {
     "data": {
      "text/html": [
       "<table class=\"dataframe\">\n",
       "<caption>A data.frame: 5 × 1</caption>\n",
       "<thead>\n",
       "\t<tr><th></th><th scope=col>Semipreclearance_dif_45to64_18to24</th></tr>\n",
       "\t<tr><th></th><th scope=col>&lt;dbl&gt;</th></tr>\n",
       "</thead>\n",
       "<tbody>\n",
       "\t<tr><th scope=row>Min</th><td>19.151921</td></tr>\n",
       "\t<tr><th scope=row>Max</th><td>35.308340</td></tr>\n",
       "\t<tr><th scope=row>Mean</th><td>26.868860</td></tr>\n",
       "\t<tr><th scope=row>SD</th><td> 6.283182</td></tr>\n",
       "\t<tr><th scope=row>Count</th><td> 6.000000</td></tr>\n",
       "</tbody>\n",
       "</table>\n"
      ],
      "text/latex": [
       "A data.frame: 5 × 1\n",
       "\\begin{tabular}{r|l}\n",
       "  & Semipreclearance\\_dif\\_45to64\\_18to24\\\\\n",
       "  & <dbl>\\\\\n",
       "\\hline\n",
       "\tMin & 19.151921\\\\\n",
       "\tMax & 35.308340\\\\\n",
       "\tMean & 26.868860\\\\\n",
       "\tSD &  6.283182\\\\\n",
       "\tCount &  6.000000\\\\\n",
       "\\end{tabular}\n"
      ],
      "text/markdown": [
       "\n",
       "A data.frame: 5 × 1\n",
       "\n",
       "| <!--/--> | Semipreclearance_dif_45to64_18to24 &lt;dbl&gt; |\n",
       "|---|---|\n",
       "| Min | 19.151921 |\n",
       "| Max | 35.308340 |\n",
       "| Mean | 26.868860 |\n",
       "| SD |  6.283182 |\n",
       "| Count |  6.000000 |\n",
       "\n"
      ],
      "text/plain": [
       "      Semipreclearance_dif_45to64_18to24\n",
       "Min   19.151921                         \n",
       "Max   35.308340                         \n",
       "Mean  26.868860                         \n",
       "SD     6.283182                         \n",
       "Count  6.000000                         "
      ]
     },
     "metadata": {},
     "output_type": "display_data"
    }
   ],
   "source": [
    "summary_df[\"Semipreclearance_dif_45to64_18to24\"]"
   ]
  },
  {
   "cell_type": "code",
   "execution_count": 187,
   "metadata": {},
   "outputs": [
    {
     "data": {
      "text/html": [
       "<table class=\"dataframe\">\n",
       "<caption>A data.frame: 5 × 1</caption>\n",
       "<thead>\n",
       "\t<tr><th></th><th scope=col>Control_dif_45to64_18to24</th></tr>\n",
       "\t<tr><th></th><th scope=col>&lt;dbl&gt;</th></tr>\n",
       "</thead>\n",
       "<tbody>\n",
       "\t<tr><th scope=row>Min</th><td>20.148965</td></tr>\n",
       "\t<tr><th scope=row>Max</th><td>38.352908</td></tr>\n",
       "\t<tr><th scope=row>Mean</th><td>29.802877</td></tr>\n",
       "\t<tr><th scope=row>SD</th><td> 7.028665</td></tr>\n",
       "\t<tr><th scope=row>Count</th><td> 6.000000</td></tr>\n",
       "</tbody>\n",
       "</table>\n"
      ],
      "text/latex": [
       "A data.frame: 5 × 1\n",
       "\\begin{tabular}{r|l}\n",
       "  & Control\\_dif\\_45to64\\_18to24\\\\\n",
       "  & <dbl>\\\\\n",
       "\\hline\n",
       "\tMin & 20.148965\\\\\n",
       "\tMax & 38.352908\\\\\n",
       "\tMean & 29.802877\\\\\n",
       "\tSD &  7.028665\\\\\n",
       "\tCount &  6.000000\\\\\n",
       "\\end{tabular}\n"
      ],
      "text/markdown": [
       "\n",
       "A data.frame: 5 × 1\n",
       "\n",
       "| <!--/--> | Control_dif_45to64_18to24 &lt;dbl&gt; |\n",
       "|---|---|\n",
       "| Min | 20.148965 |\n",
       "| Max | 38.352908 |\n",
       "| Mean | 29.802877 |\n",
       "| SD |  7.028665 |\n",
       "| Count |  6.000000 |\n",
       "\n"
      ],
      "text/plain": [
       "      Control_dif_45to64_18to24\n",
       "Min   20.148965                \n",
       "Max   38.352908                \n",
       "Mean  29.802877                \n",
       "SD     7.028665                \n",
       "Count  6.000000                "
      ]
     },
     "metadata": {},
     "output_type": "display_data"
    }
   ],
   "source": [
    "summary_df[\"Control_dif_45to64_18to24\"]"
   ]
  },
  {
   "cell_type": "code",
   "execution_count": 188,
   "metadata": {},
   "outputs": [
    {
     "data": {
      "text/html": [
       "<table class=\"dataframe\">\n",
       "<caption>A data.frame: 5 × 1</caption>\n",
       "<thead>\n",
       "\t<tr><th></th><th scope=col>Preclearance_dif_White_Black</th></tr>\n",
       "\t<tr><th></th><th scope=col>&lt;dbl&gt;</th></tr>\n",
       "</thead>\n",
       "<tbody>\n",
       "\t<tr><th scope=row>Min</th><td>-6.9089736</td></tr>\n",
       "\t<tr><th scope=row>Max</th><td> 2.9968259</td></tr>\n",
       "\t<tr><th scope=row>Mean</th><td>-0.9995915</td></tr>\n",
       "\t<tr><th scope=row>SD</th><td> 3.9446497</td></tr>\n",
       "\t<tr><th scope=row>Count</th><td> 7.0000000</td></tr>\n",
       "</tbody>\n",
       "</table>\n"
      ],
      "text/latex": [
       "A data.frame: 5 × 1\n",
       "\\begin{tabular}{r|l}\n",
       "  & Preclearance\\_dif\\_White\\_Black\\\\\n",
       "  & <dbl>\\\\\n",
       "\\hline\n",
       "\tMin & -6.9089736\\\\\n",
       "\tMax &  2.9968259\\\\\n",
       "\tMean & -0.9995915\\\\\n",
       "\tSD &  3.9446497\\\\\n",
       "\tCount &  7.0000000\\\\\n",
       "\\end{tabular}\n"
      ],
      "text/markdown": [
       "\n",
       "A data.frame: 5 × 1\n",
       "\n",
       "| <!--/--> | Preclearance_dif_White_Black &lt;dbl&gt; |\n",
       "|---|---|\n",
       "| Min | -6.9089736 |\n",
       "| Max |  2.9968259 |\n",
       "| Mean | -0.9995915 |\n",
       "| SD |  3.9446497 |\n",
       "| Count |  7.0000000 |\n",
       "\n"
      ],
      "text/plain": [
       "      Preclearance_dif_White_Black\n",
       "Min   -6.9089736                  \n",
       "Max    2.9968259                  \n",
       "Mean  -0.9995915                  \n",
       "SD     3.9446497                  \n",
       "Count  7.0000000                  "
      ]
     },
     "metadata": {},
     "output_type": "display_data"
    }
   ],
   "source": [
    "summary_df[\"Preclearance_dif_White_Black\"]"
   ]
  },
  {
   "cell_type": "code",
   "execution_count": 189,
   "metadata": {},
   "outputs": [
    {
     "data": {
      "text/html": [
       "<table class=\"dataframe\">\n",
       "<caption>A data.frame: 5 × 1</caption>\n",
       "<thead>\n",
       "\t<tr><th></th><th scope=col>Semipreclearance_dif_White_Black</th></tr>\n",
       "\t<tr><th></th><th scope=col>&lt;dbl&gt;</th></tr>\n",
       "</thead>\n",
       "<tbody>\n",
       "\t<tr><th scope=row>Min</th><td>-4.908824</td></tr>\n",
       "\t<tr><th scope=row>Max</th><td> 9.018787</td></tr>\n",
       "\t<tr><th scope=row>Mean</th><td> 4.311732</td></tr>\n",
       "\t<tr><th scope=row>SD</th><td> 4.469879</td></tr>\n",
       "\t<tr><th scope=row>Count</th><td> 7.000000</td></tr>\n",
       "</tbody>\n",
       "</table>\n"
      ],
      "text/latex": [
       "A data.frame: 5 × 1\n",
       "\\begin{tabular}{r|l}\n",
       "  & Semipreclearance\\_dif\\_White\\_Black\\\\\n",
       "  & <dbl>\\\\\n",
       "\\hline\n",
       "\tMin & -4.908824\\\\\n",
       "\tMax &  9.018787\\\\\n",
       "\tMean &  4.311732\\\\\n",
       "\tSD &  4.469879\\\\\n",
       "\tCount &  7.000000\\\\\n",
       "\\end{tabular}\n"
      ],
      "text/markdown": [
       "\n",
       "A data.frame: 5 × 1\n",
       "\n",
       "| <!--/--> | Semipreclearance_dif_White_Black &lt;dbl&gt; |\n",
       "|---|---|\n",
       "| Min | -4.908824 |\n",
       "| Max |  9.018787 |\n",
       "| Mean |  4.311732 |\n",
       "| SD |  4.469879 |\n",
       "| Count |  7.000000 |\n",
       "\n"
      ],
      "text/plain": [
       "      Semipreclearance_dif_White_Black\n",
       "Min   -4.908824                       \n",
       "Max    9.018787                       \n",
       "Mean   4.311732                       \n",
       "SD     4.469879                       \n",
       "Count  7.000000                       "
      ]
     },
     "metadata": {},
     "output_type": "display_data"
    }
   ],
   "source": [
    "summary_df[\"Semipreclearance_dif_White_Black\"]"
   ]
  },
  {
   "cell_type": "code",
   "execution_count": 190,
   "metadata": {},
   "outputs": [
    {
     "data": {
      "text/html": [
       "<table class=\"dataframe\">\n",
       "<caption>A data.frame: 5 × 1</caption>\n",
       "<thead>\n",
       "\t<tr><th></th><th scope=col>Control_dif_White_Black</th></tr>\n",
       "\t<tr><th></th><th scope=col>&lt;dbl&gt;</th></tr>\n",
       "</thead>\n",
       "<tbody>\n",
       "\t<tr><th scope=row>Min</th><td>-1.933540</td></tr>\n",
       "\t<tr><th scope=row>Max</th><td>10.095298</td></tr>\n",
       "\t<tr><th scope=row>Mean</th><td> 3.888567</td></tr>\n",
       "\t<tr><th scope=row>SD</th><td> 3.944552</td></tr>\n",
       "\t<tr><th scope=row>Count</th><td> 7.000000</td></tr>\n",
       "</tbody>\n",
       "</table>\n"
      ],
      "text/latex": [
       "A data.frame: 5 × 1\n",
       "\\begin{tabular}{r|l}\n",
       "  & Control\\_dif\\_White\\_Black\\\\\n",
       "  & <dbl>\\\\\n",
       "\\hline\n",
       "\tMin & -1.933540\\\\\n",
       "\tMax & 10.095298\\\\\n",
       "\tMean &  3.888567\\\\\n",
       "\tSD &  3.944552\\\\\n",
       "\tCount &  7.000000\\\\\n",
       "\\end{tabular}\n"
      ],
      "text/markdown": [
       "\n",
       "A data.frame: 5 × 1\n",
       "\n",
       "| <!--/--> | Control_dif_White_Black &lt;dbl&gt; |\n",
       "|---|---|\n",
       "| Min | -1.933540 |\n",
       "| Max | 10.095298 |\n",
       "| Mean |  3.888567 |\n",
       "| SD |  3.944552 |\n",
       "| Count |  7.000000 |\n",
       "\n"
      ],
      "text/plain": [
       "      Control_dif_White_Black\n",
       "Min   -1.933540              \n",
       "Max   10.095298              \n",
       "Mean   3.888567              \n",
       "SD     3.944552              \n",
       "Count  7.000000              "
      ]
     },
     "metadata": {},
     "output_type": "display_data"
    }
   ],
   "source": [
    "summary_df[\"Control_dif_White_Black\"]"
   ]
  },
  {
   "cell_type": "markdown",
   "metadata": {},
   "source": [
    "### Counts for 18-24"
   ]
  },
  {
   "cell_type": "code",
   "execution_count": 191,
   "metadata": {},
   "outputs": [
    {
     "name": "stdout",
     "output_type": "stream",
     "text": [
      "[1] 53\n"
     ]
    }
   ],
   "source": [
    "#Getting the counts\n",
    "# Count the number of rows meeting the criteria\n",
    "num_rows <- final %>%\n",
    "  filter(Treatment == 1, Year < 2013, !is.na(PVoteC_18to24)) %>%\n",
    "  nrow()\n",
    "\n",
    "# Print the count\n",
    "print(num_rows)\n",
    "\n",
    "\n",
    "\n"
   ]
  },
  {
   "cell_type": "code",
   "execution_count": 192,
   "metadata": {},
   "outputs": [
    {
     "name": "stdout",
     "output_type": "stream",
     "text": [
      "[1] 35\n"
     ]
    }
   ],
   "source": [
    "#Getting the counts\n",
    "# Count the number of rows meeting the criteria\n",
    "num_rows <- final %>%\n",
    "  filter(Semi_treatment == 1, Year < 2013, !is.na(PVoteC_18to24)) %>%\n",
    "  nrow()\n",
    "\n",
    "# Print the count\n",
    "print(num_rows)\n",
    "\n",
    "\n"
   ]
  },
  {
   "cell_type": "code",
   "execution_count": 193,
   "metadata": {},
   "outputs": [
    {
     "name": "stdout",
     "output_type": "stream",
     "text": [
      "[1] 208\n"
     ]
    }
   ],
   "source": [
    "#Getting the counts\n",
    "# Count the number of rows meeting the criteria\n",
    "num_rows <- final %>%\n",
    "  filter(Treatment == 0 & Semi_treatment==0, Year < 2013, !is.na(PVoteC_18to24)) %>%\n",
    "  nrow()\n",
    "\n",
    "# Print the count\n",
    "print(num_rows)\n",
    "\n",
    "\n"
   ]
  },
  {
   "cell_type": "markdown",
   "metadata": {},
   "source": [
    "### Counts for Black"
   ]
  },
  {
   "cell_type": "code",
   "execution_count": 194,
   "metadata": {},
   "outputs": [
    {
     "name": "stdout",
     "output_type": "stream",
     "text": [
      "[1] 63\n"
     ]
    }
   ],
   "source": [
    "#Getting the counts\n",
    "# Count the number of rows meeting the criteria\n",
    "num_rows <- final %>%\n",
    "  filter(Treatment == 1, Year < 2013, !is.na(PVoteC_Blackaloneorincombination)) %>%\n",
    "  nrow()\n",
    "\n",
    "# Print the count\n",
    "print(num_rows)\n",
    "\n",
    "\n"
   ]
  },
  {
   "cell_type": "code",
   "execution_count": 195,
   "metadata": {},
   "outputs": [
    {
     "name": "stdout",
     "output_type": "stream",
     "text": [
      "[1] 42\n"
     ]
    }
   ],
   "source": [
    "#Getting the counts\n",
    "# Count the number of rows meeting the criteria\n",
    "num_rows <- final %>%\n",
    "  filter(Semi_treatment == 1, Year < 2013, !is.na(PVoteC_Blackaloneorincombination)) %>%\n",
    "  nrow()\n",
    "\n",
    "# Print the count\n",
    "print(num_rows)\n",
    "\n"
   ]
  },
  {
   "cell_type": "code",
   "execution_count": 196,
   "metadata": {},
   "outputs": [
    {
     "name": "stdout",
     "output_type": "stream",
     "text": [
      "[1] 252\n"
     ]
    }
   ],
   "source": [
    "#Getting the counts\n",
    "# Count the number of rows meeting the criteria\n",
    "num_rows <- final %>%\n",
    "  filter(Treatment == 0 & Semi_treatment==0, Year < 2013, !is.na(PVoteC_Blackaloneorincombination)) %>%\n",
    "  nrow()\n",
    "\n",
    "# Print the count\n",
    "print(num_rows)\n",
    "\n"
   ]
  },
  {
   "cell_type": "markdown",
   "metadata": {},
   "source": [
    "### Counts on dif 45-64 and 18-24"
   ]
  },
  {
   "cell_type": "code",
   "execution_count": 197,
   "metadata": {},
   "outputs": [
    {
     "name": "stdout",
     "output_type": "stream",
     "text": [
      "[1] 53\n"
     ]
    }
   ],
   "source": [
    "num_rows <- final %>%\n",
    "  filter(Treatment == 1, Year < 2013, !is.na(PVoteC_18to24), !is.na(PVoteC_45to64)) %>%\n",
    "  nrow()\n",
    "\n",
    "# Print the count\n",
    "print(num_rows)\n"
   ]
  },
  {
   "cell_type": "code",
   "execution_count": 198,
   "metadata": {},
   "outputs": [
    {
     "name": "stdout",
     "output_type": "stream",
     "text": [
      "[1] 35\n"
     ]
    }
   ],
   "source": [
    "num_rows <- final %>%\n",
    "  filter(Semi_treatment == 1, Year < 2013, !is.na(PVoteC_18to24), !is.na(PVoteC_45to64)) %>%\n",
    "  nrow()\n",
    "\n",
    "# Print the count\n",
    "print(num_rows)"
   ]
  },
  {
   "cell_type": "code",
   "execution_count": 199,
   "metadata": {},
   "outputs": [
    {
     "name": "stdout",
     "output_type": "stream",
     "text": [
      "[1] 208\n"
     ]
    }
   ],
   "source": [
    "num_rows <- final %>%\n",
    "  filter(Treatment == 0 & Semi_treatment==0, Year < 2013, !is.na(PVoteC_18to24), !is.na(PVoteC_45to64)) %>%\n",
    "  nrow()\n",
    "\n",
    "# Print the count\n",
    "print(num_rows)"
   ]
  },
  {
   "cell_type": "markdown",
   "metadata": {},
   "source": [
    "### Counts on dif White and Black"
   ]
  },
  {
   "cell_type": "code",
   "execution_count": 200,
   "metadata": {},
   "outputs": [
    {
     "name": "stdout",
     "output_type": "stream",
     "text": [
      "[1] 63\n"
     ]
    }
   ],
   "source": [
    "num_rows <- final %>%\n",
    "  filter(Treatment == 1, Year < 2013, !is.na(PVoteC_Blackaloneorincombination), !is.na(PVoteC_Whitealoneorincombination)) %>%\n",
    "  nrow()\n",
    "\n",
    "# Print the count\n",
    "print(num_rows)\n"
   ]
  },
  {
   "cell_type": "code",
   "execution_count": 201,
   "metadata": {},
   "outputs": [
    {
     "name": "stdout",
     "output_type": "stream",
     "text": [
      "[1] 42\n"
     ]
    }
   ],
   "source": [
    "num_rows <- final %>%\n",
    "  filter(Semi_treatment == 1, Year < 2013, !is.na(PVoteC_Blackaloneorincombination), !is.na(PVoteC_Whitealoneorincombination)) %>%\n",
    "  nrow()\n",
    "\n",
    "# Print the count\n",
    "print(num_rows)\n"
   ]
  },
  {
   "cell_type": "code",
   "execution_count": 202,
   "metadata": {},
   "outputs": [
    {
     "name": "stdout",
     "output_type": "stream",
     "text": [
      "[1] 252\n"
     ]
    }
   ],
   "source": [
    "num_rows <- final %>%\n",
    "  filter(Treatment == 0 & Semi_treatment==0, Year < 2013, !is.na(PVoteC_Blackaloneorincombination), !is.na(PVoteC_Whitealoneorincombination)) %>%\n",
    "  nrow()\n",
    "\n",
    "# Print the count\n",
    "print(num_rows)\n"
   ]
  },
  {
   "cell_type": "markdown",
   "metadata": {},
   "source": [
    "## Post-2013 Summary Statistics for Weighted Averages"
   ]
  },
  {
   "cell_type": "code",
   "execution_count": 203,
   "metadata": {},
   "outputs": [
    {
     "data": {
      "text/html": [
       "<table class=\"dataframe\">\n",
       "<caption>A data.frame: 5 × 18</caption>\n",
       "<thead>\n",
       "\t<tr><th></th><th scope=col>Preclearance_WAvg_PVoteC_18to24</th><th scope=col>Preclearance_WAvg_PVoteC_45to64</th><th scope=col>Preclearance_WAvg_PVoteC_Whitealoneorincombination</th><th scope=col>Preclearance_WAvg_PVoteC_Blackaloneorincombination</th><th scope=col>Semipreclearance_WAvg_PVoteC_18to24</th><th scope=col>Semipreclearance_WAvg_PVoteC_45to64</th><th scope=col>Semipreclearance_WAvg_PVoteC_Whitealoneorincombination</th><th scope=col>Semipreclearance_WAvg_PVoteC_Blackaloneorincombination</th><th scope=col>Control_WAvg_PVoteC_18to24</th><th scope=col>Control_WAvg_PVoteC_45to64</th><th scope=col>Control_WAvg_PVoteC_Whitealoneorincombination</th><th scope=col>Control_WAvg_PVoteC_Blackaloneorincombination</th><th scope=col>Preclearance_dif_45to64_18to24</th><th scope=col>Semipreclearance_dif_45to64_18to24</th><th scope=col>Control_dif_45to64_18to24</th><th scope=col>Preclearance_dif_White_Black</th><th scope=col>Semipreclearance_dif_White_Black</th><th scope=col>Control_dif_White_Black</th></tr>\n",
       "\t<tr><th></th><th scope=col>&lt;dbl&gt;</th><th scope=col>&lt;dbl&gt;</th><th scope=col>&lt;dbl&gt;</th><th scope=col>&lt;dbl&gt;</th><th scope=col>&lt;dbl&gt;</th><th scope=col>&lt;dbl&gt;</th><th scope=col>&lt;dbl&gt;</th><th scope=col>&lt;dbl&gt;</th><th scope=col>&lt;dbl&gt;</th><th scope=col>&lt;dbl&gt;</th><th scope=col>&lt;dbl&gt;</th><th scope=col>&lt;dbl&gt;</th><th scope=col>&lt;dbl&gt;</th><th scope=col>&lt;dbl&gt;</th><th scope=col>&lt;dbl&gt;</th><th scope=col>&lt;dbl&gt;</th><th scope=col>&lt;dbl&gt;</th><th scope=col>&lt;dbl&gt;</th></tr>\n",
       "</thead>\n",
       "<tbody>\n",
       "\t<tr><th scope=row>Min</th><td>17.28792</td><td>48.05885</td><td>40.50940</td><td>41.489692</td><td>17.06226</td><td>47.166652</td><td>41.50954</td><td>39.115533</td><td>17.12198</td><td>51.682362</td><td>45.31364</td><td>37.29442</td><td>23.873477</td><td>17.331000</td><td>18.822877</td><td>-0.9802893</td><td>2.394009</td><td>4.786662</td></tr>\n",
       "\t<tr><th scope=row>Max</th><td>47.62839</td><td>71.50187</td><td>67.40291</td><td>61.475257</td><td>50.67754</td><td>68.008541</td><td>65.76535</td><td>61.999389</td><td>53.73795</td><td>72.560825</td><td>69.82782</td><td>63.69053</td><td>30.770927</td><td>30.104388</td><td>34.560379</td><td> 5.9276494</td><td>5.487644</td><td>8.019224</td></tr>\n",
       "\t<tr><th scope=row>Mean</th><td>34.22920</td><td>61.17666</td><td>55.15175</td><td>54.138930</td><td>35.49527</td><td>59.377490</td><td>55.84003</td><td>51.948287</td><td>37.12289</td><td>63.274205</td><td>58.86885</td><td>52.28008</td><td>26.947466</td><td>23.882223</td><td>26.151312</td><td> 1.0128241</td><td>3.891739</td><td>6.588767</td></tr>\n",
       "\t<tr><th scope=row>SD</th><td>13.36154</td><td>10.06370</td><td>11.48586</td><td> 9.279505</td><td>14.21776</td><td> 9.227023</td><td>10.68576</td><td> 9.795277</td><td>15.84534</td><td> 9.151257</td><td>10.65433</td><td>11.82329</td><td> 3.431604</td><td> 5.226668</td><td> 6.708092</td><td> 3.2878037</td><td>1.265792</td><td>1.434708</td></tr>\n",
       "\t<tr><th scope=row>Count</th><td> 4.00000</td><td> 4.00000</td><td> 4.00000</td><td> 4.000000</td><td> 4.00000</td><td> 4.000000</td><td> 4.00000</td><td> 4.000000</td><td> 4.00000</td><td> 4.000000</td><td> 4.00000</td><td> 4.00000</td><td> 4.000000</td><td> 4.000000</td><td> 4.000000</td><td> 4.0000000</td><td>4.000000</td><td>4.000000</td></tr>\n",
       "</tbody>\n",
       "</table>\n"
      ],
      "text/latex": [
       "A data.frame: 5 × 18\n",
       "\\begin{tabular}{r|llllllllllllllllll}\n",
       "  & Preclearance\\_WAvg\\_PVoteC\\_18to24 & Preclearance\\_WAvg\\_PVoteC\\_45to64 & Preclearance\\_WAvg\\_PVoteC\\_Whitealoneorincombination & Preclearance\\_WAvg\\_PVoteC\\_Blackaloneorincombination & Semipreclearance\\_WAvg\\_PVoteC\\_18to24 & Semipreclearance\\_WAvg\\_PVoteC\\_45to64 & Semipreclearance\\_WAvg\\_PVoteC\\_Whitealoneorincombination & Semipreclearance\\_WAvg\\_PVoteC\\_Blackaloneorincombination & Control\\_WAvg\\_PVoteC\\_18to24 & Control\\_WAvg\\_PVoteC\\_45to64 & Control\\_WAvg\\_PVoteC\\_Whitealoneorincombination & Control\\_WAvg\\_PVoteC\\_Blackaloneorincombination & Preclearance\\_dif\\_45to64\\_18to24 & Semipreclearance\\_dif\\_45to64\\_18to24 & Control\\_dif\\_45to64\\_18to24 & Preclearance\\_dif\\_White\\_Black & Semipreclearance\\_dif\\_White\\_Black & Control\\_dif\\_White\\_Black\\\\\n",
       "  & <dbl> & <dbl> & <dbl> & <dbl> & <dbl> & <dbl> & <dbl> & <dbl> & <dbl> & <dbl> & <dbl> & <dbl> & <dbl> & <dbl> & <dbl> & <dbl> & <dbl> & <dbl>\\\\\n",
       "\\hline\n",
       "\tMin & 17.28792 & 48.05885 & 40.50940 & 41.489692 & 17.06226 & 47.166652 & 41.50954 & 39.115533 & 17.12198 & 51.682362 & 45.31364 & 37.29442 & 23.873477 & 17.331000 & 18.822877 & -0.9802893 & 2.394009 & 4.786662\\\\\n",
       "\tMax & 47.62839 & 71.50187 & 67.40291 & 61.475257 & 50.67754 & 68.008541 & 65.76535 & 61.999389 & 53.73795 & 72.560825 & 69.82782 & 63.69053 & 30.770927 & 30.104388 & 34.560379 &  5.9276494 & 5.487644 & 8.019224\\\\\n",
       "\tMean & 34.22920 & 61.17666 & 55.15175 & 54.138930 & 35.49527 & 59.377490 & 55.84003 & 51.948287 & 37.12289 & 63.274205 & 58.86885 & 52.28008 & 26.947466 & 23.882223 & 26.151312 &  1.0128241 & 3.891739 & 6.588767\\\\\n",
       "\tSD & 13.36154 & 10.06370 & 11.48586 &  9.279505 & 14.21776 &  9.227023 & 10.68576 &  9.795277 & 15.84534 &  9.151257 & 10.65433 & 11.82329 &  3.431604 &  5.226668 &  6.708092 &  3.2878037 & 1.265792 & 1.434708\\\\\n",
       "\tCount &  4.00000 &  4.00000 &  4.00000 &  4.000000 &  4.00000 &  4.000000 &  4.00000 &  4.000000 &  4.00000 &  4.000000 &  4.00000 &  4.00000 &  4.000000 &  4.000000 &  4.000000 &  4.0000000 & 4.000000 & 4.000000\\\\\n",
       "\\end{tabular}\n"
      ],
      "text/markdown": [
       "\n",
       "A data.frame: 5 × 18\n",
       "\n",
       "| <!--/--> | Preclearance_WAvg_PVoteC_18to24 &lt;dbl&gt; | Preclearance_WAvg_PVoteC_45to64 &lt;dbl&gt; | Preclearance_WAvg_PVoteC_Whitealoneorincombination &lt;dbl&gt; | Preclearance_WAvg_PVoteC_Blackaloneorincombination &lt;dbl&gt; | Semipreclearance_WAvg_PVoteC_18to24 &lt;dbl&gt; | Semipreclearance_WAvg_PVoteC_45to64 &lt;dbl&gt; | Semipreclearance_WAvg_PVoteC_Whitealoneorincombination &lt;dbl&gt; | Semipreclearance_WAvg_PVoteC_Blackaloneorincombination &lt;dbl&gt; | Control_WAvg_PVoteC_18to24 &lt;dbl&gt; | Control_WAvg_PVoteC_45to64 &lt;dbl&gt; | Control_WAvg_PVoteC_Whitealoneorincombination &lt;dbl&gt; | Control_WAvg_PVoteC_Blackaloneorincombination &lt;dbl&gt; | Preclearance_dif_45to64_18to24 &lt;dbl&gt; | Semipreclearance_dif_45to64_18to24 &lt;dbl&gt; | Control_dif_45to64_18to24 &lt;dbl&gt; | Preclearance_dif_White_Black &lt;dbl&gt; | Semipreclearance_dif_White_Black &lt;dbl&gt; | Control_dif_White_Black &lt;dbl&gt; |\n",
       "|---|---|---|---|---|---|---|---|---|---|---|---|---|---|---|---|---|---|---|\n",
       "| Min | 17.28792 | 48.05885 | 40.50940 | 41.489692 | 17.06226 | 47.166652 | 41.50954 | 39.115533 | 17.12198 | 51.682362 | 45.31364 | 37.29442 | 23.873477 | 17.331000 | 18.822877 | -0.9802893 | 2.394009 | 4.786662 |\n",
       "| Max | 47.62839 | 71.50187 | 67.40291 | 61.475257 | 50.67754 | 68.008541 | 65.76535 | 61.999389 | 53.73795 | 72.560825 | 69.82782 | 63.69053 | 30.770927 | 30.104388 | 34.560379 |  5.9276494 | 5.487644 | 8.019224 |\n",
       "| Mean | 34.22920 | 61.17666 | 55.15175 | 54.138930 | 35.49527 | 59.377490 | 55.84003 | 51.948287 | 37.12289 | 63.274205 | 58.86885 | 52.28008 | 26.947466 | 23.882223 | 26.151312 |  1.0128241 | 3.891739 | 6.588767 |\n",
       "| SD | 13.36154 | 10.06370 | 11.48586 |  9.279505 | 14.21776 |  9.227023 | 10.68576 |  9.795277 | 15.84534 |  9.151257 | 10.65433 | 11.82329 |  3.431604 |  5.226668 |  6.708092 |  3.2878037 | 1.265792 | 1.434708 |\n",
       "| Count |  4.00000 |  4.00000 |  4.00000 |  4.000000 |  4.00000 |  4.000000 |  4.00000 |  4.000000 |  4.00000 |  4.000000 |  4.00000 |  4.00000 |  4.000000 |  4.000000 |  4.000000 |  4.0000000 | 4.000000 | 4.000000 |\n",
       "\n"
      ],
      "text/plain": [
       "      Preclearance_WAvg_PVoteC_18to24 Preclearance_WAvg_PVoteC_45to64\n",
       "Min   17.28792                        48.05885                       \n",
       "Max   47.62839                        71.50187                       \n",
       "Mean  34.22920                        61.17666                       \n",
       "SD    13.36154                        10.06370                       \n",
       "Count  4.00000                         4.00000                       \n",
       "      Preclearance_WAvg_PVoteC_Whitealoneorincombination\n",
       "Min   40.50940                                          \n",
       "Max   67.40291                                          \n",
       "Mean  55.15175                                          \n",
       "SD    11.48586                                          \n",
       "Count  4.00000                                          \n",
       "      Preclearance_WAvg_PVoteC_Blackaloneorincombination\n",
       "Min   41.489692                                         \n",
       "Max   61.475257                                         \n",
       "Mean  54.138930                                         \n",
       "SD     9.279505                                         \n",
       "Count  4.000000                                         \n",
       "      Semipreclearance_WAvg_PVoteC_18to24 Semipreclearance_WAvg_PVoteC_45to64\n",
       "Min   17.06226                            47.166652                          \n",
       "Max   50.67754                            68.008541                          \n",
       "Mean  35.49527                            59.377490                          \n",
       "SD    14.21776                             9.227023                          \n",
       "Count  4.00000                             4.000000                          \n",
       "      Semipreclearance_WAvg_PVoteC_Whitealoneorincombination\n",
       "Min   41.50954                                              \n",
       "Max   65.76535                                              \n",
       "Mean  55.84003                                              \n",
       "SD    10.68576                                              \n",
       "Count  4.00000                                              \n",
       "      Semipreclearance_WAvg_PVoteC_Blackaloneorincombination\n",
       "Min   39.115533                                             \n",
       "Max   61.999389                                             \n",
       "Mean  51.948287                                             \n",
       "SD     9.795277                                             \n",
       "Count  4.000000                                             \n",
       "      Control_WAvg_PVoteC_18to24 Control_WAvg_PVoteC_45to64\n",
       "Min   17.12198                   51.682362                 \n",
       "Max   53.73795                   72.560825                 \n",
       "Mean  37.12289                   63.274205                 \n",
       "SD    15.84534                    9.151257                 \n",
       "Count  4.00000                    4.000000                 \n",
       "      Control_WAvg_PVoteC_Whitealoneorincombination\n",
       "Min   45.31364                                     \n",
       "Max   69.82782                                     \n",
       "Mean  58.86885                                     \n",
       "SD    10.65433                                     \n",
       "Count  4.00000                                     \n",
       "      Control_WAvg_PVoteC_Blackaloneorincombination\n",
       "Min   37.29442                                     \n",
       "Max   63.69053                                     \n",
       "Mean  52.28008                                     \n",
       "SD    11.82329                                     \n",
       "Count  4.00000                                     \n",
       "      Preclearance_dif_45to64_18to24 Semipreclearance_dif_45to64_18to24\n",
       "Min   23.873477                      17.331000                         \n",
       "Max   30.770927                      30.104388                         \n",
       "Mean  26.947466                      23.882223                         \n",
       "SD     3.431604                       5.226668                         \n",
       "Count  4.000000                       4.000000                         \n",
       "      Control_dif_45to64_18to24 Preclearance_dif_White_Black\n",
       "Min   18.822877                 -0.9802893                  \n",
       "Max   34.560379                  5.9276494                  \n",
       "Mean  26.151312                  1.0128241                  \n",
       "SD     6.708092                  3.2878037                  \n",
       "Count  4.000000                  4.0000000                  \n",
       "      Semipreclearance_dif_White_Black Control_dif_White_Black\n",
       "Min   2.394009                         4.786662               \n",
       "Max   5.487644                         8.019224               \n",
       "Mean  3.891739                         6.588767               \n",
       "SD    1.265792                         1.434708               \n",
       "Count 4.000000                         4.000000               "
      ]
     },
     "metadata": {},
     "output_type": "display_data"
    }
   ],
   "source": [
    "# Calculate summary statistics for each column\n",
    "subset_df <- graph_data_v[graph_data_v$Year > 2013, ]\n",
    "\n",
    "summary_stats <- apply(subset_df[, -1], 2, function(x) c(Min = min(x, na.rm = TRUE),\n",
    "                                                    Max = max(x, na.rm = TRUE),\n",
    "                                                    Mean = mean(x, na.rm = TRUE),\n",
    "                                                    SD = sd(x, na.rm = TRUE),\n",
    "                                                    Count = sum(!is.na(x))))\n",
    "\n",
    "# Create a dataframe from the summary statistics\n",
    "summary_df <- as.data.frame(summary_stats)\n",
    "\n",
    "# Print the summary dataframe\n",
    "head(summary_df)"
   ]
  },
  {
   "cell_type": "code",
   "execution_count": 204,
   "metadata": {},
   "outputs": [
    {
     "data": {
      "text/html": [
       "<table class=\"dataframe\">\n",
       "<caption>A data.frame: 5 × 1</caption>\n",
       "<thead>\n",
       "\t<tr><th></th><th scope=col>Preclearance_WAvg_PVoteC_18to24</th></tr>\n",
       "\t<tr><th></th><th scope=col>&lt;dbl&gt;</th></tr>\n",
       "</thead>\n",
       "<tbody>\n",
       "\t<tr><th scope=row>Min</th><td>17.28792</td></tr>\n",
       "\t<tr><th scope=row>Max</th><td>47.62839</td></tr>\n",
       "\t<tr><th scope=row>Mean</th><td>34.22920</td></tr>\n",
       "\t<tr><th scope=row>SD</th><td>13.36154</td></tr>\n",
       "\t<tr><th scope=row>Count</th><td> 4.00000</td></tr>\n",
       "</tbody>\n",
       "</table>\n"
      ],
      "text/latex": [
       "A data.frame: 5 × 1\n",
       "\\begin{tabular}{r|l}\n",
       "  & Preclearance\\_WAvg\\_PVoteC\\_18to24\\\\\n",
       "  & <dbl>\\\\\n",
       "\\hline\n",
       "\tMin & 17.28792\\\\\n",
       "\tMax & 47.62839\\\\\n",
       "\tMean & 34.22920\\\\\n",
       "\tSD & 13.36154\\\\\n",
       "\tCount &  4.00000\\\\\n",
       "\\end{tabular}\n"
      ],
      "text/markdown": [
       "\n",
       "A data.frame: 5 × 1\n",
       "\n",
       "| <!--/--> | Preclearance_WAvg_PVoteC_18to24 &lt;dbl&gt; |\n",
       "|---|---|\n",
       "| Min | 17.28792 |\n",
       "| Max | 47.62839 |\n",
       "| Mean | 34.22920 |\n",
       "| SD | 13.36154 |\n",
       "| Count |  4.00000 |\n",
       "\n"
      ],
      "text/plain": [
       "      Preclearance_WAvg_PVoteC_18to24\n",
       "Min   17.28792                       \n",
       "Max   47.62839                       \n",
       "Mean  34.22920                       \n",
       "SD    13.36154                       \n",
       "Count  4.00000                       "
      ]
     },
     "metadata": {},
     "output_type": "display_data"
    }
   ],
   "source": [
    "summary_df[\"Preclearance_WAvg_PVoteC_18to24\"]"
   ]
  },
  {
   "cell_type": "code",
   "execution_count": 205,
   "metadata": {},
   "outputs": [
    {
     "data": {
      "text/html": [
       "<table class=\"dataframe\">\n",
       "<caption>A data.frame: 5 × 1</caption>\n",
       "<thead>\n",
       "\t<tr><th></th><th scope=col>Semipreclearance_WAvg_PVoteC_18to24</th></tr>\n",
       "\t<tr><th></th><th scope=col>&lt;dbl&gt;</th></tr>\n",
       "</thead>\n",
       "<tbody>\n",
       "\t<tr><th scope=row>Min</th><td>17.06226</td></tr>\n",
       "\t<tr><th scope=row>Max</th><td>50.67754</td></tr>\n",
       "\t<tr><th scope=row>Mean</th><td>35.49527</td></tr>\n",
       "\t<tr><th scope=row>SD</th><td>14.21776</td></tr>\n",
       "\t<tr><th scope=row>Count</th><td> 4.00000</td></tr>\n",
       "</tbody>\n",
       "</table>\n"
      ],
      "text/latex": [
       "A data.frame: 5 × 1\n",
       "\\begin{tabular}{r|l}\n",
       "  & Semipreclearance\\_WAvg\\_PVoteC\\_18to24\\\\\n",
       "  & <dbl>\\\\\n",
       "\\hline\n",
       "\tMin & 17.06226\\\\\n",
       "\tMax & 50.67754\\\\\n",
       "\tMean & 35.49527\\\\\n",
       "\tSD & 14.21776\\\\\n",
       "\tCount &  4.00000\\\\\n",
       "\\end{tabular}\n"
      ],
      "text/markdown": [
       "\n",
       "A data.frame: 5 × 1\n",
       "\n",
       "| <!--/--> | Semipreclearance_WAvg_PVoteC_18to24 &lt;dbl&gt; |\n",
       "|---|---|\n",
       "| Min | 17.06226 |\n",
       "| Max | 50.67754 |\n",
       "| Mean | 35.49527 |\n",
       "| SD | 14.21776 |\n",
       "| Count |  4.00000 |\n",
       "\n"
      ],
      "text/plain": [
       "      Semipreclearance_WAvg_PVoteC_18to24\n",
       "Min   17.06226                           \n",
       "Max   50.67754                           \n",
       "Mean  35.49527                           \n",
       "SD    14.21776                           \n",
       "Count  4.00000                           "
      ]
     },
     "metadata": {},
     "output_type": "display_data"
    }
   ],
   "source": [
    "summary_df[\"Semipreclearance_WAvg_PVoteC_18to24\"]"
   ]
  },
  {
   "cell_type": "code",
   "execution_count": 206,
   "metadata": {},
   "outputs": [
    {
     "data": {
      "text/html": [
       "<table class=\"dataframe\">\n",
       "<caption>A data.frame: 5 × 1</caption>\n",
       "<thead>\n",
       "\t<tr><th></th><th scope=col>Control_WAvg_PVoteC_18to24</th></tr>\n",
       "\t<tr><th></th><th scope=col>&lt;dbl&gt;</th></tr>\n",
       "</thead>\n",
       "<tbody>\n",
       "\t<tr><th scope=row>Min</th><td>17.12198</td></tr>\n",
       "\t<tr><th scope=row>Max</th><td>53.73795</td></tr>\n",
       "\t<tr><th scope=row>Mean</th><td>37.12289</td></tr>\n",
       "\t<tr><th scope=row>SD</th><td>15.84534</td></tr>\n",
       "\t<tr><th scope=row>Count</th><td> 4.00000</td></tr>\n",
       "</tbody>\n",
       "</table>\n"
      ],
      "text/latex": [
       "A data.frame: 5 × 1\n",
       "\\begin{tabular}{r|l}\n",
       "  & Control\\_WAvg\\_PVoteC\\_18to24\\\\\n",
       "  & <dbl>\\\\\n",
       "\\hline\n",
       "\tMin & 17.12198\\\\\n",
       "\tMax & 53.73795\\\\\n",
       "\tMean & 37.12289\\\\\n",
       "\tSD & 15.84534\\\\\n",
       "\tCount &  4.00000\\\\\n",
       "\\end{tabular}\n"
      ],
      "text/markdown": [
       "\n",
       "A data.frame: 5 × 1\n",
       "\n",
       "| <!--/--> | Control_WAvg_PVoteC_18to24 &lt;dbl&gt; |\n",
       "|---|---|\n",
       "| Min | 17.12198 |\n",
       "| Max | 53.73795 |\n",
       "| Mean | 37.12289 |\n",
       "| SD | 15.84534 |\n",
       "| Count |  4.00000 |\n",
       "\n"
      ],
      "text/plain": [
       "      Control_WAvg_PVoteC_18to24\n",
       "Min   17.12198                  \n",
       "Max   53.73795                  \n",
       "Mean  37.12289                  \n",
       "SD    15.84534                  \n",
       "Count  4.00000                  "
      ]
     },
     "metadata": {},
     "output_type": "display_data"
    }
   ],
   "source": [
    "summary_df[\"Control_WAvg_PVoteC_18to24\"]"
   ]
  },
  {
   "cell_type": "code",
   "execution_count": 207,
   "metadata": {},
   "outputs": [
    {
     "data": {
      "text/html": [
       "<table class=\"dataframe\">\n",
       "<caption>A data.frame: 5 × 1</caption>\n",
       "<thead>\n",
       "\t<tr><th></th><th scope=col>Preclearance_WAvg_PVoteC_Blackaloneorincombination</th></tr>\n",
       "\t<tr><th></th><th scope=col>&lt;dbl&gt;</th></tr>\n",
       "</thead>\n",
       "<tbody>\n",
       "\t<tr><th scope=row>Min</th><td>41.489692</td></tr>\n",
       "\t<tr><th scope=row>Max</th><td>61.475257</td></tr>\n",
       "\t<tr><th scope=row>Mean</th><td>54.138930</td></tr>\n",
       "\t<tr><th scope=row>SD</th><td> 9.279505</td></tr>\n",
       "\t<tr><th scope=row>Count</th><td> 4.000000</td></tr>\n",
       "</tbody>\n",
       "</table>\n"
      ],
      "text/latex": [
       "A data.frame: 5 × 1\n",
       "\\begin{tabular}{r|l}\n",
       "  & Preclearance\\_WAvg\\_PVoteC\\_Blackaloneorincombination\\\\\n",
       "  & <dbl>\\\\\n",
       "\\hline\n",
       "\tMin & 41.489692\\\\\n",
       "\tMax & 61.475257\\\\\n",
       "\tMean & 54.138930\\\\\n",
       "\tSD &  9.279505\\\\\n",
       "\tCount &  4.000000\\\\\n",
       "\\end{tabular}\n"
      ],
      "text/markdown": [
       "\n",
       "A data.frame: 5 × 1\n",
       "\n",
       "| <!--/--> | Preclearance_WAvg_PVoteC_Blackaloneorincombination &lt;dbl&gt; |\n",
       "|---|---|\n",
       "| Min | 41.489692 |\n",
       "| Max | 61.475257 |\n",
       "| Mean | 54.138930 |\n",
       "| SD |  9.279505 |\n",
       "| Count |  4.000000 |\n",
       "\n"
      ],
      "text/plain": [
       "      Preclearance_WAvg_PVoteC_Blackaloneorincombination\n",
       "Min   41.489692                                         \n",
       "Max   61.475257                                         \n",
       "Mean  54.138930                                         \n",
       "SD     9.279505                                         \n",
       "Count  4.000000                                         "
      ]
     },
     "metadata": {},
     "output_type": "display_data"
    }
   ],
   "source": [
    "summary_df[\"Preclearance_WAvg_PVoteC_Blackaloneorincombination\"]"
   ]
  },
  {
   "cell_type": "code",
   "execution_count": 208,
   "metadata": {},
   "outputs": [
    {
     "data": {
      "text/html": [
       "<table class=\"dataframe\">\n",
       "<caption>A data.frame: 5 × 1</caption>\n",
       "<thead>\n",
       "\t<tr><th></th><th scope=col>Semipreclearance_WAvg_PVoteC_Blackaloneorincombination</th></tr>\n",
       "\t<tr><th></th><th scope=col>&lt;dbl&gt;</th></tr>\n",
       "</thead>\n",
       "<tbody>\n",
       "\t<tr><th scope=row>Min</th><td>39.115533</td></tr>\n",
       "\t<tr><th scope=row>Max</th><td>61.999389</td></tr>\n",
       "\t<tr><th scope=row>Mean</th><td>51.948287</td></tr>\n",
       "\t<tr><th scope=row>SD</th><td> 9.795277</td></tr>\n",
       "\t<tr><th scope=row>Count</th><td> 4.000000</td></tr>\n",
       "</tbody>\n",
       "</table>\n"
      ],
      "text/latex": [
       "A data.frame: 5 × 1\n",
       "\\begin{tabular}{r|l}\n",
       "  & Semipreclearance\\_WAvg\\_PVoteC\\_Blackaloneorincombination\\\\\n",
       "  & <dbl>\\\\\n",
       "\\hline\n",
       "\tMin & 39.115533\\\\\n",
       "\tMax & 61.999389\\\\\n",
       "\tMean & 51.948287\\\\\n",
       "\tSD &  9.795277\\\\\n",
       "\tCount &  4.000000\\\\\n",
       "\\end{tabular}\n"
      ],
      "text/markdown": [
       "\n",
       "A data.frame: 5 × 1\n",
       "\n",
       "| <!--/--> | Semipreclearance_WAvg_PVoteC_Blackaloneorincombination &lt;dbl&gt; |\n",
       "|---|---|\n",
       "| Min | 39.115533 |\n",
       "| Max | 61.999389 |\n",
       "| Mean | 51.948287 |\n",
       "| SD |  9.795277 |\n",
       "| Count |  4.000000 |\n",
       "\n"
      ],
      "text/plain": [
       "      Semipreclearance_WAvg_PVoteC_Blackaloneorincombination\n",
       "Min   39.115533                                             \n",
       "Max   61.999389                                             \n",
       "Mean  51.948287                                             \n",
       "SD     9.795277                                             \n",
       "Count  4.000000                                             "
      ]
     },
     "metadata": {},
     "output_type": "display_data"
    }
   ],
   "source": [
    "summary_df[\"Semipreclearance_WAvg_PVoteC_Blackaloneorincombination\"]"
   ]
  },
  {
   "cell_type": "code",
   "execution_count": 209,
   "metadata": {
    "scrolled": true
   },
   "outputs": [
    {
     "data": {
      "text/html": [
       "<table class=\"dataframe\">\n",
       "<caption>A data.frame: 5 × 1</caption>\n",
       "<thead>\n",
       "\t<tr><th></th><th scope=col>Control_WAvg_PVoteC_Blackaloneorincombination</th></tr>\n",
       "\t<tr><th></th><th scope=col>&lt;dbl&gt;</th></tr>\n",
       "</thead>\n",
       "<tbody>\n",
       "\t<tr><th scope=row>Min</th><td>37.29442</td></tr>\n",
       "\t<tr><th scope=row>Max</th><td>63.69053</td></tr>\n",
       "\t<tr><th scope=row>Mean</th><td>52.28008</td></tr>\n",
       "\t<tr><th scope=row>SD</th><td>11.82329</td></tr>\n",
       "\t<tr><th scope=row>Count</th><td> 4.00000</td></tr>\n",
       "</tbody>\n",
       "</table>\n"
      ],
      "text/latex": [
       "A data.frame: 5 × 1\n",
       "\\begin{tabular}{r|l}\n",
       "  & Control\\_WAvg\\_PVoteC\\_Blackaloneorincombination\\\\\n",
       "  & <dbl>\\\\\n",
       "\\hline\n",
       "\tMin & 37.29442\\\\\n",
       "\tMax & 63.69053\\\\\n",
       "\tMean & 52.28008\\\\\n",
       "\tSD & 11.82329\\\\\n",
       "\tCount &  4.00000\\\\\n",
       "\\end{tabular}\n"
      ],
      "text/markdown": [
       "\n",
       "A data.frame: 5 × 1\n",
       "\n",
       "| <!--/--> | Control_WAvg_PVoteC_Blackaloneorincombination &lt;dbl&gt; |\n",
       "|---|---|\n",
       "| Min | 37.29442 |\n",
       "| Max | 63.69053 |\n",
       "| Mean | 52.28008 |\n",
       "| SD | 11.82329 |\n",
       "| Count |  4.00000 |\n",
       "\n"
      ],
      "text/plain": [
       "      Control_WAvg_PVoteC_Blackaloneorincombination\n",
       "Min   37.29442                                     \n",
       "Max   63.69053                                     \n",
       "Mean  52.28008                                     \n",
       "SD    11.82329                                     \n",
       "Count  4.00000                                     "
      ]
     },
     "metadata": {},
     "output_type": "display_data"
    }
   ],
   "source": [
    "summary_df[\"Control_WAvg_PVoteC_Blackaloneorincombination\"]"
   ]
  },
  {
   "cell_type": "code",
   "execution_count": 210,
   "metadata": {},
   "outputs": [
    {
     "data": {
      "text/html": [
       "<table class=\"dataframe\">\n",
       "<caption>A data.frame: 5 × 1</caption>\n",
       "<thead>\n",
       "\t<tr><th></th><th scope=col>Preclearance_dif_45to64_18to24</th></tr>\n",
       "\t<tr><th></th><th scope=col>&lt;dbl&gt;</th></tr>\n",
       "</thead>\n",
       "<tbody>\n",
       "\t<tr><th scope=row>Min</th><td>23.873477</td></tr>\n",
       "\t<tr><th scope=row>Max</th><td>30.770927</td></tr>\n",
       "\t<tr><th scope=row>Mean</th><td>26.947466</td></tr>\n",
       "\t<tr><th scope=row>SD</th><td> 3.431604</td></tr>\n",
       "\t<tr><th scope=row>Count</th><td> 4.000000</td></tr>\n",
       "</tbody>\n",
       "</table>\n"
      ],
      "text/latex": [
       "A data.frame: 5 × 1\n",
       "\\begin{tabular}{r|l}\n",
       "  & Preclearance\\_dif\\_45to64\\_18to24\\\\\n",
       "  & <dbl>\\\\\n",
       "\\hline\n",
       "\tMin & 23.873477\\\\\n",
       "\tMax & 30.770927\\\\\n",
       "\tMean & 26.947466\\\\\n",
       "\tSD &  3.431604\\\\\n",
       "\tCount &  4.000000\\\\\n",
       "\\end{tabular}\n"
      ],
      "text/markdown": [
       "\n",
       "A data.frame: 5 × 1\n",
       "\n",
       "| <!--/--> | Preclearance_dif_45to64_18to24 &lt;dbl&gt; |\n",
       "|---|---|\n",
       "| Min | 23.873477 |\n",
       "| Max | 30.770927 |\n",
       "| Mean | 26.947466 |\n",
       "| SD |  3.431604 |\n",
       "| Count |  4.000000 |\n",
       "\n"
      ],
      "text/plain": [
       "      Preclearance_dif_45to64_18to24\n",
       "Min   23.873477                     \n",
       "Max   30.770927                     \n",
       "Mean  26.947466                     \n",
       "SD     3.431604                     \n",
       "Count  4.000000                     "
      ]
     },
     "metadata": {},
     "output_type": "display_data"
    }
   ],
   "source": [
    "summary_df[\"Preclearance_dif_45to64_18to24\"]"
   ]
  },
  {
   "cell_type": "code",
   "execution_count": 211,
   "metadata": {},
   "outputs": [
    {
     "data": {
      "text/html": [
       "<table class=\"dataframe\">\n",
       "<caption>A data.frame: 5 × 1</caption>\n",
       "<thead>\n",
       "\t<tr><th></th><th scope=col>Semipreclearance_dif_45to64_18to24</th></tr>\n",
       "\t<tr><th></th><th scope=col>&lt;dbl&gt;</th></tr>\n",
       "</thead>\n",
       "<tbody>\n",
       "\t<tr><th scope=row>Min</th><td>17.331000</td></tr>\n",
       "\t<tr><th scope=row>Max</th><td>30.104388</td></tr>\n",
       "\t<tr><th scope=row>Mean</th><td>23.882223</td></tr>\n",
       "\t<tr><th scope=row>SD</th><td> 5.226668</td></tr>\n",
       "\t<tr><th scope=row>Count</th><td> 4.000000</td></tr>\n",
       "</tbody>\n",
       "</table>\n"
      ],
      "text/latex": [
       "A data.frame: 5 × 1\n",
       "\\begin{tabular}{r|l}\n",
       "  & Semipreclearance\\_dif\\_45to64\\_18to24\\\\\n",
       "  & <dbl>\\\\\n",
       "\\hline\n",
       "\tMin & 17.331000\\\\\n",
       "\tMax & 30.104388\\\\\n",
       "\tMean & 23.882223\\\\\n",
       "\tSD &  5.226668\\\\\n",
       "\tCount &  4.000000\\\\\n",
       "\\end{tabular}\n"
      ],
      "text/markdown": [
       "\n",
       "A data.frame: 5 × 1\n",
       "\n",
       "| <!--/--> | Semipreclearance_dif_45to64_18to24 &lt;dbl&gt; |\n",
       "|---|---|\n",
       "| Min | 17.331000 |\n",
       "| Max | 30.104388 |\n",
       "| Mean | 23.882223 |\n",
       "| SD |  5.226668 |\n",
       "| Count |  4.000000 |\n",
       "\n"
      ],
      "text/plain": [
       "      Semipreclearance_dif_45to64_18to24\n",
       "Min   17.331000                         \n",
       "Max   30.104388                         \n",
       "Mean  23.882223                         \n",
       "SD     5.226668                         \n",
       "Count  4.000000                         "
      ]
     },
     "metadata": {},
     "output_type": "display_data"
    }
   ],
   "source": [
    "summary_df[\"Semipreclearance_dif_45to64_18to24\"]"
   ]
  },
  {
   "cell_type": "code",
   "execution_count": 212,
   "metadata": {},
   "outputs": [
    {
     "data": {
      "text/html": [
       "<table class=\"dataframe\">\n",
       "<caption>A data.frame: 5 × 1</caption>\n",
       "<thead>\n",
       "\t<tr><th></th><th scope=col>Control_dif_45to64_18to24</th></tr>\n",
       "\t<tr><th></th><th scope=col>&lt;dbl&gt;</th></tr>\n",
       "</thead>\n",
       "<tbody>\n",
       "\t<tr><th scope=row>Min</th><td>18.822877</td></tr>\n",
       "\t<tr><th scope=row>Max</th><td>34.560379</td></tr>\n",
       "\t<tr><th scope=row>Mean</th><td>26.151312</td></tr>\n",
       "\t<tr><th scope=row>SD</th><td> 6.708092</td></tr>\n",
       "\t<tr><th scope=row>Count</th><td> 4.000000</td></tr>\n",
       "</tbody>\n",
       "</table>\n"
      ],
      "text/latex": [
       "A data.frame: 5 × 1\n",
       "\\begin{tabular}{r|l}\n",
       "  & Control\\_dif\\_45to64\\_18to24\\\\\n",
       "  & <dbl>\\\\\n",
       "\\hline\n",
       "\tMin & 18.822877\\\\\n",
       "\tMax & 34.560379\\\\\n",
       "\tMean & 26.151312\\\\\n",
       "\tSD &  6.708092\\\\\n",
       "\tCount &  4.000000\\\\\n",
       "\\end{tabular}\n"
      ],
      "text/markdown": [
       "\n",
       "A data.frame: 5 × 1\n",
       "\n",
       "| <!--/--> | Control_dif_45to64_18to24 &lt;dbl&gt; |\n",
       "|---|---|\n",
       "| Min | 18.822877 |\n",
       "| Max | 34.560379 |\n",
       "| Mean | 26.151312 |\n",
       "| SD |  6.708092 |\n",
       "| Count |  4.000000 |\n",
       "\n"
      ],
      "text/plain": [
       "      Control_dif_45to64_18to24\n",
       "Min   18.822877                \n",
       "Max   34.560379                \n",
       "Mean  26.151312                \n",
       "SD     6.708092                \n",
       "Count  4.000000                "
      ]
     },
     "metadata": {},
     "output_type": "display_data"
    }
   ],
   "source": [
    "summary_df[\"Control_dif_45to64_18to24\"]"
   ]
  },
  {
   "cell_type": "code",
   "execution_count": 213,
   "metadata": {},
   "outputs": [
    {
     "data": {
      "text/html": [
       "<table class=\"dataframe\">\n",
       "<caption>A data.frame: 5 × 1</caption>\n",
       "<thead>\n",
       "\t<tr><th></th><th scope=col>Preclearance_dif_White_Black</th></tr>\n",
       "\t<tr><th></th><th scope=col>&lt;dbl&gt;</th></tr>\n",
       "</thead>\n",
       "<tbody>\n",
       "\t<tr><th scope=row>Min</th><td>-0.9802893</td></tr>\n",
       "\t<tr><th scope=row>Max</th><td> 5.9276494</td></tr>\n",
       "\t<tr><th scope=row>Mean</th><td> 1.0128241</td></tr>\n",
       "\t<tr><th scope=row>SD</th><td> 3.2878037</td></tr>\n",
       "\t<tr><th scope=row>Count</th><td> 4.0000000</td></tr>\n",
       "</tbody>\n",
       "</table>\n"
      ],
      "text/latex": [
       "A data.frame: 5 × 1\n",
       "\\begin{tabular}{r|l}\n",
       "  & Preclearance\\_dif\\_White\\_Black\\\\\n",
       "  & <dbl>\\\\\n",
       "\\hline\n",
       "\tMin & -0.9802893\\\\\n",
       "\tMax &  5.9276494\\\\\n",
       "\tMean &  1.0128241\\\\\n",
       "\tSD &  3.2878037\\\\\n",
       "\tCount &  4.0000000\\\\\n",
       "\\end{tabular}\n"
      ],
      "text/markdown": [
       "\n",
       "A data.frame: 5 × 1\n",
       "\n",
       "| <!--/--> | Preclearance_dif_White_Black &lt;dbl&gt; |\n",
       "|---|---|\n",
       "| Min | -0.9802893 |\n",
       "| Max |  5.9276494 |\n",
       "| Mean |  1.0128241 |\n",
       "| SD |  3.2878037 |\n",
       "| Count |  4.0000000 |\n",
       "\n"
      ],
      "text/plain": [
       "      Preclearance_dif_White_Black\n",
       "Min   -0.9802893                  \n",
       "Max    5.9276494                  \n",
       "Mean   1.0128241                  \n",
       "SD     3.2878037                  \n",
       "Count  4.0000000                  "
      ]
     },
     "metadata": {},
     "output_type": "display_data"
    }
   ],
   "source": [
    "summary_df[\"Preclearance_dif_White_Black\"]"
   ]
  },
  {
   "cell_type": "code",
   "execution_count": 214,
   "metadata": {},
   "outputs": [
    {
     "data": {
      "text/html": [
       "<table class=\"dataframe\">\n",
       "<caption>A data.frame: 5 × 1</caption>\n",
       "<thead>\n",
       "\t<tr><th></th><th scope=col>Semipreclearance_dif_White_Black</th></tr>\n",
       "\t<tr><th></th><th scope=col>&lt;dbl&gt;</th></tr>\n",
       "</thead>\n",
       "<tbody>\n",
       "\t<tr><th scope=row>Min</th><td>2.394009</td></tr>\n",
       "\t<tr><th scope=row>Max</th><td>5.487644</td></tr>\n",
       "\t<tr><th scope=row>Mean</th><td>3.891739</td></tr>\n",
       "\t<tr><th scope=row>SD</th><td>1.265792</td></tr>\n",
       "\t<tr><th scope=row>Count</th><td>4.000000</td></tr>\n",
       "</tbody>\n",
       "</table>\n"
      ],
      "text/latex": [
       "A data.frame: 5 × 1\n",
       "\\begin{tabular}{r|l}\n",
       "  & Semipreclearance\\_dif\\_White\\_Black\\\\\n",
       "  & <dbl>\\\\\n",
       "\\hline\n",
       "\tMin & 2.394009\\\\\n",
       "\tMax & 5.487644\\\\\n",
       "\tMean & 3.891739\\\\\n",
       "\tSD & 1.265792\\\\\n",
       "\tCount & 4.000000\\\\\n",
       "\\end{tabular}\n"
      ],
      "text/markdown": [
       "\n",
       "A data.frame: 5 × 1\n",
       "\n",
       "| <!--/--> | Semipreclearance_dif_White_Black &lt;dbl&gt; |\n",
       "|---|---|\n",
       "| Min | 2.394009 |\n",
       "| Max | 5.487644 |\n",
       "| Mean | 3.891739 |\n",
       "| SD | 1.265792 |\n",
       "| Count | 4.000000 |\n",
       "\n"
      ],
      "text/plain": [
       "      Semipreclearance_dif_White_Black\n",
       "Min   2.394009                        \n",
       "Max   5.487644                        \n",
       "Mean  3.891739                        \n",
       "SD    1.265792                        \n",
       "Count 4.000000                        "
      ]
     },
     "metadata": {},
     "output_type": "display_data"
    }
   ],
   "source": [
    "summary_df[\"Semipreclearance_dif_White_Black\"]"
   ]
  },
  {
   "cell_type": "code",
   "execution_count": 215,
   "metadata": {},
   "outputs": [
    {
     "data": {
      "text/html": [
       "<table class=\"dataframe\">\n",
       "<caption>A data.frame: 5 × 1</caption>\n",
       "<thead>\n",
       "\t<tr><th></th><th scope=col>Control_dif_White_Black</th></tr>\n",
       "\t<tr><th></th><th scope=col>&lt;dbl&gt;</th></tr>\n",
       "</thead>\n",
       "<tbody>\n",
       "\t<tr><th scope=row>Min</th><td>4.786662</td></tr>\n",
       "\t<tr><th scope=row>Max</th><td>8.019224</td></tr>\n",
       "\t<tr><th scope=row>Mean</th><td>6.588767</td></tr>\n",
       "\t<tr><th scope=row>SD</th><td>1.434708</td></tr>\n",
       "\t<tr><th scope=row>Count</th><td>4.000000</td></tr>\n",
       "</tbody>\n",
       "</table>\n"
      ],
      "text/latex": [
       "A data.frame: 5 × 1\n",
       "\\begin{tabular}{r|l}\n",
       "  & Control\\_dif\\_White\\_Black\\\\\n",
       "  & <dbl>\\\\\n",
       "\\hline\n",
       "\tMin & 4.786662\\\\\n",
       "\tMax & 8.019224\\\\\n",
       "\tMean & 6.588767\\\\\n",
       "\tSD & 1.434708\\\\\n",
       "\tCount & 4.000000\\\\\n",
       "\\end{tabular}\n"
      ],
      "text/markdown": [
       "\n",
       "A data.frame: 5 × 1\n",
       "\n",
       "| <!--/--> | Control_dif_White_Black &lt;dbl&gt; |\n",
       "|---|---|\n",
       "| Min | 4.786662 |\n",
       "| Max | 8.019224 |\n",
       "| Mean | 6.588767 |\n",
       "| SD | 1.434708 |\n",
       "| Count | 4.000000 |\n",
       "\n"
      ],
      "text/plain": [
       "      Control_dif_White_Black\n",
       "Min   4.786662               \n",
       "Max   8.019224               \n",
       "Mean  6.588767               \n",
       "SD    1.434708               \n",
       "Count 4.000000               "
      ]
     },
     "metadata": {},
     "output_type": "display_data"
    }
   ],
   "source": [
    "summary_df[\"Control_dif_White_Black\"]"
   ]
  },
  {
   "cell_type": "markdown",
   "metadata": {},
   "source": [
    "### Counts for 18-24"
   ]
  },
  {
   "cell_type": "code",
   "execution_count": 216,
   "metadata": {},
   "outputs": [
    {
     "name": "stdout",
     "output_type": "stream",
     "text": [
      "[1] 36\n"
     ]
    }
   ],
   "source": [
    "#Getting the counts\n",
    "# Count the number of rows meeting the criteria\n",
    "num_rows <- final %>%\n",
    "  filter(Treatment == 1, Year > 2013, !is.na(PVoteC_18to24)) %>%\n",
    "  nrow()\n",
    "\n",
    "# Print the count\n",
    "print(num_rows)\n",
    "\n"
   ]
  },
  {
   "cell_type": "code",
   "execution_count": 217,
   "metadata": {},
   "outputs": [
    {
     "name": "stdout",
     "output_type": "stream",
     "text": [
      "[1] 24\n"
     ]
    }
   ],
   "source": [
    "#Getting the counts\n",
    "# Count the number of rows meeting the criteria\n",
    "num_rows <- final %>%\n",
    "  filter(Semi_treatment==1, Year > 2013, !is.na(PVoteC_18to24)) %>%\n",
    "  nrow()\n",
    "\n",
    "# Print the count\n",
    "print(num_rows)\n"
   ]
  },
  {
   "cell_type": "code",
   "execution_count": 218,
   "metadata": {},
   "outputs": [
    {
     "name": "stdout",
     "output_type": "stream",
     "text": [
      "[1] 144\n"
     ]
    }
   ],
   "source": [
    "#Getting the counts\n",
    "# Count the number of rows meeting the criteria\n",
    "num_rows <- final %>%\n",
    "  filter(Treatment == 0 & Semi_treatment==0, Year > 2013, !is.na(PVoteC_18to24)) %>%\n",
    "  nrow()\n",
    "\n",
    "# Print the count\n",
    "print(num_rows)\n"
   ]
  },
  {
   "cell_type": "markdown",
   "metadata": {},
   "source": [
    "### Counts for Black"
   ]
  },
  {
   "cell_type": "code",
   "execution_count": 219,
   "metadata": {},
   "outputs": [
    {
     "name": "stdout",
     "output_type": "stream",
     "text": [
      "[1] 36\n"
     ]
    }
   ],
   "source": [
    "#Getting the counts\n",
    "# Count the number of rows meeting the criteria\n",
    "num_rows <- final %>%\n",
    "  filter(Treatment == 1, Year > 2013, !is.na(PVoteC_Blackaloneorincombination)) %>%\n",
    "  nrow()\n",
    "\n",
    "# Print the count\n",
    "print(num_rows)"
   ]
  },
  {
   "cell_type": "code",
   "execution_count": 220,
   "metadata": {},
   "outputs": [
    {
     "name": "stdout",
     "output_type": "stream",
     "text": [
      "[1] 24\n"
     ]
    }
   ],
   "source": [
    "#Getting the counts\n",
    "# Count the number of rows meeting the criteria\n",
    "num_rows <- final %>%\n",
    "  filter(Semi_treatment == 1, Year > 2013, !is.na(PVoteC_Blackaloneorincombination)) %>%\n",
    "  nrow()\n",
    "\n",
    "# Print the count\n",
    "print(num_rows)"
   ]
  },
  {
   "cell_type": "code",
   "execution_count": 221,
   "metadata": {},
   "outputs": [
    {
     "name": "stdout",
     "output_type": "stream",
     "text": [
      "[1] 144\n"
     ]
    }
   ],
   "source": [
    "#Getting the counts\n",
    "# Count the number of rows meeting the criteria\n",
    "num_rows <- final %>%\n",
    "  filter(Treatment == 0 & Semi_treatment==0, Year > 2013, !is.na(PVoteC_Blackaloneorincombination)) %>%\n",
    "  nrow()\n",
    "\n",
    "# Print the count\n",
    "print(num_rows)"
   ]
  },
  {
   "cell_type": "markdown",
   "metadata": {},
   "source": [
    "### Counts on dif 45-64 and 18-24"
   ]
  },
  {
   "cell_type": "code",
   "execution_count": 222,
   "metadata": {},
   "outputs": [
    {
     "name": "stdout",
     "output_type": "stream",
     "text": [
      "[1] 36\n"
     ]
    }
   ],
   "source": [
    "num_rows <- final %>%\n",
    "  filter(Treatment == 1, Year > 2013, !is.na(PVoteC_18to24), !is.na(PVoteC_45to64)) %>%\n",
    "  nrow()\n",
    "\n",
    "# Print the count\n",
    "print(num_rows)\n"
   ]
  },
  {
   "cell_type": "code",
   "execution_count": 223,
   "metadata": {},
   "outputs": [
    {
     "name": "stdout",
     "output_type": "stream",
     "text": [
      "[1] 24\n"
     ]
    }
   ],
   "source": [
    "num_rows <- final %>%\n",
    "  filter(Semi_treatment == 1, Year > 2013, !is.na(PVoteC_18to24), !is.na(PVoteC_45to64)) %>%\n",
    "  nrow()\n",
    "\n",
    "# Print the count\n",
    "print(num_rows)"
   ]
  },
  {
   "cell_type": "code",
   "execution_count": 224,
   "metadata": {},
   "outputs": [
    {
     "name": "stdout",
     "output_type": "stream",
     "text": [
      "[1] 144\n"
     ]
    }
   ],
   "source": [
    "num_rows <- final %>%\n",
    "  filter(Treatment == 0 & Semi_treatment==0, Year > 2013, !is.na(PVoteC_18to24), !is.na(PVoteC_45to64)) %>%\n",
    "  nrow()\n",
    "\n",
    "# Print the count\n",
    "print(num_rows)"
   ]
  },
  {
   "cell_type": "markdown",
   "metadata": {},
   "source": [
    "### Counts on dif White and Black"
   ]
  },
  {
   "cell_type": "code",
   "execution_count": 225,
   "metadata": {},
   "outputs": [
    {
     "name": "stdout",
     "output_type": "stream",
     "text": [
      "[1] 36\n"
     ]
    }
   ],
   "source": [
    "num_rows <- final %>%\n",
    "  filter(Treatment == 1, Year > 2013, !is.na(PVoteC_Blackaloneorincombination), !is.na(PVoteC_Whitealoneorincombination)) %>%\n",
    "  nrow()\n",
    "\n",
    "# Print the count\n",
    "print(num_rows)\n"
   ]
  },
  {
   "cell_type": "code",
   "execution_count": 226,
   "metadata": {},
   "outputs": [
    {
     "name": "stdout",
     "output_type": "stream",
     "text": [
      "[1] 24\n"
     ]
    }
   ],
   "source": [
    "num_rows <- final %>%\n",
    "  filter(Semi_treatment == 1, Year > 2013, !is.na(PVoteC_Blackaloneorincombination), !is.na(PVoteC_Whitealoneorincombination)) %>%\n",
    "  nrow()\n",
    "\n",
    "# Print the count\n",
    "print(num_rows)\n"
   ]
  },
  {
   "cell_type": "code",
   "execution_count": 227,
   "metadata": {},
   "outputs": [
    {
     "name": "stdout",
     "output_type": "stream",
     "text": [
      "[1] 144\n"
     ]
    }
   ],
   "source": [
    "num_rows <- final %>%\n",
    "  filter(Treatment == 0 & Semi_treatment==0, Year > 2013, !is.na(PVoteC_Blackaloneorincombination), !is.na(PVoteC_Whitealoneorincombination)) %>%\n",
    "  nrow()\n",
    "\n",
    "# Print the count\n",
    "print(num_rows)\n"
   ]
  },
  {
   "cell_type": "markdown",
   "metadata": {},
   "source": [
    "# Graphing Weighted Averages"
   ]
  },
  {
   "cell_type": "markdown",
   "metadata": {},
   "source": [
    "## 18 to 24"
   ]
  },
  {
   "cell_type": "code",
   "execution_count": 230,
   "metadata": {},
   "outputs": [
    {
     "data": {
      "text/html": [
       "<style>\n",
       ".list-inline {list-style: none; margin:0; padding: 0}\n",
       ".list-inline>li {display: inline-block}\n",
       ".list-inline>li:not(:last-child)::after {content: \"\\00b7\"; padding: 0 .5ex}\n",
       "</style>\n",
       "<ol class=list-inline><li>'Year'</li><li>'Preclearance_WAvg_PVoteC_18to24'</li><li>'Preclearance_WAvg_PVoteC_45to64'</li><li>'Preclearance_WAvg_PVoteC_Whitealoneorincombination'</li><li>'Preclearance_WAvg_PVoteC_Blackaloneorincombination'</li><li>'Semipreclearance_WAvg_PVoteC_18to24'</li><li>'Semipreclearance_WAvg_PVoteC_45to64'</li><li>'Semipreclearance_WAvg_PVoteC_Whitealoneorincombination'</li><li>'Semipreclearance_WAvg_PVoteC_Blackaloneorincombination'</li><li>'Control_WAvg_PVoteC_18to24'</li><li>'Control_WAvg_PVoteC_45to64'</li><li>'Control_WAvg_PVoteC_Whitealoneorincombination'</li><li>'Control_WAvg_PVoteC_Blackaloneorincombination'</li><li>'Preclearance_dif_45to64_18to24'</li><li>'Semipreclearance_dif_45to64_18to24'</li><li>'Control_dif_45to64_18to24'</li><li>'Preclearance_dif_White_Black'</li><li>'Semipreclearance_dif_White_Black'</li><li>'Control_dif_White_Black'</li></ol>\n"
      ],
      "text/latex": [
       "\\begin{enumerate*}\n",
       "\\item 'Year'\n",
       "\\item 'Preclearance\\_WAvg\\_PVoteC\\_18to24'\n",
       "\\item 'Preclearance\\_WAvg\\_PVoteC\\_45to64'\n",
       "\\item 'Preclearance\\_WAvg\\_PVoteC\\_Whitealoneorincombination'\n",
       "\\item 'Preclearance\\_WAvg\\_PVoteC\\_Blackaloneorincombination'\n",
       "\\item 'Semipreclearance\\_WAvg\\_PVoteC\\_18to24'\n",
       "\\item 'Semipreclearance\\_WAvg\\_PVoteC\\_45to64'\n",
       "\\item 'Semipreclearance\\_WAvg\\_PVoteC\\_Whitealoneorincombination'\n",
       "\\item 'Semipreclearance\\_WAvg\\_PVoteC\\_Blackaloneorincombination'\n",
       "\\item 'Control\\_WAvg\\_PVoteC\\_18to24'\n",
       "\\item 'Control\\_WAvg\\_PVoteC\\_45to64'\n",
       "\\item 'Control\\_WAvg\\_PVoteC\\_Whitealoneorincombination'\n",
       "\\item 'Control\\_WAvg\\_PVoteC\\_Blackaloneorincombination'\n",
       "\\item 'Preclearance\\_dif\\_45to64\\_18to24'\n",
       "\\item 'Semipreclearance\\_dif\\_45to64\\_18to24'\n",
       "\\item 'Control\\_dif\\_45to64\\_18to24'\n",
       "\\item 'Preclearance\\_dif\\_White\\_Black'\n",
       "\\item 'Semipreclearance\\_dif\\_White\\_Black'\n",
       "\\item 'Control\\_dif\\_White\\_Black'\n",
       "\\end{enumerate*}\n"
      ],
      "text/markdown": [
       "1. 'Year'\n",
       "2. 'Preclearance_WAvg_PVoteC_18to24'\n",
       "3. 'Preclearance_WAvg_PVoteC_45to64'\n",
       "4. 'Preclearance_WAvg_PVoteC_Whitealoneorincombination'\n",
       "5. 'Preclearance_WAvg_PVoteC_Blackaloneorincombination'\n",
       "6. 'Semipreclearance_WAvg_PVoteC_18to24'\n",
       "7. 'Semipreclearance_WAvg_PVoteC_45to64'\n",
       "8. 'Semipreclearance_WAvg_PVoteC_Whitealoneorincombination'\n",
       "9. 'Semipreclearance_WAvg_PVoteC_Blackaloneorincombination'\n",
       "10. 'Control_WAvg_PVoteC_18to24'\n",
       "11. 'Control_WAvg_PVoteC_45to64'\n",
       "12. 'Control_WAvg_PVoteC_Whitealoneorincombination'\n",
       "13. 'Control_WAvg_PVoteC_Blackaloneorincombination'\n",
       "14. 'Preclearance_dif_45to64_18to24'\n",
       "15. 'Semipreclearance_dif_45to64_18to24'\n",
       "16. 'Control_dif_45to64_18to24'\n",
       "17. 'Preclearance_dif_White_Black'\n",
       "18. 'Semipreclearance_dif_White_Black'\n",
       "19. 'Control_dif_White_Black'\n",
       "\n",
       "\n"
      ],
      "text/plain": [
       " [1] \"Year\"                                                  \n",
       " [2] \"Preclearance_WAvg_PVoteC_18to24\"                       \n",
       " [3] \"Preclearance_WAvg_PVoteC_45to64\"                       \n",
       " [4] \"Preclearance_WAvg_PVoteC_Whitealoneorincombination\"    \n",
       " [5] \"Preclearance_WAvg_PVoteC_Blackaloneorincombination\"    \n",
       " [6] \"Semipreclearance_WAvg_PVoteC_18to24\"                   \n",
       " [7] \"Semipreclearance_WAvg_PVoteC_45to64\"                   \n",
       " [8] \"Semipreclearance_WAvg_PVoteC_Whitealoneorincombination\"\n",
       " [9] \"Semipreclearance_WAvg_PVoteC_Blackaloneorincombination\"\n",
       "[10] \"Control_WAvg_PVoteC_18to24\"                            \n",
       "[11] \"Control_WAvg_PVoteC_45to64\"                            \n",
       "[12] \"Control_WAvg_PVoteC_Whitealoneorincombination\"         \n",
       "[13] \"Control_WAvg_PVoteC_Blackaloneorincombination\"         \n",
       "[14] \"Preclearance_dif_45to64_18to24\"                        \n",
       "[15] \"Semipreclearance_dif_45to64_18to24\"                    \n",
       "[16] \"Control_dif_45to64_18to24\"                             \n",
       "[17] \"Preclearance_dif_White_Black\"                          \n",
       "[18] \"Semipreclearance_dif_White_Black\"                      \n",
       "[19] \"Control_dif_White_Black\"                               "
      ]
     },
     "metadata": {},
     "output_type": "display_data"
    }
   ],
   "source": [
    "colnames(graph_data_v)"
   ]
  },
  {
   "cell_type": "markdown",
   "metadata": {},
   "source": [
    "### Raw Weighted Averages"
   ]
  },
  {
   "cell_type": "code",
   "execution_count": 229,
   "metadata": {
    "scrolled": true
   },
   "outputs": [
    {
     "name": "stderr",
     "output_type": "stream",
     "text": [
      "Warning message:\n",
      "\"\u001b[1m\u001b[22mUsing `size` aesthetic for lines was deprecated in ggplot2 3.4.0.\n",
      "\u001b[36mℹ\u001b[39m Please use `linewidth` instead.\"\n",
      "\u001b[1m\u001b[22m`geom_smooth()` using formula = 'y ~ x'\n",
      "Warning message:\n",
      "\"\u001b[1m\u001b[22mRemoved 1 rows containing non-finite values (`stat_smooth()`).\"\n",
      "\u001b[1m\u001b[22m`geom_smooth()` using formula = 'y ~ x'\n",
      "\u001b[1m\u001b[22m`geom_smooth()` using formula = 'y ~ x'\n",
      "Warning message:\n",
      "\"\u001b[1m\u001b[22mRemoved 1 rows containing non-finite values (`stat_smooth()`).\"\n",
      "\u001b[1m\u001b[22m`geom_smooth()` using formula = 'y ~ x'\n",
      "\u001b[1m\u001b[22m`geom_smooth()` using formula = 'y ~ x'\n",
      "Warning message:\n",
      "\"\u001b[1m\u001b[22mRemoved 1 rows containing non-finite values (`stat_smooth()`).\"\n",
      "\u001b[1m\u001b[22m`geom_smooth()` using formula = 'y ~ x'\n",
      "Warning message:\n",
      "\"\u001b[1m\u001b[22mRemoved 1 rows containing missing values (`geom_point()`).\"\n",
      "Warning message:\n",
      "\"\u001b[1m\u001b[22mRemoved 1 rows containing missing values (`geom_point()`).\"\n",
      "Warning message:\n",
      "\"\u001b[1m\u001b[22mRemoved 1 rows containing missing values (`geom_point()`).\"\n"
     ]
    },
    {
     "data": {
      "image/png": "[encoded data removed]",
      "text/plain": [
       "plot without title"
      ]
     },
     "metadata": {
      "image/png": {
       "height": 420,
       "width": 420
      }
     },
     "output_type": "display_data"
    }
   ],
   "source": [
    "# Scatter plot with lines of best fit and legend\n",
    "p <- ggplot(graph_data_v, aes(x = Year)) +\n",
    "  geom_point(aes(y = Preclearance_WAvg_PVoteC_18to24, color = \"Preclearance\"), size = 3) +\n",
    "  geom_point(aes(y = Control_WAvg_PVoteC_18to24, color = \"Control\"), size = 3) +\n",
    "  geom_point(aes(y = Semipreclearance_WAvg_PVoteC_18to24, color = \"Semipreclearance\"), size = 3) +\n",
    "  geom_smooth(data = subset(graph_data_v, Year <= 2013), aes(x= Year, y = Preclearance_WAvg_PVoteC_18to24, group = 1, color = \"Preclearance\"), method = \"lm\", se = FALSE) +\n",
    "  geom_smooth(data = subset(graph_data_v, Year > 2013), aes(x= Year, y = Preclearance_WAvg_PVoteC_18to24, group = 1, color = \"Preclearance\"), method = \"lm\", se = FALSE) +\n",
    "  geom_smooth(data = subset(graph_data_v, Year <= 2013), aes(x= Year, y = Control_WAvg_PVoteC_18to24, group = 1, color = \"Control\"), method = \"lm\", se = FALSE) +\n",
    "  geom_smooth(data = subset(graph_data_v, Year > 2013), aes(x= Year, y = Control_WAvg_PVoteC_18to24, group = 1, color = \"Control\"), method = \"lm\", se = FALSE) +\n",
    "  geom_smooth(data = subset(graph_data_v, Year <= 2013), aes(x= Year, y = Semipreclearance_WAvg_PVoteC_18to24, group = 1, color = \"Semipreclearance\"), method = \"lm\", se = FALSE) +\n",
    "  geom_smooth(data = subset(graph_data_v, Year > 2013), aes(x= Year, y = Semipreclearance_WAvg_PVoteC_18to24, group = 1, color = \"Semipreclearance\"), method = \"lm\", se = FALSE) +\n",
    "  labs(x = \"Year\", y = \"Percent of 18-24y/o Who Voted\",\n",
    "       title = \"Percent of 18-24y/o Who Voted by Year and Treatment\") +\n",
    "  scale_color_manual(name = NULL, values = c(\"Preclearance\" = \"red\", \"Control\" = \"blue\", \"Semipreclearance\" = \"green\")) +\n",
    "  theme_minimal(base_size = 16) +\n",
    "  geom_vline(xintercept = 2013, color = \"black\", size = 0.5) +  # Add vertical line at Year = 2013 +\n",
    "  scale_x_continuous(breaks = seq(2000, 2020, by = 2)) +  # Set breaks on x-axis +\n",
    "  theme(\n",
    "    plot.title = element_text(size = 20, hjust = 0.5),  # Center title\n",
    "    legend.position = \"bottom\",  # Move legend to the bottom\n",
    "    legend.box = \"horizontal\",   # Horizontal legend\n",
    "    legend.title = element_text(size = 14),\n",
    "    legend.text = element_text(size = 12),\n",
    "    axis.text.x = element_text(size = 12),\n",
    "    axis.text.y = element_text(size = 12),\n",
    "    axis.title.x = element_text(size = 14),\n",
    "    axis.title.y = element_text(size = 14)\n",
    "  ) \n",
    "\n",
    "# Print the plot\n",
    "p <- p + scale_y_continuous(breaks = seq(0, 70, by = 5))\n",
    "p"
   ]
  },
  {
   "cell_type": "markdown",
   "metadata": {},
   "source": [
    "### Weighted Averages Adjusted by Presidential Year"
   ]
  },
  {
   "cell_type": "code",
   "execution_count": 231,
   "metadata": {},
   "outputs": [
    {
     "data": {
      "text/html": [
       "<table class=\"dataframe\">\n",
       "<caption>A data.frame: 6 × 19</caption>\n",
       "<thead>\n",
       "\t<tr><th></th><th scope=col>Year</th><th scope=col>Preclearance_WAvg_PVoteC_18to24</th><th scope=col>Preclearance_WAvg_PVoteC_45to64</th><th scope=col>Preclearance_WAvg_PVoteC_Whitealoneorincombination</th><th scope=col>Preclearance_WAvg_PVoteC_Blackaloneorincombination</th><th scope=col>Semipreclearance_WAvg_PVoteC_18to24</th><th scope=col>Semipreclearance_WAvg_PVoteC_45to64</th><th scope=col>Semipreclearance_WAvg_PVoteC_Whitealoneorincombination</th><th scope=col>Semipreclearance_WAvg_PVoteC_Blackaloneorincombination</th><th scope=col>Control_WAvg_PVoteC_18to24</th><th scope=col>Control_WAvg_PVoteC_45to64</th><th scope=col>Control_WAvg_PVoteC_Whitealoneorincombination</th><th scope=col>Control_WAvg_PVoteC_Blackaloneorincombination</th><th scope=col>Preclearance_dif_45to64_18to24</th><th scope=col>Semipreclearance_dif_45to64_18to24</th><th scope=col>Control_dif_45to64_18to24</th><th scope=col>Preclearance_dif_White_Black</th><th scope=col>Semipreclearance_dif_White_Black</th><th scope=col>Control_dif_White_Black</th></tr>\n",
       "\t<tr><th></th><th scope=col>&lt;dbl&gt;</th><th scope=col>&lt;dbl&gt;</th><th scope=col>&lt;dbl&gt;</th><th scope=col>&lt;dbl&gt;</th><th scope=col>&lt;dbl&gt;</th><th scope=col>&lt;dbl&gt;</th><th scope=col>&lt;dbl&gt;</th><th scope=col>&lt;dbl&gt;</th><th scope=col>&lt;dbl&gt;</th><th scope=col>&lt;dbl&gt;</th><th scope=col>&lt;dbl&gt;</th><th scope=col>&lt;dbl&gt;</th><th scope=col>&lt;dbl&gt;</th><th scope=col>&lt;dbl&gt;</th><th scope=col>&lt;dbl&gt;</th><th scope=col>&lt;dbl&gt;</th><th scope=col>&lt;dbl&gt;</th><th scope=col>&lt;dbl&gt;</th><th scope=col>&lt;dbl&gt;</th></tr>\n",
       "</thead>\n",
       "<tbody>\n",
       "\t<tr><th scope=row>1</th><td>2000</td><td>35.33409</td><td>65.00868</td><td>57.08034</td><td>56.86832</td><td>35.49440</td><td>66.45517</td><td>60.55371</td><td>54.05005</td><td>36.80844</td><td>69.64811</td><td>61.63301</td><td>58.83378</td><td>29.67459</td><td>30.96077</td><td>32.83967</td><td> 0.212023</td><td>6.503659</td><td> 2.7992307</td></tr>\n",
       "\t<tr><th scope=row>2</th><td>2002</td><td>18.03443</td><td>52.89243</td><td>43.53202</td><td>41.87277</td><td>18.79065</td><td>54.09899</td><td>47.30229</td><td>40.85162</td><td>20.10403</td><td>58.45694</td><td>48.89794</td><td>43.85778</td><td>34.85800</td><td>35.30834</td><td>38.35291</td><td> 1.659253</td><td>6.450671</td><td> 5.0401561</td></tr>\n",
       "\t<tr><th scope=row>3</th><td>2004</td><td>42.69860</td><td>67.31650</td><td>61.32881</td><td>59.03175</td><td>46.44934</td><td>68.11128</td><td>64.58915</td><td>59.74327</td><td>48.57720</td><td>73.06689</td><td>67.16582</td><td>60.77727</td><td>24.61790</td><td>21.66194</td><td>24.48969</td><td> 2.297052</td><td>4.845871</td><td> 6.3885539</td></tr>\n",
       "\t<tr><th scope=row>4</th><td>2006</td><td>     NaN</td><td>     NaN</td><td>44.02342</td><td>41.02660</td><td>     NaN</td><td>     NaN</td><td>48.62093</td><td>39.60215</td><td>     NaN</td><td>     NaN</td><td>52.16366</td><td>42.06836</td><td>     NaN</td><td>     NaN</td><td>     NaN</td><td> 2.996826</td><td>9.018787</td><td>10.0952976</td></tr>\n",
       "\t<tr><th scope=row>5</th><td>2008</td><td>44.69669</td><td>68.40499</td><td>61.52265</td><td>67.30118</td><td>49.57096</td><td>68.72288</td><td>64.96692</td><td>62.05102</td><td>49.56354</td><td>69.71250</td><td>65.01537</td><td>64.57909</td><td>23.70829</td><td>19.15192</td><td>20.14896</td><td>-5.778533</td><td>2.915894</td><td> 0.4362799</td></tr>\n",
       "\t<tr><th scope=row>6</th><td>2010</td><td>20.69935</td><td>51.26626</td><td>42.76913</td><td>44.24392</td><td>23.22844</td><td>53.66126</td><td>47.55154</td><td>42.19548</td><td>20.26144</td><td>56.08714</td><td>47.54431</td><td>43.15032</td><td>30.56691</td><td>30.43281</td><td>35.82570</td><td>-1.474787</td><td>5.356066</td><td> 4.3939923</td></tr>\n",
       "</tbody>\n",
       "</table>\n"
      ],
      "text/latex": [
       "A data.frame: 6 × 19\n",
       "\\begin{tabular}{r|lllllllllllllllllll}\n",
       "  & Year & Preclearance\\_WAvg\\_PVoteC\\_18to24 & Preclearance\\_WAvg\\_PVoteC\\_45to64 & Preclearance\\_WAvg\\_PVoteC\\_Whitealoneorincombination & Preclearance\\_WAvg\\_PVoteC\\_Blackaloneorincombination & Semipreclearance\\_WAvg\\_PVoteC\\_18to24 & Semipreclearance\\_WAvg\\_PVoteC\\_45to64 & Semipreclearance\\_WAvg\\_PVoteC\\_Whitealoneorincombination & Semipreclearance\\_WAvg\\_PVoteC\\_Blackaloneorincombination & Control\\_WAvg\\_PVoteC\\_18to24 & Control\\_WAvg\\_PVoteC\\_45to64 & Control\\_WAvg\\_PVoteC\\_Whitealoneorincombination & Control\\_WAvg\\_PVoteC\\_Blackaloneorincombination & Preclearance\\_dif\\_45to64\\_18to24 & Semipreclearance\\_dif\\_45to64\\_18to24 & Control\\_dif\\_45to64\\_18to24 & Preclearance\\_dif\\_White\\_Black & Semipreclearance\\_dif\\_White\\_Black & Control\\_dif\\_White\\_Black\\\\\n",
       "  & <dbl> & <dbl> & <dbl> & <dbl> & <dbl> & <dbl> & <dbl> & <dbl> & <dbl> & <dbl> & <dbl> & <dbl> & <dbl> & <dbl> & <dbl> & <dbl> & <dbl> & <dbl> & <dbl>\\\\\n",
       "\\hline\n",
       "\t1 & 2000 & 35.33409 & 65.00868 & 57.08034 & 56.86832 & 35.49440 & 66.45517 & 60.55371 & 54.05005 & 36.80844 & 69.64811 & 61.63301 & 58.83378 & 29.67459 & 30.96077 & 32.83967 &  0.212023 & 6.503659 &  2.7992307\\\\\n",
       "\t2 & 2002 & 18.03443 & 52.89243 & 43.53202 & 41.87277 & 18.79065 & 54.09899 & 47.30229 & 40.85162 & 20.10403 & 58.45694 & 48.89794 & 43.85778 & 34.85800 & 35.30834 & 38.35291 &  1.659253 & 6.450671 &  5.0401561\\\\\n",
       "\t3 & 2004 & 42.69860 & 67.31650 & 61.32881 & 59.03175 & 46.44934 & 68.11128 & 64.58915 & 59.74327 & 48.57720 & 73.06689 & 67.16582 & 60.77727 & 24.61790 & 21.66194 & 24.48969 &  2.297052 & 4.845871 &  6.3885539\\\\\n",
       "\t4 & 2006 &      NaN &      NaN & 44.02342 & 41.02660 &      NaN &      NaN & 48.62093 & 39.60215 &      NaN &      NaN & 52.16366 & 42.06836 &      NaN &      NaN &      NaN &  2.996826 & 9.018787 & 10.0952976\\\\\n",
       "\t5 & 2008 & 44.69669 & 68.40499 & 61.52265 & 67.30118 & 49.57096 & 68.72288 & 64.96692 & 62.05102 & 49.56354 & 69.71250 & 65.01537 & 64.57909 & 23.70829 & 19.15192 & 20.14896 & -5.778533 & 2.915894 &  0.4362799\\\\\n",
       "\t6 & 2010 & 20.69935 & 51.26626 & 42.76913 & 44.24392 & 23.22844 & 53.66126 & 47.55154 & 42.19548 & 20.26144 & 56.08714 & 47.54431 & 43.15032 & 30.56691 & 30.43281 & 35.82570 & -1.474787 & 5.356066 &  4.3939923\\\\\n",
       "\\end{tabular}\n"
      ],
      "text/markdown": [
       "\n",
       "A data.frame: 6 × 19\n",
       "\n",
       "| <!--/--> | Year &lt;dbl&gt; | Preclearance_WAvg_PVoteC_18to24 &lt;dbl&gt; | Preclearance_WAvg_PVoteC_45to64 &lt;dbl&gt; | Preclearance_WAvg_PVoteC_Whitealoneorincombination &lt;dbl&gt; | Preclearance_WAvg_PVoteC_Blackaloneorincombination &lt;dbl&gt; | Semipreclearance_WAvg_PVoteC_18to24 &lt;dbl&gt; | Semipreclearance_WAvg_PVoteC_45to64 &lt;dbl&gt; | Semipreclearance_WAvg_PVoteC_Whitealoneorincombination &lt;dbl&gt; | Semipreclearance_WAvg_PVoteC_Blackaloneorincombination &lt;dbl&gt; | Control_WAvg_PVoteC_18to24 &lt;dbl&gt; | Control_WAvg_PVoteC_45to64 &lt;dbl&gt; | Control_WAvg_PVoteC_Whitealoneorincombination &lt;dbl&gt; | Control_WAvg_PVoteC_Blackaloneorincombination &lt;dbl&gt; | Preclearance_dif_45to64_18to24 &lt;dbl&gt; | Semipreclearance_dif_45to64_18to24 &lt;dbl&gt; | Control_dif_45to64_18to24 &lt;dbl&gt; | Preclearance_dif_White_Black &lt;dbl&gt; | Semipreclearance_dif_White_Black &lt;dbl&gt; | Control_dif_White_Black &lt;dbl&gt; |\n",
       "|---|---|---|---|---|---|---|---|---|---|---|---|---|---|---|---|---|---|---|---|\n",
       "| 1 | 2000 | 35.33409 | 65.00868 | 57.08034 | 56.86832 | 35.49440 | 66.45517 | 60.55371 | 54.05005 | 36.80844 | 69.64811 | 61.63301 | 58.83378 | 29.67459 | 30.96077 | 32.83967 |  0.212023 | 6.503659 |  2.7992307 |\n",
       "| 2 | 2002 | 18.03443 | 52.89243 | 43.53202 | 41.87277 | 18.79065 | 54.09899 | 47.30229 | 40.85162 | 20.10403 | 58.45694 | 48.89794 | 43.85778 | 34.85800 | 35.30834 | 38.35291 |  1.659253 | 6.450671 |  5.0401561 |\n",
       "| 3 | 2004 | 42.69860 | 67.31650 | 61.32881 | 59.03175 | 46.44934 | 68.11128 | 64.58915 | 59.74327 | 48.57720 | 73.06689 | 67.16582 | 60.77727 | 24.61790 | 21.66194 | 24.48969 |  2.297052 | 4.845871 |  6.3885539 |\n",
       "| 4 | 2006 |      NaN |      NaN | 44.02342 | 41.02660 |      NaN |      NaN | 48.62093 | 39.60215 |      NaN |      NaN | 52.16366 | 42.06836 |      NaN |      NaN |      NaN |  2.996826 | 9.018787 | 10.0952976 |\n",
       "| 5 | 2008 | 44.69669 | 68.40499 | 61.52265 | 67.30118 | 49.57096 | 68.72288 | 64.96692 | 62.05102 | 49.56354 | 69.71250 | 65.01537 | 64.57909 | 23.70829 | 19.15192 | 20.14896 | -5.778533 | 2.915894 |  0.4362799 |\n",
       "| 6 | 2010 | 20.69935 | 51.26626 | 42.76913 | 44.24392 | 23.22844 | 53.66126 | 47.55154 | 42.19548 | 20.26144 | 56.08714 | 47.54431 | 43.15032 | 30.56691 | 30.43281 | 35.82570 | -1.474787 | 5.356066 |  4.3939923 |\n",
       "\n"
      ],
      "text/plain": [
       "  Year Preclearance_WAvg_PVoteC_18to24 Preclearance_WAvg_PVoteC_45to64\n",
       "1 2000 35.33409                        65.00868                       \n",
       "2 2002 18.03443                        52.89243                       \n",
       "3 2004 42.69860                        67.31650                       \n",
       "4 2006      NaN                             NaN                       \n",
       "5 2008 44.69669                        68.40499                       \n",
       "6 2010 20.69935                        51.26626                       \n",
       "  Preclearance_WAvg_PVoteC_Whitealoneorincombination\n",
       "1 57.08034                                          \n",
       "2 43.53202                                          \n",
       "3 61.32881                                          \n",
       "4 44.02342                                          \n",
       "5 61.52265                                          \n",
       "6 42.76913                                          \n",
       "  Preclearance_WAvg_PVoteC_Blackaloneorincombination\n",
       "1 56.86832                                          \n",
       "2 41.87277                                          \n",
       "3 59.03175                                          \n",
       "4 41.02660                                          \n",
       "5 67.30118                                          \n",
       "6 44.24392                                          \n",
       "  Semipreclearance_WAvg_PVoteC_18to24 Semipreclearance_WAvg_PVoteC_45to64\n",
       "1 35.49440                            66.45517                           \n",
       "2 18.79065                            54.09899                           \n",
       "3 46.44934                            68.11128                           \n",
       "4      NaN                                 NaN                           \n",
       "5 49.57096                            68.72288                           \n",
       "6 23.22844                            53.66126                           \n",
       "  Semipreclearance_WAvg_PVoteC_Whitealoneorincombination\n",
       "1 60.55371                                              \n",
       "2 47.30229                                              \n",
       "3 64.58915                                              \n",
       "4 48.62093                                              \n",
       "5 64.96692                                              \n",
       "6 47.55154                                              \n",
       "  Semipreclearance_WAvg_PVoteC_Blackaloneorincombination\n",
       "1 54.05005                                              \n",
       "2 40.85162                                              \n",
       "3 59.74327                                              \n",
       "4 39.60215                                              \n",
       "5 62.05102                                              \n",
       "6 42.19548                                              \n",
       "  Control_WAvg_PVoteC_18to24 Control_WAvg_PVoteC_45to64\n",
       "1 36.80844                   69.64811                  \n",
       "2 20.10403                   58.45694                  \n",
       "3 48.57720                   73.06689                  \n",
       "4      NaN                        NaN                  \n",
       "5 49.56354                   69.71250                  \n",
       "6 20.26144                   56.08714                  \n",
       "  Control_WAvg_PVoteC_Whitealoneorincombination\n",
       "1 61.63301                                     \n",
       "2 48.89794                                     \n",
       "3 67.16582                                     \n",
       "4 52.16366                                     \n",
       "5 65.01537                                     \n",
       "6 47.54431                                     \n",
       "  Control_WAvg_PVoteC_Blackaloneorincombination Preclearance_dif_45to64_18to24\n",
       "1 58.83378                                      29.67459                      \n",
       "2 43.85778                                      34.85800                      \n",
       "3 60.77727                                      24.61790                      \n",
       "4 42.06836                                           NaN                      \n",
       "5 64.57909                                      23.70829                      \n",
       "6 43.15032                                      30.56691                      \n",
       "  Semipreclearance_dif_45to64_18to24 Control_dif_45to64_18to24\n",
       "1 30.96077                           32.83967                 \n",
       "2 35.30834                           38.35291                 \n",
       "3 21.66194                           24.48969                 \n",
       "4      NaN                                NaN                 \n",
       "5 19.15192                           20.14896                 \n",
       "6 30.43281                           35.82570                 \n",
       "  Preclearance_dif_White_Black Semipreclearance_dif_White_Black\n",
       "1  0.212023                    6.503659                        \n",
       "2  1.659253                    6.450671                        \n",
       "3  2.297052                    4.845871                        \n",
       "4  2.996826                    9.018787                        \n",
       "5 -5.778533                    2.915894                        \n",
       "6 -1.474787                    5.356066                        \n",
       "  Control_dif_White_Black\n",
       "1  2.7992307             \n",
       "2  5.0401561             \n",
       "3  6.3885539             \n",
       "4 10.0952976             \n",
       "5  0.4362799             \n",
       "6  4.3939923             "
      ]
     },
     "metadata": {},
     "output_type": "display_data"
    }
   ],
   "source": [
    "#Adjusted for presidential year\n",
    "graph_v_copy <- graph_data_v\n",
    "head(graph_v_copy)"
   ]
  },
  {
   "cell_type": "code",
   "execution_count": 232,
   "metadata": {},
   "outputs": [],
   "source": [
    "years_to_modify <- c(2002, 2006, 2010, 2014, 2018)\n",
    "\n",
    "# Get the column indices of columns containing \"18to24\" in their names\n",
    "cols_to_modify <- grep(\"18to24\", names(graph_v_copy))\n",
    "\n",
    "# Check if Year is in the specified years and add 22.49361726 to selected columns\n",
    "graph_v_copy[graph_v_copy$Year %in% years_to_modify, cols_to_modify] <- \n",
    "  graph_v_copy[graph_v_copy$Year %in% years_to_modify, cols_to_modify] + 22.357"
   ]
  },
  {
   "cell_type": "code",
   "execution_count": 233,
   "metadata": {},
   "outputs": [
    {
     "data": {
      "text/html": [
       "<table class=\"dataframe\">\n",
       "<caption>A data.frame: 6 × 19</caption>\n",
       "<thead>\n",
       "\t<tr><th></th><th scope=col>Year</th><th scope=col>Preclearance_WAvg_PVoteC_18to24</th><th scope=col>Preclearance_WAvg_PVoteC_45to64</th><th scope=col>Preclearance_WAvg_PVoteC_Whitealoneorincombination</th><th scope=col>Preclearance_WAvg_PVoteC_Blackaloneorincombination</th><th scope=col>Semipreclearance_WAvg_PVoteC_18to24</th><th scope=col>Semipreclearance_WAvg_PVoteC_45to64</th><th scope=col>Semipreclearance_WAvg_PVoteC_Whitealoneorincombination</th><th scope=col>Semipreclearance_WAvg_PVoteC_Blackaloneorincombination</th><th scope=col>Control_WAvg_PVoteC_18to24</th><th scope=col>Control_WAvg_PVoteC_45to64</th><th scope=col>Control_WAvg_PVoteC_Whitealoneorincombination</th><th scope=col>Control_WAvg_PVoteC_Blackaloneorincombination</th><th scope=col>Preclearance_dif_45to64_18to24</th><th scope=col>Semipreclearance_dif_45to64_18to24</th><th scope=col>Control_dif_45to64_18to24</th><th scope=col>Preclearance_dif_White_Black</th><th scope=col>Semipreclearance_dif_White_Black</th><th scope=col>Control_dif_White_Black</th></tr>\n",
       "\t<tr><th></th><th scope=col>&lt;dbl&gt;</th><th scope=col>&lt;dbl&gt;</th><th scope=col>&lt;dbl&gt;</th><th scope=col>&lt;dbl&gt;</th><th scope=col>&lt;dbl&gt;</th><th scope=col>&lt;dbl&gt;</th><th scope=col>&lt;dbl&gt;</th><th scope=col>&lt;dbl&gt;</th><th scope=col>&lt;dbl&gt;</th><th scope=col>&lt;dbl&gt;</th><th scope=col>&lt;dbl&gt;</th><th scope=col>&lt;dbl&gt;</th><th scope=col>&lt;dbl&gt;</th><th scope=col>&lt;dbl&gt;</th><th scope=col>&lt;dbl&gt;</th><th scope=col>&lt;dbl&gt;</th><th scope=col>&lt;dbl&gt;</th><th scope=col>&lt;dbl&gt;</th><th scope=col>&lt;dbl&gt;</th></tr>\n",
       "</thead>\n",
       "<tbody>\n",
       "\t<tr><th scope=row>1</th><td>2000</td><td>35.33409</td><td>65.00868</td><td>57.08034</td><td>56.86832</td><td>35.49440</td><td>66.45517</td><td>60.55371</td><td>54.05005</td><td>36.80844</td><td>69.64811</td><td>61.63301</td><td>58.83378</td><td>29.67459</td><td>30.96077</td><td>32.83967</td><td> 0.212023</td><td>6.503659</td><td> 2.7992307</td></tr>\n",
       "\t<tr><th scope=row>2</th><td>2002</td><td>40.39143</td><td>52.89243</td><td>43.53202</td><td>41.87277</td><td>41.14765</td><td>54.09899</td><td>47.30229</td><td>40.85162</td><td>42.46103</td><td>58.45694</td><td>48.89794</td><td>43.85778</td><td>57.21500</td><td>57.66534</td><td>60.70991</td><td> 1.659253</td><td>6.450671</td><td> 5.0401561</td></tr>\n",
       "\t<tr><th scope=row>3</th><td>2004</td><td>42.69860</td><td>67.31650</td><td>61.32881</td><td>59.03175</td><td>46.44934</td><td>68.11128</td><td>64.58915</td><td>59.74327</td><td>48.57720</td><td>73.06689</td><td>67.16582</td><td>60.77727</td><td>24.61790</td><td>21.66194</td><td>24.48969</td><td> 2.297052</td><td>4.845871</td><td> 6.3885539</td></tr>\n",
       "\t<tr><th scope=row>4</th><td>2006</td><td>     NaN</td><td>     NaN</td><td>44.02342</td><td>41.02660</td><td>     NaN</td><td>     NaN</td><td>48.62093</td><td>39.60215</td><td>     NaN</td><td>     NaN</td><td>52.16366</td><td>42.06836</td><td>     NaN</td><td>     NaN</td><td>     NaN</td><td> 2.996826</td><td>9.018787</td><td>10.0952976</td></tr>\n",
       "\t<tr><th scope=row>5</th><td>2008</td><td>44.69669</td><td>68.40499</td><td>61.52265</td><td>67.30118</td><td>49.57096</td><td>68.72288</td><td>64.96692</td><td>62.05102</td><td>49.56354</td><td>69.71250</td><td>65.01537</td><td>64.57909</td><td>23.70829</td><td>19.15192</td><td>20.14896</td><td>-5.778533</td><td>2.915894</td><td> 0.4362799</td></tr>\n",
       "\t<tr><th scope=row>6</th><td>2010</td><td>43.05635</td><td>51.26626</td><td>42.76913</td><td>44.24392</td><td>45.58544</td><td>53.66126</td><td>47.55154</td><td>42.19548</td><td>42.61844</td><td>56.08714</td><td>47.54431</td><td>43.15032</td><td>52.92391</td><td>52.78981</td><td>58.18270</td><td>-1.474787</td><td>5.356066</td><td> 4.3939923</td></tr>\n",
       "</tbody>\n",
       "</table>\n"
      ],
      "text/latex": [
       "A data.frame: 6 × 19\n",
       "\\begin{tabular}{r|lllllllllllllllllll}\n",
       "  & Year & Preclearance\\_WAvg\\_PVoteC\\_18to24 & Preclearance\\_WAvg\\_PVoteC\\_45to64 & Preclearance\\_WAvg\\_PVoteC\\_Whitealoneorincombination & Preclearance\\_WAvg\\_PVoteC\\_Blackaloneorincombination & Semipreclearance\\_WAvg\\_PVoteC\\_18to24 & Semipreclearance\\_WAvg\\_PVoteC\\_45to64 & Semipreclearance\\_WAvg\\_PVoteC\\_Whitealoneorincombination & Semipreclearance\\_WAvg\\_PVoteC\\_Blackaloneorincombination & Control\\_WAvg\\_PVoteC\\_18to24 & Control\\_WAvg\\_PVoteC\\_45to64 & Control\\_WAvg\\_PVoteC\\_Whitealoneorincombination & Control\\_WAvg\\_PVoteC\\_Blackaloneorincombination & Preclearance\\_dif\\_45to64\\_18to24 & Semipreclearance\\_dif\\_45to64\\_18to24 & Control\\_dif\\_45to64\\_18to24 & Preclearance\\_dif\\_White\\_Black & Semipreclearance\\_dif\\_White\\_Black & Control\\_dif\\_White\\_Black\\\\\n",
       "  & <dbl> & <dbl> & <dbl> & <dbl> & <dbl> & <dbl> & <dbl> & <dbl> & <dbl> & <dbl> & <dbl> & <dbl> & <dbl> & <dbl> & <dbl> & <dbl> & <dbl> & <dbl> & <dbl>\\\\\n",
       "\\hline\n",
       "\t1 & 2000 & 35.33409 & 65.00868 & 57.08034 & 56.86832 & 35.49440 & 66.45517 & 60.55371 & 54.05005 & 36.80844 & 69.64811 & 61.63301 & 58.83378 & 29.67459 & 30.96077 & 32.83967 &  0.212023 & 6.503659 &  2.7992307\\\\\n",
       "\t2 & 2002 & 40.39143 & 52.89243 & 43.53202 & 41.87277 & 41.14765 & 54.09899 & 47.30229 & 40.85162 & 42.46103 & 58.45694 & 48.89794 & 43.85778 & 57.21500 & 57.66534 & 60.70991 &  1.659253 & 6.450671 &  5.0401561\\\\\n",
       "\t3 & 2004 & 42.69860 & 67.31650 & 61.32881 & 59.03175 & 46.44934 & 68.11128 & 64.58915 & 59.74327 & 48.57720 & 73.06689 & 67.16582 & 60.77727 & 24.61790 & 21.66194 & 24.48969 &  2.297052 & 4.845871 &  6.3885539\\\\\n",
       "\t4 & 2006 &      NaN &      NaN & 44.02342 & 41.02660 &      NaN &      NaN & 48.62093 & 39.60215 &      NaN &      NaN & 52.16366 & 42.06836 &      NaN &      NaN &      NaN &  2.996826 & 9.018787 & 10.0952976\\\\\n",
       "\t5 & 2008 & 44.69669 & 68.40499 & 61.52265 & 67.30118 & 49.57096 & 68.72288 & 64.96692 & 62.05102 & 49.56354 & 69.71250 & 65.01537 & 64.57909 & 23.70829 & 19.15192 & 20.14896 & -5.778533 & 2.915894 &  0.4362799\\\\\n",
       "\t6 & 2010 & 43.05635 & 51.26626 & 42.76913 & 44.24392 & 45.58544 & 53.66126 & 47.55154 & 42.19548 & 42.61844 & 56.08714 & 47.54431 & 43.15032 & 52.92391 & 52.78981 & 58.18270 & -1.474787 & 5.356066 &  4.3939923\\\\\n",
       "\\end{tabular}\n"
      ],
      "text/markdown": [
       "\n",
       "A data.frame: 6 × 19\n",
       "\n",
       "| <!--/--> | Year &lt;dbl&gt; | Preclearance_WAvg_PVoteC_18to24 &lt;dbl&gt; | Preclearance_WAvg_PVoteC_45to64 &lt;dbl&gt; | Preclearance_WAvg_PVoteC_Whitealoneorincombination &lt;dbl&gt; | Preclearance_WAvg_PVoteC_Blackaloneorincombination &lt;dbl&gt; | Semipreclearance_WAvg_PVoteC_18to24 &lt;dbl&gt; | Semipreclearance_WAvg_PVoteC_45to64 &lt;dbl&gt; | Semipreclearance_WAvg_PVoteC_Whitealoneorincombination &lt;dbl&gt; | Semipreclearance_WAvg_PVoteC_Blackaloneorincombination &lt;dbl&gt; | Control_WAvg_PVoteC_18to24 &lt;dbl&gt; | Control_WAvg_PVoteC_45to64 &lt;dbl&gt; | Control_WAvg_PVoteC_Whitealoneorincombination &lt;dbl&gt; | Control_WAvg_PVoteC_Blackaloneorincombination &lt;dbl&gt; | Preclearance_dif_45to64_18to24 &lt;dbl&gt; | Semipreclearance_dif_45to64_18to24 &lt;dbl&gt; | Control_dif_45to64_18to24 &lt;dbl&gt; | Preclearance_dif_White_Black &lt;dbl&gt; | Semipreclearance_dif_White_Black &lt;dbl&gt; | Control_dif_White_Black &lt;dbl&gt; |\n",
       "|---|---|---|---|---|---|---|---|---|---|---|---|---|---|---|---|---|---|---|---|\n",
       "| 1 | 2000 | 35.33409 | 65.00868 | 57.08034 | 56.86832 | 35.49440 | 66.45517 | 60.55371 | 54.05005 | 36.80844 | 69.64811 | 61.63301 | 58.83378 | 29.67459 | 30.96077 | 32.83967 |  0.212023 | 6.503659 |  2.7992307 |\n",
       "| 2 | 2002 | 40.39143 | 52.89243 | 43.53202 | 41.87277 | 41.14765 | 54.09899 | 47.30229 | 40.85162 | 42.46103 | 58.45694 | 48.89794 | 43.85778 | 57.21500 | 57.66534 | 60.70991 |  1.659253 | 6.450671 |  5.0401561 |\n",
       "| 3 | 2004 | 42.69860 | 67.31650 | 61.32881 | 59.03175 | 46.44934 | 68.11128 | 64.58915 | 59.74327 | 48.57720 | 73.06689 | 67.16582 | 60.77727 | 24.61790 | 21.66194 | 24.48969 |  2.297052 | 4.845871 |  6.3885539 |\n",
       "| 4 | 2006 |      NaN |      NaN | 44.02342 | 41.02660 |      NaN |      NaN | 48.62093 | 39.60215 |      NaN |      NaN | 52.16366 | 42.06836 |      NaN |      NaN |      NaN |  2.996826 | 9.018787 | 10.0952976 |\n",
       "| 5 | 2008 | 44.69669 | 68.40499 | 61.52265 | 67.30118 | 49.57096 | 68.72288 | 64.96692 | 62.05102 | 49.56354 | 69.71250 | 65.01537 | 64.57909 | 23.70829 | 19.15192 | 20.14896 | -5.778533 | 2.915894 |  0.4362799 |\n",
       "| 6 | 2010 | 43.05635 | 51.26626 | 42.76913 | 44.24392 | 45.58544 | 53.66126 | 47.55154 | 42.19548 | 42.61844 | 56.08714 | 47.54431 | 43.15032 | 52.92391 | 52.78981 | 58.18270 | -1.474787 | 5.356066 |  4.3939923 |\n",
       "\n"
      ],
      "text/plain": [
       "  Year Preclearance_WAvg_PVoteC_18to24 Preclearance_WAvg_PVoteC_45to64\n",
       "1 2000 35.33409                        65.00868                       \n",
       "2 2002 40.39143                        52.89243                       \n",
       "3 2004 42.69860                        67.31650                       \n",
       "4 2006      NaN                             NaN                       \n",
       "5 2008 44.69669                        68.40499                       \n",
       "6 2010 43.05635                        51.26626                       \n",
       "  Preclearance_WAvg_PVoteC_Whitealoneorincombination\n",
       "1 57.08034                                          \n",
       "2 43.53202                                          \n",
       "3 61.32881                                          \n",
       "4 44.02342                                          \n",
       "5 61.52265                                          \n",
       "6 42.76913                                          \n",
       "  Preclearance_WAvg_PVoteC_Blackaloneorincombination\n",
       "1 56.86832                                          \n",
       "2 41.87277                                          \n",
       "3 59.03175                                          \n",
       "4 41.02660                                          \n",
       "5 67.30118                                          \n",
       "6 44.24392                                          \n",
       "  Semipreclearance_WAvg_PVoteC_18to24 Semipreclearance_WAvg_PVoteC_45to64\n",
       "1 35.49440                            66.45517                           \n",
       "2 41.14765                            54.09899                           \n",
       "3 46.44934                            68.11128                           \n",
       "4      NaN                                 NaN                           \n",
       "5 49.57096                            68.72288                           \n",
       "6 45.58544                            53.66126                           \n",
       "  Semipreclearance_WAvg_PVoteC_Whitealoneorincombination\n",
       "1 60.55371                                              \n",
       "2 47.30229                                              \n",
       "3 64.58915                                              \n",
       "4 48.62093                                              \n",
       "5 64.96692                                              \n",
       "6 47.55154                                              \n",
       "  Semipreclearance_WAvg_PVoteC_Blackaloneorincombination\n",
       "1 54.05005                                              \n",
       "2 40.85162                                              \n",
       "3 59.74327                                              \n",
       "4 39.60215                                              \n",
       "5 62.05102                                              \n",
       "6 42.19548                                              \n",
       "  Control_WAvg_PVoteC_18to24 Control_WAvg_PVoteC_45to64\n",
       "1 36.80844                   69.64811                  \n",
       "2 42.46103                   58.45694                  \n",
       "3 48.57720                   73.06689                  \n",
       "4      NaN                        NaN                  \n",
       "5 49.56354                   69.71250                  \n",
       "6 42.61844                   56.08714                  \n",
       "  Control_WAvg_PVoteC_Whitealoneorincombination\n",
       "1 61.63301                                     \n",
       "2 48.89794                                     \n",
       "3 67.16582                                     \n",
       "4 52.16366                                     \n",
       "5 65.01537                                     \n",
       "6 47.54431                                     \n",
       "  Control_WAvg_PVoteC_Blackaloneorincombination Preclearance_dif_45to64_18to24\n",
       "1 58.83378                                      29.67459                      \n",
       "2 43.85778                                      57.21500                      \n",
       "3 60.77727                                      24.61790                      \n",
       "4 42.06836                                           NaN                      \n",
       "5 64.57909                                      23.70829                      \n",
       "6 43.15032                                      52.92391                      \n",
       "  Semipreclearance_dif_45to64_18to24 Control_dif_45to64_18to24\n",
       "1 30.96077                           32.83967                 \n",
       "2 57.66534                           60.70991                 \n",
       "3 21.66194                           24.48969                 \n",
       "4      NaN                                NaN                 \n",
       "5 19.15192                           20.14896                 \n",
       "6 52.78981                           58.18270                 \n",
       "  Preclearance_dif_White_Black Semipreclearance_dif_White_Black\n",
       "1  0.212023                    6.503659                        \n",
       "2  1.659253                    6.450671                        \n",
       "3  2.297052                    4.845871                        \n",
       "4  2.996826                    9.018787                        \n",
       "5 -5.778533                    2.915894                        \n",
       "6 -1.474787                    5.356066                        \n",
       "  Control_dif_White_Black\n",
       "1  2.7992307             \n",
       "2  5.0401561             \n",
       "3  6.3885539             \n",
       "4 10.0952976             \n",
       "5  0.4362799             \n",
       "6  4.3939923             "
      ]
     },
     "metadata": {},
     "output_type": "display_data"
    }
   ],
   "source": [
    "head(graph_v_copy)"
   ]
  },
  {
   "cell_type": "code",
   "execution_count": 245,
   "metadata": {},
   "outputs": [
    {
     "name": "stderr",
     "output_type": "stream",
     "text": [
      "\u001b[1m\u001b[22m`geom_smooth()` using formula = 'y ~ x'\n",
      "Warning message:\n",
      "\"\u001b[1m\u001b[22mRemoved 1 rows containing non-finite values (`stat_smooth()`).\"\n",
      "\u001b[1m\u001b[22m`geom_smooth()` using formula = 'y ~ x'\n",
      "\u001b[1m\u001b[22m`geom_smooth()` using formula = 'y ~ x'\n",
      "Warning message:\n",
      "\"\u001b[1m\u001b[22mRemoved 1 rows containing non-finite values (`stat_smooth()`).\"\n",
      "\u001b[1m\u001b[22m`geom_smooth()` using formula = 'y ~ x'\n",
      "\u001b[1m\u001b[22m`geom_smooth()` using formula = 'y ~ x'\n",
      "Warning message:\n",
      "\"\u001b[1m\u001b[22mRemoved 1 rows containing non-finite values (`stat_smooth()`).\"\n",
      "\u001b[1m\u001b[22m`geom_smooth()` using formula = 'y ~ x'\n",
      "Warning message:\n",
      "\"\u001b[1m\u001b[22mRemoved 1 rows containing missing values (`geom_point()`).\"\n",
      "Warning message:\n",
      "\"\u001b[1m\u001b[22mRemoved 1 rows containing missing values (`geom_point()`).\"\n",
      "Warning message:\n",
      "\"\u001b[1m\u001b[22mRemoved 1 rows containing missing values (`geom_point()`).\"\n"
     ]
    },
    {
     "data": {
      "image/png": "[encoded data removed]",
      "text/plain": [
       "plot without title"
      ]
     },
     "metadata": {
      "image/png": {
       "height": 420,
       "width": 420
      }
     },
     "output_type": "display_data"
    }
   ],
   "source": [
    "# Scatter plot with lines of best fit and legend\n",
    "p <- ggplot(graph_v_copy, aes(x = Year)) +\n",
    "  geom_point(aes(y = Preclearance_WAvg_PVoteC_18to24, color = \"Preclearance\"), size = 3) +\n",
    "  geom_point(aes(y = Control_WAvg_PVoteC_18to24, color = \"Control\"), size = 3) +\n",
    "  geom_point(aes(y = Semipreclearance_WAvg_PVoteC_18to24, color = \"Semipreclearance\"), size = 3) +\n",
    "  geom_smooth(data = subset(graph_v_copy, Year <= 2013), aes(x= Year, y = Preclearance_WAvg_PVoteC_18to24, group = 1, color = \"Preclearance\"), method = \"lm\", se = FALSE) +\n",
    "  geom_smooth(data = subset(graph_v_copy, Year > 2013), aes(x= Year, y = Preclearance_WAvg_PVoteC_18to24, group = 1, color = \"Preclearance\"), method = \"lm\", se = FALSE) +\n",
    "  geom_smooth(data = subset(graph_v_copy, Year <= 2013), aes(x= Year, y = Control_WAvg_PVoteC_18to24, group = 1, color = \"Control\"), method = \"lm\", se = FALSE) +\n",
    "  geom_smooth(data = subset(graph_v_copy, Year > 2013), aes(x= Year, y = Control_WAvg_PVoteC_18to24, group = 1, color = \"Control\"), method = \"lm\", se = FALSE) +\n",
    "  geom_smooth(data = subset(graph_v_copy, Year <= 2013), aes(x= Year, y = Semipreclearance_WAvg_PVoteC_18to24, group = 1, color = \"Semipreclearance\"), method = \"lm\", se = FALSE) +\n",
    "  geom_smooth(data = subset(graph_v_copy, Year > 2013), aes(x= Year, y = Semipreclearance_WAvg_PVoteC_18to24, group = 1, color = \"Semipreclearance\"), method = \"lm\", se = FALSE) +\n",
    "  labs(x = \"Year\", y = \"Adjusted Percent of 18-24y/o Who Voted\") +\n",
    "  scale_color_manual(name = NULL, values = c(\"Preclearance\" = \"red\", \"Control\" = \"blue\", \"Semipreclearance\" = \"green\")) +\n",
    "  theme_minimal(base_size = 16) +\n",
    "  geom_vline(xintercept = 2013, color = \"black\", size = 0.5) +  # Add vertical line at Year = 2013 +\n",
    "  scale_x_continuous(breaks = seq(2000, 2020, by = 2)) +  # Set breaks on x-axis +\n",
    "  theme(\n",
    "    plot.title = element_text(size = 20, hjust = 0.5),  # Center title\n",
    "    legend.position = \"bottom\",  # Move legend to the bottom\n",
    "    legend.box = \"horizontal\",   # Horizontal legend\n",
    "    legend.title = element_text(size = 14),\n",
    "    legend.text = element_text(size = 14),\n",
    "    axis.text.x = element_text(size = 14),\n",
    "    axis.text.y = element_text(size = 16),\n",
    "    axis.title.x = element_text(size = 18),\n",
    "    axis.title.y = element_text(size = 18)\n",
    "  ) \n",
    "\n",
    "# Print the plot\n",
    "p <- p + scale_y_continuous(limits = c(0, 100), breaks = seq(0, 100, by = 10))  # Set y-axis limits and breaks\n",
    "p"
   ]
  },
  {
   "cell_type": "markdown",
   "metadata": {},
   "source": [
    "## Black"
   ]
  },
  {
   "cell_type": "markdown",
   "metadata": {},
   "source": [
    "### Raw Weighted Averages"
   ]
  },
  {
   "cell_type": "code",
   "execution_count": null,
   "metadata": {
    "scrolled": true
   },
   "outputs": [],
   "source": [
    "# Scatter plot with lines of best fit and legend\n",
    "p <- ggplot(graph_data_v, aes(x = Year)) +\n",
    "  geom_point(aes(y = Preclearance_WAvg_PVoteC_Blackaloneorincombination, color = \"Preclearance\"), size = 3) +\n",
    "  geom_point(aes(y = Control_WAvg_PVoteC_Blackaloneorincombination, color = \"Control\"), size = 3) +\n",
    "  geom_point(aes(y = Semipreclearance_WAvg_PVoteC_Blackaloneorincombination, color = \"Semipreclearance\"), size = 3) +\n",
    "  geom_smooth(data = subset(graph_data_v, Year <= 2013), aes(x= Year, y = Preclearance_WAvg_PVoteC_Blackaloneorincombination, group = 1, color = \"Preclearance\"), method = \"lm\", se = FALSE) +\n",
    "  geom_smooth(data = subset(graph_data_v, Year > 2013), aes(x= Year, y = Preclearance_WAvg_PVoteC_Blackaloneorincombination, group = 1, color = \"Preclearance\"), method = \"lm\", se = FALSE) +\n",
    "  geom_smooth(data = subset(graph_data_v, Year <= 2013), aes(x= Year, y = Control_WAvg_PVoteC_Blackaloneorincombination, group = 1, color = \"Control\"), method = \"lm\", se = FALSE) +\n",
    "  geom_smooth(data = subset(graph_data_v, Year > 2013), aes(x= Year, y = Control_WAvg_PVoteC_Blackaloneorincombination, group = 1, color = \"Control\"), method = \"lm\", se = FALSE) +\n",
    "  geom_smooth(data = subset(graph_data_v, Year <= 2013), aes(x= Year, y = Semipreclearance_WAvg_PVoteC_Blackaloneorincombination, group = 1, color = \"Semipreclearance\"), method = \"lm\", se = FALSE) +\n",
    "  geom_smooth(data = subset(graph_data_v, Year > 2013), aes(x= Year, y = Semipreclearance_WAvg_PVoteC_Blackaloneorincombination, group = 1, color = \"Semipreclearance\"), method = \"lm\", se = FALSE) +\n",
    "  labs(x = \"Year\", y = \"Percent of Blacks Who Voted\",\n",
    "       title = \"Percent of Blacks Who Voted by Year and Treatment\") +\n",
    "  scale_color_manual(name = NULL, values = c(\"Preclearance\" = \"red\", \"Control\" = \"blue\", \"Semipreclearance\" = \"green\")) +\n",
    "  theme_minimal(base_size = 16) +\n",
    "  geom_vline(xintercept = 2013, color = \"black\", size = 0.5) +  # Add vertical line at Year = 2013 +\n",
    "  scale_x_continuous(breaks = seq(2000, 2020, by = 2)) +  # Set breaks on x-axis +\n",
    "  theme(\n",
    "    plot.title = element_text(size = 20, hjust = 0.5),  # Center title\n",
    "    legend.position = \"bottom\",  # Move legend to the bottom\n",
    "    legend.box = \"horizontal\",   # Horizontal legend\n",
    "    legend.title = element_text(size = 14),\n",
    "    legend.text = element_text(size = 12),\n",
    "    axis.text.x = element_text(size = 12),\n",
    "    axis.text.y = element_text(size = 12),\n",
    "    axis.title.x = element_text(size = 14),\n",
    "    axis.title.y = element_text(size = 14)\n",
    "  ) \n",
    "\n",
    "# Print the plot\n",
    "p <- p + scale_y_continuous(breaks = seq(0, 70, by = 5))\n",
    "p"
   ]
  },
  {
   "cell_type": "markdown",
   "metadata": {},
   "source": [
    "### Weighted Averages Adjusted by Presidential Year"
   ]
  },
  {
   "cell_type": "code",
   "execution_count": 250,
   "metadata": {},
   "outputs": [
    {
     "data": {
      "text/html": [
       "<table class=\"dataframe\">\n",
       "<caption>A data.frame: 6 × 19</caption>\n",
       "<thead>\n",
       "\t<tr><th></th><th scope=col>Year</th><th scope=col>Preclearance_WAvg_PVoteC_18to24</th><th scope=col>Preclearance_WAvg_PVoteC_45to64</th><th scope=col>Preclearance_WAvg_PVoteC_Whitealoneorincombination</th><th scope=col>Preclearance_WAvg_PVoteC_Blackaloneorincombination</th><th scope=col>Semipreclearance_WAvg_PVoteC_18to24</th><th scope=col>Semipreclearance_WAvg_PVoteC_45to64</th><th scope=col>Semipreclearance_WAvg_PVoteC_Whitealoneorincombination</th><th scope=col>Semipreclearance_WAvg_PVoteC_Blackaloneorincombination</th><th scope=col>Control_WAvg_PVoteC_18to24</th><th scope=col>Control_WAvg_PVoteC_45to64</th><th scope=col>Control_WAvg_PVoteC_Whitealoneorincombination</th><th scope=col>Control_WAvg_PVoteC_Blackaloneorincombination</th><th scope=col>Preclearance_dif_45to64_18to24</th><th scope=col>Semipreclearance_dif_45to64_18to24</th><th scope=col>Control_dif_45to64_18to24</th><th scope=col>Preclearance_dif_White_Black</th><th scope=col>Semipreclearance_dif_White_Black</th><th scope=col>Control_dif_White_Black</th></tr>\n",
       "\t<tr><th></th><th scope=col>&lt;dbl&gt;</th><th scope=col>&lt;dbl&gt;</th><th scope=col>&lt;dbl&gt;</th><th scope=col>&lt;dbl&gt;</th><th scope=col>&lt;dbl&gt;</th><th scope=col>&lt;dbl&gt;</th><th scope=col>&lt;dbl&gt;</th><th scope=col>&lt;dbl&gt;</th><th scope=col>&lt;dbl&gt;</th><th scope=col>&lt;dbl&gt;</th><th scope=col>&lt;dbl&gt;</th><th scope=col>&lt;dbl&gt;</th><th scope=col>&lt;dbl&gt;</th><th scope=col>&lt;dbl&gt;</th><th scope=col>&lt;dbl&gt;</th><th scope=col>&lt;dbl&gt;</th><th scope=col>&lt;dbl&gt;</th><th scope=col>&lt;dbl&gt;</th><th scope=col>&lt;dbl&gt;</th></tr>\n",
       "</thead>\n",
       "<tbody>\n",
       "\t<tr><th scope=row>1</th><td>2000</td><td>35.33409</td><td>65.00868</td><td>57.08034</td><td>56.86832</td><td>35.49440</td><td>66.45517</td><td>60.55371</td><td>54.05005</td><td>36.80844</td><td>69.64811</td><td>61.63301</td><td>58.83378</td><td>29.67459</td><td>30.96077</td><td>32.83967</td><td> 0.212023</td><td>6.503659</td><td> 2.7992307</td></tr>\n",
       "\t<tr><th scope=row>2</th><td>2002</td><td>18.03443</td><td>52.89243</td><td>43.53202</td><td>41.87277</td><td>18.79065</td><td>54.09899</td><td>47.30229</td><td>40.85162</td><td>20.10403</td><td>58.45694</td><td>48.89794</td><td>43.85778</td><td>34.85800</td><td>35.30834</td><td>38.35291</td><td> 1.659253</td><td>6.450671</td><td> 5.0401561</td></tr>\n",
       "\t<tr><th scope=row>3</th><td>2004</td><td>42.69860</td><td>67.31650</td><td>61.32881</td><td>59.03175</td><td>46.44934</td><td>68.11128</td><td>64.58915</td><td>59.74327</td><td>48.57720</td><td>73.06689</td><td>67.16582</td><td>60.77727</td><td>24.61790</td><td>21.66194</td><td>24.48969</td><td> 2.297052</td><td>4.845871</td><td> 6.3885539</td></tr>\n",
       "\t<tr><th scope=row>4</th><td>2006</td><td>     NaN</td><td>     NaN</td><td>44.02342</td><td>41.02660</td><td>     NaN</td><td>     NaN</td><td>48.62093</td><td>39.60215</td><td>     NaN</td><td>     NaN</td><td>52.16366</td><td>42.06836</td><td>     NaN</td><td>     NaN</td><td>     NaN</td><td> 2.996826</td><td>9.018787</td><td>10.0952976</td></tr>\n",
       "\t<tr><th scope=row>5</th><td>2008</td><td>44.69669</td><td>68.40499</td><td>61.52265</td><td>67.30118</td><td>49.57096</td><td>68.72288</td><td>64.96692</td><td>62.05102</td><td>49.56354</td><td>69.71250</td><td>65.01537</td><td>64.57909</td><td>23.70829</td><td>19.15192</td><td>20.14896</td><td>-5.778533</td><td>2.915894</td><td> 0.4362799</td></tr>\n",
       "\t<tr><th scope=row>6</th><td>2010</td><td>20.69935</td><td>51.26626</td><td>42.76913</td><td>44.24392</td><td>23.22844</td><td>53.66126</td><td>47.55154</td><td>42.19548</td><td>20.26144</td><td>56.08714</td><td>47.54431</td><td>43.15032</td><td>30.56691</td><td>30.43281</td><td>35.82570</td><td>-1.474787</td><td>5.356066</td><td> 4.3939923</td></tr>\n",
       "</tbody>\n",
       "</table>\n"
      ],
      "text/latex": [
       "A data.frame: 6 × 19\n",
       "\\begin{tabular}{r|lllllllllllllllllll}\n",
       "  & Year & Preclearance\\_WAvg\\_PVoteC\\_18to24 & Preclearance\\_WAvg\\_PVoteC\\_45to64 & Preclearance\\_WAvg\\_PVoteC\\_Whitealoneorincombination & Preclearance\\_WAvg\\_PVoteC\\_Blackaloneorincombination & Semipreclearance\\_WAvg\\_PVoteC\\_18to24 & Semipreclearance\\_WAvg\\_PVoteC\\_45to64 & Semipreclearance\\_WAvg\\_PVoteC\\_Whitealoneorincombination & Semipreclearance\\_WAvg\\_PVoteC\\_Blackaloneorincombination & Control\\_WAvg\\_PVoteC\\_18to24 & Control\\_WAvg\\_PVoteC\\_45to64 & Control\\_WAvg\\_PVoteC\\_Whitealoneorincombination & Control\\_WAvg\\_PVoteC\\_Blackaloneorincombination & Preclearance\\_dif\\_45to64\\_18to24 & Semipreclearance\\_dif\\_45to64\\_18to24 & Control\\_dif\\_45to64\\_18to24 & Preclearance\\_dif\\_White\\_Black & Semipreclearance\\_dif\\_White\\_Black & Control\\_dif\\_White\\_Black\\\\\n",
       "  & <dbl> & <dbl> & <dbl> & <dbl> & <dbl> & <dbl> & <dbl> & <dbl> & <dbl> & <dbl> & <dbl> & <dbl> & <dbl> & <dbl> & <dbl> & <dbl> & <dbl> & <dbl> & <dbl>\\\\\n",
       "\\hline\n",
       "\t1 & 2000 & 35.33409 & 65.00868 & 57.08034 & 56.86832 & 35.49440 & 66.45517 & 60.55371 & 54.05005 & 36.80844 & 69.64811 & 61.63301 & 58.83378 & 29.67459 & 30.96077 & 32.83967 &  0.212023 & 6.503659 &  2.7992307\\\\\n",
       "\t2 & 2002 & 18.03443 & 52.89243 & 43.53202 & 41.87277 & 18.79065 & 54.09899 & 47.30229 & 40.85162 & 20.10403 & 58.45694 & 48.89794 & 43.85778 & 34.85800 & 35.30834 & 38.35291 &  1.659253 & 6.450671 &  5.0401561\\\\\n",
       "\t3 & 2004 & 42.69860 & 67.31650 & 61.32881 & 59.03175 & 46.44934 & 68.11128 & 64.58915 & 59.74327 & 48.57720 & 73.06689 & 67.16582 & 60.77727 & 24.61790 & 21.66194 & 24.48969 &  2.297052 & 4.845871 &  6.3885539\\\\\n",
       "\t4 & 2006 &      NaN &      NaN & 44.02342 & 41.02660 &      NaN &      NaN & 48.62093 & 39.60215 &      NaN &      NaN & 52.16366 & 42.06836 &      NaN &      NaN &      NaN &  2.996826 & 9.018787 & 10.0952976\\\\\n",
       "\t5 & 2008 & 44.69669 & 68.40499 & 61.52265 & 67.30118 & 49.57096 & 68.72288 & 64.96692 & 62.05102 & 49.56354 & 69.71250 & 65.01537 & 64.57909 & 23.70829 & 19.15192 & 20.14896 & -5.778533 & 2.915894 &  0.4362799\\\\\n",
       "\t6 & 2010 & 20.69935 & 51.26626 & 42.76913 & 44.24392 & 23.22844 & 53.66126 & 47.55154 & 42.19548 & 20.26144 & 56.08714 & 47.54431 & 43.15032 & 30.56691 & 30.43281 & 35.82570 & -1.474787 & 5.356066 &  4.3939923\\\\\n",
       "\\end{tabular}\n"
      ],
      "text/markdown": [
       "\n",
       "A data.frame: 6 × 19\n",
       "\n",
       "| <!--/--> | Year &lt;dbl&gt; | Preclearance_WAvg_PVoteC_18to24 &lt;dbl&gt; | Preclearance_WAvg_PVoteC_45to64 &lt;dbl&gt; | Preclearance_WAvg_PVoteC_Whitealoneorincombination &lt;dbl&gt; | Preclearance_WAvg_PVoteC_Blackaloneorincombination &lt;dbl&gt; | Semipreclearance_WAvg_PVoteC_18to24 &lt;dbl&gt; | Semipreclearance_WAvg_PVoteC_45to64 &lt;dbl&gt; | Semipreclearance_WAvg_PVoteC_Whitealoneorincombination &lt;dbl&gt; | Semipreclearance_WAvg_PVoteC_Blackaloneorincombination &lt;dbl&gt; | Control_WAvg_PVoteC_18to24 &lt;dbl&gt; | Control_WAvg_PVoteC_45to64 &lt;dbl&gt; | Control_WAvg_PVoteC_Whitealoneorincombination &lt;dbl&gt; | Control_WAvg_PVoteC_Blackaloneorincombination &lt;dbl&gt; | Preclearance_dif_45to64_18to24 &lt;dbl&gt; | Semipreclearance_dif_45to64_18to24 &lt;dbl&gt; | Control_dif_45to64_18to24 &lt;dbl&gt; | Preclearance_dif_White_Black &lt;dbl&gt; | Semipreclearance_dif_White_Black &lt;dbl&gt; | Control_dif_White_Black &lt;dbl&gt; |\n",
       "|---|---|---|---|---|---|---|---|---|---|---|---|---|---|---|---|---|---|---|---|\n",
       "| 1 | 2000 | 35.33409 | 65.00868 | 57.08034 | 56.86832 | 35.49440 | 66.45517 | 60.55371 | 54.05005 | 36.80844 | 69.64811 | 61.63301 | 58.83378 | 29.67459 | 30.96077 | 32.83967 |  0.212023 | 6.503659 |  2.7992307 |\n",
       "| 2 | 2002 | 18.03443 | 52.89243 | 43.53202 | 41.87277 | 18.79065 | 54.09899 | 47.30229 | 40.85162 | 20.10403 | 58.45694 | 48.89794 | 43.85778 | 34.85800 | 35.30834 | 38.35291 |  1.659253 | 6.450671 |  5.0401561 |\n",
       "| 3 | 2004 | 42.69860 | 67.31650 | 61.32881 | 59.03175 | 46.44934 | 68.11128 | 64.58915 | 59.74327 | 48.57720 | 73.06689 | 67.16582 | 60.77727 | 24.61790 | 21.66194 | 24.48969 |  2.297052 | 4.845871 |  6.3885539 |\n",
       "| 4 | 2006 |      NaN |      NaN | 44.02342 | 41.02660 |      NaN |      NaN | 48.62093 | 39.60215 |      NaN |      NaN | 52.16366 | 42.06836 |      NaN |      NaN |      NaN |  2.996826 | 9.018787 | 10.0952976 |\n",
       "| 5 | 2008 | 44.69669 | 68.40499 | 61.52265 | 67.30118 | 49.57096 | 68.72288 | 64.96692 | 62.05102 | 49.56354 | 69.71250 | 65.01537 | 64.57909 | 23.70829 | 19.15192 | 20.14896 | -5.778533 | 2.915894 |  0.4362799 |\n",
       "| 6 | 2010 | 20.69935 | 51.26626 | 42.76913 | 44.24392 | 23.22844 | 53.66126 | 47.55154 | 42.19548 | 20.26144 | 56.08714 | 47.54431 | 43.15032 | 30.56691 | 30.43281 | 35.82570 | -1.474787 | 5.356066 |  4.3939923 |\n",
       "\n"
      ],
      "text/plain": [
       "  Year Preclearance_WAvg_PVoteC_18to24 Preclearance_WAvg_PVoteC_45to64\n",
       "1 2000 35.33409                        65.00868                       \n",
       "2 2002 18.03443                        52.89243                       \n",
       "3 2004 42.69860                        67.31650                       \n",
       "4 2006      NaN                             NaN                       \n",
       "5 2008 44.69669                        68.40499                       \n",
       "6 2010 20.69935                        51.26626                       \n",
       "  Preclearance_WAvg_PVoteC_Whitealoneorincombination\n",
       "1 57.08034                                          \n",
       "2 43.53202                                          \n",
       "3 61.32881                                          \n",
       "4 44.02342                                          \n",
       "5 61.52265                                          \n",
       "6 42.76913                                          \n",
       "  Preclearance_WAvg_PVoteC_Blackaloneorincombination\n",
       "1 56.86832                                          \n",
       "2 41.87277                                          \n",
       "3 59.03175                                          \n",
       "4 41.02660                                          \n",
       "5 67.30118                                          \n",
       "6 44.24392                                          \n",
       "  Semipreclearance_WAvg_PVoteC_18to24 Semipreclearance_WAvg_PVoteC_45to64\n",
       "1 35.49440                            66.45517                           \n",
       "2 18.79065                            54.09899                           \n",
       "3 46.44934                            68.11128                           \n",
       "4      NaN                                 NaN                           \n",
       "5 49.57096                            68.72288                           \n",
       "6 23.22844                            53.66126                           \n",
       "  Semipreclearance_WAvg_PVoteC_Whitealoneorincombination\n",
       "1 60.55371                                              \n",
       "2 47.30229                                              \n",
       "3 64.58915                                              \n",
       "4 48.62093                                              \n",
       "5 64.96692                                              \n",
       "6 47.55154                                              \n",
       "  Semipreclearance_WAvg_PVoteC_Blackaloneorincombination\n",
       "1 54.05005                                              \n",
       "2 40.85162                                              \n",
       "3 59.74327                                              \n",
       "4 39.60215                                              \n",
       "5 62.05102                                              \n",
       "6 42.19548                                              \n",
       "  Control_WAvg_PVoteC_18to24 Control_WAvg_PVoteC_45to64\n",
       "1 36.80844                   69.64811                  \n",
       "2 20.10403                   58.45694                  \n",
       "3 48.57720                   73.06689                  \n",
       "4      NaN                        NaN                  \n",
       "5 49.56354                   69.71250                  \n",
       "6 20.26144                   56.08714                  \n",
       "  Control_WAvg_PVoteC_Whitealoneorincombination\n",
       "1 61.63301                                     \n",
       "2 48.89794                                     \n",
       "3 67.16582                                     \n",
       "4 52.16366                                     \n",
       "5 65.01537                                     \n",
       "6 47.54431                                     \n",
       "  Control_WAvg_PVoteC_Blackaloneorincombination Preclearance_dif_45to64_18to24\n",
       "1 58.83378                                      29.67459                      \n",
       "2 43.85778                                      34.85800                      \n",
       "3 60.77727                                      24.61790                      \n",
       "4 42.06836                                           NaN                      \n",
       "5 64.57909                                      23.70829                      \n",
       "6 43.15032                                      30.56691                      \n",
       "  Semipreclearance_dif_45to64_18to24 Control_dif_45to64_18to24\n",
       "1 30.96077                           32.83967                 \n",
       "2 35.30834                           38.35291                 \n",
       "3 21.66194                           24.48969                 \n",
       "4      NaN                                NaN                 \n",
       "5 19.15192                           20.14896                 \n",
       "6 30.43281                           35.82570                 \n",
       "  Preclearance_dif_White_Black Semipreclearance_dif_White_Black\n",
       "1  0.212023                    6.503659                        \n",
       "2  1.659253                    6.450671                        \n",
       "3  2.297052                    4.845871                        \n",
       "4  2.996826                    9.018787                        \n",
       "5 -5.778533                    2.915894                        \n",
       "6 -1.474787                    5.356066                        \n",
       "  Control_dif_White_Black\n",
       "1  2.7992307             \n",
       "2  5.0401561             \n",
       "3  6.3885539             \n",
       "4 10.0952976             \n",
       "5  0.4362799             \n",
       "6  4.3939923             "
      ]
     },
     "metadata": {},
     "output_type": "display_data"
    }
   ],
   "source": [
    "#Adjusted for presidential year\n",
    "graph_v_copy_2 <- graph_data_v\n",
    "head(graph_v_copy_2)"
   ]
  },
  {
   "cell_type": "code",
   "execution_count": 251,
   "metadata": {},
   "outputs": [],
   "source": [
    "years_to_modify <- c(2002, 2006, 2010, 2014, 2018)\n",
    "\n",
    "# Get the column indices of columns containing \"18to24\" in their names\n",
    "cols_to_modify <- grep(\"Blackaloneorincombination\", names(graph_v_copy_2))\n",
    "\n",
    "# Check if Year is in the specified years and add 22.49361726 to selected columns\n",
    "graph_v_copy_2[graph_v_copy_2$Year %in% years_to_modify, cols_to_modify] <- \n",
    "graph_v_copy_2[graph_v_copy_2$Year %in% years_to_modify, cols_to_modify] + 18.445"
   ]
  },
  {
   "cell_type": "code",
   "execution_count": 252,
   "metadata": {},
   "outputs": [
    {
     "data": {
      "text/html": [
       "<table class=\"dataframe\">\n",
       "<caption>A data.frame: 6 × 19</caption>\n",
       "<thead>\n",
       "\t<tr><th></th><th scope=col>Year</th><th scope=col>Preclearance_WAvg_PVoteC_18to24</th><th scope=col>Preclearance_WAvg_PVoteC_45to64</th><th scope=col>Preclearance_WAvg_PVoteC_Whitealoneorincombination</th><th scope=col>Preclearance_WAvg_PVoteC_Blackaloneorincombination</th><th scope=col>Semipreclearance_WAvg_PVoteC_18to24</th><th scope=col>Semipreclearance_WAvg_PVoteC_45to64</th><th scope=col>Semipreclearance_WAvg_PVoteC_Whitealoneorincombination</th><th scope=col>Semipreclearance_WAvg_PVoteC_Blackaloneorincombination</th><th scope=col>Control_WAvg_PVoteC_18to24</th><th scope=col>Control_WAvg_PVoteC_45to64</th><th scope=col>Control_WAvg_PVoteC_Whitealoneorincombination</th><th scope=col>Control_WAvg_PVoteC_Blackaloneorincombination</th><th scope=col>Preclearance_dif_45to64_18to24</th><th scope=col>Semipreclearance_dif_45to64_18to24</th><th scope=col>Control_dif_45to64_18to24</th><th scope=col>Preclearance_dif_White_Black</th><th scope=col>Semipreclearance_dif_White_Black</th><th scope=col>Control_dif_White_Black</th></tr>\n",
       "\t<tr><th></th><th scope=col>&lt;dbl&gt;</th><th scope=col>&lt;dbl&gt;</th><th scope=col>&lt;dbl&gt;</th><th scope=col>&lt;dbl&gt;</th><th scope=col>&lt;dbl&gt;</th><th scope=col>&lt;dbl&gt;</th><th scope=col>&lt;dbl&gt;</th><th scope=col>&lt;dbl&gt;</th><th scope=col>&lt;dbl&gt;</th><th scope=col>&lt;dbl&gt;</th><th scope=col>&lt;dbl&gt;</th><th scope=col>&lt;dbl&gt;</th><th scope=col>&lt;dbl&gt;</th><th scope=col>&lt;dbl&gt;</th><th scope=col>&lt;dbl&gt;</th><th scope=col>&lt;dbl&gt;</th><th scope=col>&lt;dbl&gt;</th><th scope=col>&lt;dbl&gt;</th><th scope=col>&lt;dbl&gt;</th></tr>\n",
       "</thead>\n",
       "<tbody>\n",
       "\t<tr><th scope=row>1</th><td>2000</td><td>35.33409</td><td>65.00868</td><td>57.08034</td><td>56.86832</td><td>35.49440</td><td>66.45517</td><td>60.55371</td><td>54.05005</td><td>36.80844</td><td>69.64811</td><td>61.63301</td><td>58.83378</td><td>29.67459</td><td>30.96077</td><td>32.83967</td><td> 0.212023</td><td>6.503659</td><td> 2.7992307</td></tr>\n",
       "\t<tr><th scope=row>2</th><td>2002</td><td>18.03443</td><td>52.89243</td><td>43.53202</td><td>60.31777</td><td>18.79065</td><td>54.09899</td><td>47.30229</td><td>59.29662</td><td>20.10403</td><td>58.45694</td><td>48.89794</td><td>62.30278</td><td>34.85800</td><td>35.30834</td><td>38.35291</td><td> 1.659253</td><td>6.450671</td><td> 5.0401561</td></tr>\n",
       "\t<tr><th scope=row>3</th><td>2004</td><td>42.69860</td><td>67.31650</td><td>61.32881</td><td>59.03175</td><td>46.44934</td><td>68.11128</td><td>64.58915</td><td>59.74327</td><td>48.57720</td><td>73.06689</td><td>67.16582</td><td>60.77727</td><td>24.61790</td><td>21.66194</td><td>24.48969</td><td> 2.297052</td><td>4.845871</td><td> 6.3885539</td></tr>\n",
       "\t<tr><th scope=row>4</th><td>2006</td><td>     NaN</td><td>     NaN</td><td>44.02342</td><td>59.47160</td><td>     NaN</td><td>     NaN</td><td>48.62093</td><td>58.04715</td><td>     NaN</td><td>     NaN</td><td>52.16366</td><td>60.51336</td><td>     NaN</td><td>     NaN</td><td>     NaN</td><td> 2.996826</td><td>9.018787</td><td>10.0952976</td></tr>\n",
       "\t<tr><th scope=row>5</th><td>2008</td><td>44.69669</td><td>68.40499</td><td>61.52265</td><td>67.30118</td><td>49.57096</td><td>68.72288</td><td>64.96692</td><td>62.05102</td><td>49.56354</td><td>69.71250</td><td>65.01537</td><td>64.57909</td><td>23.70829</td><td>19.15192</td><td>20.14896</td><td>-5.778533</td><td>2.915894</td><td> 0.4362799</td></tr>\n",
       "\t<tr><th scope=row>6</th><td>2010</td><td>20.69935</td><td>51.26626</td><td>42.76913</td><td>62.68892</td><td>23.22844</td><td>53.66126</td><td>47.55154</td><td>60.64048</td><td>20.26144</td><td>56.08714</td><td>47.54431</td><td>61.59532</td><td>30.56691</td><td>30.43281</td><td>35.82570</td><td>-1.474787</td><td>5.356066</td><td> 4.3939923</td></tr>\n",
       "</tbody>\n",
       "</table>\n"
      ],
      "text/latex": [
       "A data.frame: 6 × 19\n",
       "\\begin{tabular}{r|lllllllllllllllllll}\n",
       "  & Year & Preclearance\\_WAvg\\_PVoteC\\_18to24 & Preclearance\\_WAvg\\_PVoteC\\_45to64 & Preclearance\\_WAvg\\_PVoteC\\_Whitealoneorincombination & Preclearance\\_WAvg\\_PVoteC\\_Blackaloneorincombination & Semipreclearance\\_WAvg\\_PVoteC\\_18to24 & Semipreclearance\\_WAvg\\_PVoteC\\_45to64 & Semipreclearance\\_WAvg\\_PVoteC\\_Whitealoneorincombination & Semipreclearance\\_WAvg\\_PVoteC\\_Blackaloneorincombination & Control\\_WAvg\\_PVoteC\\_18to24 & Control\\_WAvg\\_PVoteC\\_45to64 & Control\\_WAvg\\_PVoteC\\_Whitealoneorincombination & Control\\_WAvg\\_PVoteC\\_Blackaloneorincombination & Preclearance\\_dif\\_45to64\\_18to24 & Semipreclearance\\_dif\\_45to64\\_18to24 & Control\\_dif\\_45to64\\_18to24 & Preclearance\\_dif\\_White\\_Black & Semipreclearance\\_dif\\_White\\_Black & Control\\_dif\\_White\\_Black\\\\\n",
       "  & <dbl> & <dbl> & <dbl> & <dbl> & <dbl> & <dbl> & <dbl> & <dbl> & <dbl> & <dbl> & <dbl> & <dbl> & <dbl> & <dbl> & <dbl> & <dbl> & <dbl> & <dbl> & <dbl>\\\\\n",
       "\\hline\n",
       "\t1 & 2000 & 35.33409 & 65.00868 & 57.08034 & 56.86832 & 35.49440 & 66.45517 & 60.55371 & 54.05005 & 36.80844 & 69.64811 & 61.63301 & 58.83378 & 29.67459 & 30.96077 & 32.83967 &  0.212023 & 6.503659 &  2.7992307\\\\\n",
       "\t2 & 2002 & 18.03443 & 52.89243 & 43.53202 & 60.31777 & 18.79065 & 54.09899 & 47.30229 & 59.29662 & 20.10403 & 58.45694 & 48.89794 & 62.30278 & 34.85800 & 35.30834 & 38.35291 &  1.659253 & 6.450671 &  5.0401561\\\\\n",
       "\t3 & 2004 & 42.69860 & 67.31650 & 61.32881 & 59.03175 & 46.44934 & 68.11128 & 64.58915 & 59.74327 & 48.57720 & 73.06689 & 67.16582 & 60.77727 & 24.61790 & 21.66194 & 24.48969 &  2.297052 & 4.845871 &  6.3885539\\\\\n",
       "\t4 & 2006 &      NaN &      NaN & 44.02342 & 59.47160 &      NaN &      NaN & 48.62093 & 58.04715 &      NaN &      NaN & 52.16366 & 60.51336 &      NaN &      NaN &      NaN &  2.996826 & 9.018787 & 10.0952976\\\\\n",
       "\t5 & 2008 & 44.69669 & 68.40499 & 61.52265 & 67.30118 & 49.57096 & 68.72288 & 64.96692 & 62.05102 & 49.56354 & 69.71250 & 65.01537 & 64.57909 & 23.70829 & 19.15192 & 20.14896 & -5.778533 & 2.915894 &  0.4362799\\\\\n",
       "\t6 & 2010 & 20.69935 & 51.26626 & 42.76913 & 62.68892 & 23.22844 & 53.66126 & 47.55154 & 60.64048 & 20.26144 & 56.08714 & 47.54431 & 61.59532 & 30.56691 & 30.43281 & 35.82570 & -1.474787 & 5.356066 &  4.3939923\\\\\n",
       "\\end{tabular}\n"
      ],
      "text/markdown": [
       "\n",
       "A data.frame: 6 × 19\n",
       "\n",
       "| <!--/--> | Year &lt;dbl&gt; | Preclearance_WAvg_PVoteC_18to24 &lt;dbl&gt; | Preclearance_WAvg_PVoteC_45to64 &lt;dbl&gt; | Preclearance_WAvg_PVoteC_Whitealoneorincombination &lt;dbl&gt; | Preclearance_WAvg_PVoteC_Blackaloneorincombination &lt;dbl&gt; | Semipreclearance_WAvg_PVoteC_18to24 &lt;dbl&gt; | Semipreclearance_WAvg_PVoteC_45to64 &lt;dbl&gt; | Semipreclearance_WAvg_PVoteC_Whitealoneorincombination &lt;dbl&gt; | Semipreclearance_WAvg_PVoteC_Blackaloneorincombination &lt;dbl&gt; | Control_WAvg_PVoteC_18to24 &lt;dbl&gt; | Control_WAvg_PVoteC_45to64 &lt;dbl&gt; | Control_WAvg_PVoteC_Whitealoneorincombination &lt;dbl&gt; | Control_WAvg_PVoteC_Blackaloneorincombination &lt;dbl&gt; | Preclearance_dif_45to64_18to24 &lt;dbl&gt; | Semipreclearance_dif_45to64_18to24 &lt;dbl&gt; | Control_dif_45to64_18to24 &lt;dbl&gt; | Preclearance_dif_White_Black &lt;dbl&gt; | Semipreclearance_dif_White_Black &lt;dbl&gt; | Control_dif_White_Black &lt;dbl&gt; |\n",
       "|---|---|---|---|---|---|---|---|---|---|---|---|---|---|---|---|---|---|---|---|\n",
       "| 1 | 2000 | 35.33409 | 65.00868 | 57.08034 | 56.86832 | 35.49440 | 66.45517 | 60.55371 | 54.05005 | 36.80844 | 69.64811 | 61.63301 | 58.83378 | 29.67459 | 30.96077 | 32.83967 |  0.212023 | 6.503659 |  2.7992307 |\n",
       "| 2 | 2002 | 18.03443 | 52.89243 | 43.53202 | 60.31777 | 18.79065 | 54.09899 | 47.30229 | 59.29662 | 20.10403 | 58.45694 | 48.89794 | 62.30278 | 34.85800 | 35.30834 | 38.35291 |  1.659253 | 6.450671 |  5.0401561 |\n",
       "| 3 | 2004 | 42.69860 | 67.31650 | 61.32881 | 59.03175 | 46.44934 | 68.11128 | 64.58915 | 59.74327 | 48.57720 | 73.06689 | 67.16582 | 60.77727 | 24.61790 | 21.66194 | 24.48969 |  2.297052 | 4.845871 |  6.3885539 |\n",
       "| 4 | 2006 |      NaN |      NaN | 44.02342 | 59.47160 |      NaN |      NaN | 48.62093 | 58.04715 |      NaN |      NaN | 52.16366 | 60.51336 |      NaN |      NaN |      NaN |  2.996826 | 9.018787 | 10.0952976 |\n",
       "| 5 | 2008 | 44.69669 | 68.40499 | 61.52265 | 67.30118 | 49.57096 | 68.72288 | 64.96692 | 62.05102 | 49.56354 | 69.71250 | 65.01537 | 64.57909 | 23.70829 | 19.15192 | 20.14896 | -5.778533 | 2.915894 |  0.4362799 |\n",
       "| 6 | 2010 | 20.69935 | 51.26626 | 42.76913 | 62.68892 | 23.22844 | 53.66126 | 47.55154 | 60.64048 | 20.26144 | 56.08714 | 47.54431 | 61.59532 | 30.56691 | 30.43281 | 35.82570 | -1.474787 | 5.356066 |  4.3939923 |\n",
       "\n"
      ],
      "text/plain": [
       "  Year Preclearance_WAvg_PVoteC_18to24 Preclearance_WAvg_PVoteC_45to64\n",
       "1 2000 35.33409                        65.00868                       \n",
       "2 2002 18.03443                        52.89243                       \n",
       "3 2004 42.69860                        67.31650                       \n",
       "4 2006      NaN                             NaN                       \n",
       "5 2008 44.69669                        68.40499                       \n",
       "6 2010 20.69935                        51.26626                       \n",
       "  Preclearance_WAvg_PVoteC_Whitealoneorincombination\n",
       "1 57.08034                                          \n",
       "2 43.53202                                          \n",
       "3 61.32881                                          \n",
       "4 44.02342                                          \n",
       "5 61.52265                                          \n",
       "6 42.76913                                          \n",
       "  Preclearance_WAvg_PVoteC_Blackaloneorincombination\n",
       "1 56.86832                                          \n",
       "2 60.31777                                          \n",
       "3 59.03175                                          \n",
       "4 59.47160                                          \n",
       "5 67.30118                                          \n",
       "6 62.68892                                          \n",
       "  Semipreclearance_WAvg_PVoteC_18to24 Semipreclearance_WAvg_PVoteC_45to64\n",
       "1 35.49440                            66.45517                           \n",
       "2 18.79065                            54.09899                           \n",
       "3 46.44934                            68.11128                           \n",
       "4      NaN                                 NaN                           \n",
       "5 49.57096                            68.72288                           \n",
       "6 23.22844                            53.66126                           \n",
       "  Semipreclearance_WAvg_PVoteC_Whitealoneorincombination\n",
       "1 60.55371                                              \n",
       "2 47.30229                                              \n",
       "3 64.58915                                              \n",
       "4 48.62093                                              \n",
       "5 64.96692                                              \n",
       "6 47.55154                                              \n",
       "  Semipreclearance_WAvg_PVoteC_Blackaloneorincombination\n",
       "1 54.05005                                              \n",
       "2 59.29662                                              \n",
       "3 59.74327                                              \n",
       "4 58.04715                                              \n",
       "5 62.05102                                              \n",
       "6 60.64048                                              \n",
       "  Control_WAvg_PVoteC_18to24 Control_WAvg_PVoteC_45to64\n",
       "1 36.80844                   69.64811                  \n",
       "2 20.10403                   58.45694                  \n",
       "3 48.57720                   73.06689                  \n",
       "4      NaN                        NaN                  \n",
       "5 49.56354                   69.71250                  \n",
       "6 20.26144                   56.08714                  \n",
       "  Control_WAvg_PVoteC_Whitealoneorincombination\n",
       "1 61.63301                                     \n",
       "2 48.89794                                     \n",
       "3 67.16582                                     \n",
       "4 52.16366                                     \n",
       "5 65.01537                                     \n",
       "6 47.54431                                     \n",
       "  Control_WAvg_PVoteC_Blackaloneorincombination Preclearance_dif_45to64_18to24\n",
       "1 58.83378                                      29.67459                      \n",
       "2 62.30278                                      34.85800                      \n",
       "3 60.77727                                      24.61790                      \n",
       "4 60.51336                                           NaN                      \n",
       "5 64.57909                                      23.70829                      \n",
       "6 61.59532                                      30.56691                      \n",
       "  Semipreclearance_dif_45to64_18to24 Control_dif_45to64_18to24\n",
       "1 30.96077                           32.83967                 \n",
       "2 35.30834                           38.35291                 \n",
       "3 21.66194                           24.48969                 \n",
       "4      NaN                                NaN                 \n",
       "5 19.15192                           20.14896                 \n",
       "6 30.43281                           35.82570                 \n",
       "  Preclearance_dif_White_Black Semipreclearance_dif_White_Black\n",
       "1  0.212023                    6.503659                        \n",
       "2  1.659253                    6.450671                        \n",
       "3  2.297052                    4.845871                        \n",
       "4  2.996826                    9.018787                        \n",
       "5 -5.778533                    2.915894                        \n",
       "6 -1.474787                    5.356066                        \n",
       "  Control_dif_White_Black\n",
       "1  2.7992307             \n",
       "2  5.0401561             \n",
       "3  6.3885539             \n",
       "4 10.0952976             \n",
       "5  0.4362799             \n",
       "6  4.3939923             "
      ]
     },
     "metadata": {},
     "output_type": "display_data"
    }
   ],
   "source": [
    "head(graph_v_copy_2)"
   ]
  },
  {
   "cell_type": "code",
   "execution_count": 257,
   "metadata": {
    "scrolled": true
   },
   "outputs": [
    {
     "name": "stderr",
     "output_type": "stream",
     "text": [
      "\u001b[1m\u001b[22m`geom_smooth()` using formula = 'y ~ x'\n",
      "\u001b[1m\u001b[22m`geom_smooth()` using formula = 'y ~ x'\n",
      "\u001b[1m\u001b[22m`geom_smooth()` using formula = 'y ~ x'\n",
      "\u001b[1m\u001b[22m`geom_smooth()` using formula = 'y ~ x'\n",
      "\u001b[1m\u001b[22m`geom_smooth()` using formula = 'y ~ x'\n",
      "\u001b[1m\u001b[22m`geom_smooth()` using formula = 'y ~ x'\n"
     ]
    },
    {
     "data": {
      "image/png": "[encoded data removed]",
      "text/plain": [
       "plot without title"
      ]
     },
     "metadata": {
      "image/png": {
       "height": 420,
       "width": 420
      }
     },
     "output_type": "display_data"
    }
   ],
   "source": [
    "# Scatter plot with lines of best fit and legend\n",
    "p <- ggplot(graph_v_copy_2, aes(x = Year)) +\n",
    "  geom_point(aes(y = Preclearance_WAvg_PVoteC_Blackaloneorincombination, color = \"Preclearance\"), size = 3) +\n",
    "  geom_point(aes(y = Control_WAvg_PVoteC_Blackaloneorincombination, color = \"Control\"), size = 3) +\n",
    "  geom_point(aes(y = Semipreclearance_WAvg_PVoteC_Blackaloneorincombination, color = \"Semipreclearance\"), size = 3) +\n",
    "  geom_smooth(data = subset(graph_v_copy_2, Year <= 2013), aes(x= Year, y = Preclearance_WAvg_PVoteC_Blackaloneorincombination, group = 1, color = \"Preclearance\"), method = \"lm\", se = FALSE) +\n",
    "  geom_smooth(data = subset(graph_v_copy_2, Year > 2013), aes(x= Year, y = Preclearance_WAvg_PVoteC_Blackaloneorincombination, group = 1, color = \"Preclearance\"), method = \"lm\", se = FALSE) +\n",
    "  geom_smooth(data = subset(graph_v_copy_2, Year <= 2013), aes(x= Year, y = Control_WAvg_PVoteC_Blackaloneorincombination, group = 1, color = \"Control\"), method = \"lm\", se = FALSE) +\n",
    "  geom_smooth(data = subset(graph_v_copy_2, Year > 2013), aes(x= Year, y = Control_WAvg_PVoteC_Blackaloneorincombination, group = 1, color = \"Control\"), method = \"lm\", se = FALSE) +\n",
    "  geom_smooth(data = subset(graph_v_copy_2, Year <= 2013), aes(x= Year, y = Semipreclearance_WAvg_PVoteC_Blackaloneorincombination, group = 1, color = \"Semipreclearance\"), method = \"lm\", se = FALSE) +\n",
    "  geom_smooth(data = subset(graph_v_copy_2, Year > 2013), aes(x= Year, y = Semipreclearance_WAvg_PVoteC_Blackaloneorincombination, group = 1, color = \"Semipreclearance\"), method = \"lm\", se = FALSE) +\n",
    "  labs(x = \"Year\", y = \"Adjusted Percent of Blacks Who Voted\") +\n",
    "  scale_color_manual(name = NULL, values = c(\"Preclearance\" = \"red\", \"Control\" = \"blue\", \"Semipreclearance\" = \"green\")) +\n",
    "  theme_minimal(base_size = 16) +\n",
    "  geom_vline(xintercept = 2013, color = \"black\", size = 0.5) +  # Add vertical line at Year = 2013 +\n",
    "  scale_x_continuous(breaks = seq(2000, 2020, by = 2)) +  # Set breaks on x-axis +\n",
    "  theme(\n",
    "    plot.title = element_text(size = 20, hjust = 0.5),  # Center title\n",
    "    legend.position = \"bottom\",  # Move legend to the bottom\n",
    "    legend.box = \"horizontal\",   # Horizontal legend\n",
    "    legend.title = element_text(size = 14),\n",
    "    legend.text = element_text(size = 14),\n",
    "    axis.text.x = element_text(size = 14),\n",
    "    axis.text.y = element_text(size = 16),\n",
    "    axis.title.x = element_text(size = 18),\n",
    "    axis.title.y = element_text(size = 18)\n",
    "  ) \n",
    "\n",
    "# Print the plot\n",
    "p <- p + scale_y_continuous(limits = c(0, 100), breaks = seq(0, 100, by = 10))  # Set y-axis limits and breaks\n",
    "p"
   ]
  },
  {
   "cell_type": "markdown",
   "metadata": {},
   "source": [
    "## Graph for Difference from 45-64 and 18-24y/o"
   ]
  },
  {
   "cell_type": "markdown",
   "metadata": {},
   "source": [
    "### Raw data graph"
   ]
  },
  {
   "cell_type": "code",
   "execution_count": 290,
   "metadata": {},
   "outputs": [
    {
     "name": "stderr",
     "output_type": "stream",
     "text": [
      "\u001b[1m\u001b[22m`geom_smooth()` using formula = 'y ~ x'\n",
      "Warning message:\n",
      "\"\u001b[1m\u001b[22mRemoved 1 rows containing non-finite values (`stat_smooth()`).\"\n",
      "\u001b[1m\u001b[22m`geom_smooth()` using formula = 'y ~ x'\n",
      "\u001b[1m\u001b[22m`geom_smooth()` using formula = 'y ~ x'\n",
      "Warning message:\n",
      "\"\u001b[1m\u001b[22mRemoved 1 rows containing non-finite values (`stat_smooth()`).\"\n",
      "\u001b[1m\u001b[22m`geom_smooth()` using formula = 'y ~ x'\n",
      "\u001b[1m\u001b[22m`geom_smooth()` using formula = 'y ~ x'\n",
      "Warning message:\n",
      "\"\u001b[1m\u001b[22mRemoved 1 rows containing non-finite values (`stat_smooth()`).\"\n",
      "\u001b[1m\u001b[22m`geom_smooth()` using formula = 'y ~ x'\n",
      "Warning message:\n",
      "\"\u001b[1m\u001b[22mRemoved 1 rows containing missing values (`geom_point()`).\"\n",
      "Warning message:\n",
      "\"\u001b[1m\u001b[22mRemoved 1 rows containing missing values (`geom_point()`).\"\n",
      "Warning message:\n",
      "\"\u001b[1m\u001b[22mRemoved 1 rows containing missing values (`geom_point()`).\"\n"
     ]
    },
    {
     "data": {
      "image/png": "[encoded data removed]",
      "text/plain": [
       "plot without title"
      ]
     },
     "metadata": {
      "image/png": {
       "height": 420,
       "width": 420
      }
     },
     "output_type": "display_data"
    }
   ],
   "source": [
    "# Scatter plot with lines of best fit and legend\n",
    "p <- ggplot(graph_data_v, aes(x = Year)) +\n",
    "  geom_point(aes(y = Preclearance_dif_45to64_18to24, color = \"Preclearance\"), size = 3) +\n",
    "  geom_point(aes(y = Control_dif_45to64_18to24, color = \"Control\"), size = 3) +\n",
    "  geom_point(aes(y = Semipreclearance_dif_45to64_18to24, color = \"Semipreclearance\"), size = 3) +\n",
    "  geom_smooth(data = subset(graph_data_v, Year <= 2013), aes(x= Year, y = Preclearance_dif_45to64_18to24, group = 1, color = \"Preclearance\"), method = \"lm\", se = FALSE) +\n",
    "  geom_smooth(data = subset(graph_data_v, Year > 2013), aes(x= Year, y = Preclearance_dif_45to64_18to24, group = 1, color = \"Preclearance\"), method = \"lm\", se = FALSE) +\n",
    "  geom_smooth(data = subset(graph_data_v, Year <= 2013), aes(x= Year, y = Control_dif_45to64_18to24, group = 1, color = \"Control\"), method = \"lm\", se = FALSE) +\n",
    "  geom_smooth(data = subset(graph_data_v, Year > 2013), aes(x= Year, y = Control_dif_45to64_18to24, group = 1, color = \"Control\"), method = \"lm\", se = FALSE) +\n",
    "  geom_smooth(data = subset(graph_data_v, Year <= 2013), aes(x= Year, y = Semipreclearance_dif_45to64_18to24, group = 1, color = \"Semipreclearance\"), method = \"lm\", se = FALSE) +\n",
    "  geom_smooth(data = subset(graph_data_v, Year > 2013), aes(x= Year, y = Semipreclearance_dif_45to64_18to24, group = 1, color = \"Semipreclearance\"), method = \"lm\", se = FALSE) +\n",
    "  labs(x = \"Year\", y = \"Percent Difference of\\n 45-64y/o - 18-24y/o Who Voted\")+\n",
    "  scale_color_manual(name = NULL, values = c(\"Preclearance\" = \"red\", \"Control\" = \"blue\", \"Semipreclearance\" = \"green\")) +\n",
    "  theme_minimal(base_size = 16) +\n",
    "  geom_vline(xintercept = 2013, color = \"black\", size = 0.5) +  # Add vertical line at Year = 2013 +\n",
    "  scale_x_continuous(breaks = seq(2000, 2020, by = 2)) +  # Set breaks on x-axis +\n",
    "  theme(\n",
    "    plot.title = element_text(size = 20, hjust = 0.5),  # Center title\n",
    "    legend.position = \"bottom\",  # Move legend to the bottom\n",
    "    legend.box = \"horizontal\",   # Horizontal legend\n",
    "    legend.title = element_text(size = 14),\n",
    "    legend.text = element_text(size = 14),\n",
    "    axis.text.x = element_text(size = 14),\n",
    "    axis.text.y = element_text(size = 16),\n",
    "    axis.title.x = element_text(size = 18),\n",
    "    axis.title.y = element_text(size = 18)\n",
    "  ) \n",
    "\n",
    "# Print the plot\n",
    "p <- p + scale_y_continuous(limits = c(0, 80), breaks = seq(0, 80, by = 10))\n",
    "p"
   ]
  },
  {
   "cell_type": "markdown",
   "metadata": {},
   "source": [
    "## Differences between Black and White"
   ]
  },
  {
   "cell_type": "markdown",
   "metadata": {},
   "source": [
    "### Raw data graph"
   ]
  },
  {
   "cell_type": "code",
   "execution_count": 291,
   "metadata": {},
   "outputs": [
    {
     "data": {
      "text/html": [
       "<table class=\"dataframe\">\n",
       "<caption>A data.frame: 11 × 19</caption>\n",
       "<thead>\n",
       "\t<tr><th></th><th scope=col>Year</th><th scope=col>Preclearance_WAvg_PVoteC_18to24</th><th scope=col>Preclearance_WAvg_PVoteC_45to64</th><th scope=col>Preclearance_WAvg_PVoteC_Whitealoneorincombination</th><th scope=col>Preclearance_WAvg_PVoteC_Blackaloneorincombination</th><th scope=col>Semipreclearance_WAvg_PVoteC_18to24</th><th scope=col>Semipreclearance_WAvg_PVoteC_45to64</th><th scope=col>Semipreclearance_WAvg_PVoteC_Whitealoneorincombination</th><th scope=col>Semipreclearance_WAvg_PVoteC_Blackaloneorincombination</th><th scope=col>Control_WAvg_PVoteC_18to24</th><th scope=col>Control_WAvg_PVoteC_45to64</th><th scope=col>Control_WAvg_PVoteC_Whitealoneorincombination</th><th scope=col>Control_WAvg_PVoteC_Blackaloneorincombination</th><th scope=col>Preclearance_dif_45to64_18to24</th><th scope=col>Semipreclearance_dif_45to64_18to24</th><th scope=col>Control_dif_45to64_18to24</th><th scope=col>Preclearance_dif_White_Black</th><th scope=col>Semipreclearance_dif_White_Black</th><th scope=col>Control_dif_White_Black</th></tr>\n",
       "\t<tr><th></th><th scope=col>&lt;dbl&gt;</th><th scope=col>&lt;dbl&gt;</th><th scope=col>&lt;dbl&gt;</th><th scope=col>&lt;dbl&gt;</th><th scope=col>&lt;dbl&gt;</th><th scope=col>&lt;dbl&gt;</th><th scope=col>&lt;dbl&gt;</th><th scope=col>&lt;dbl&gt;</th><th scope=col>&lt;dbl&gt;</th><th scope=col>&lt;dbl&gt;</th><th scope=col>&lt;dbl&gt;</th><th scope=col>&lt;dbl&gt;</th><th scope=col>&lt;dbl&gt;</th><th scope=col>&lt;dbl&gt;</th><th scope=col>&lt;dbl&gt;</th><th scope=col>&lt;dbl&gt;</th><th scope=col>&lt;dbl&gt;</th><th scope=col>&lt;dbl&gt;</th><th scope=col>&lt;dbl&gt;</th></tr>\n",
       "</thead>\n",
       "<tbody>\n",
       "\t<tr><th scope=row>1</th><td>2000</td><td>35.33409</td><td>65.00868</td><td>57.08034</td><td>56.86832</td><td>35.49440</td><td>66.45517</td><td>60.55371</td><td>54.05005</td><td>36.80844</td><td>69.64811</td><td>61.63301</td><td>58.83378</td><td>29.67459</td><td>30.96077</td><td>32.83967</td><td> 0.2120230</td><td> 6.503659</td><td> 2.7992307</td></tr>\n",
       "\t<tr><th scope=row>2</th><td>2002</td><td>18.03443</td><td>52.89243</td><td>43.53202</td><td>41.87277</td><td>18.79065</td><td>54.09899</td><td>47.30229</td><td>40.85162</td><td>20.10403</td><td>58.45694</td><td>48.89794</td><td>43.85778</td><td>34.85800</td><td>35.30834</td><td>38.35291</td><td> 1.6592525</td><td> 6.450671</td><td> 5.0401561</td></tr>\n",
       "\t<tr><th scope=row>3</th><td>2004</td><td>42.69860</td><td>67.31650</td><td>61.32881</td><td>59.03175</td><td>46.44934</td><td>68.11128</td><td>64.58915</td><td>59.74327</td><td>48.57720</td><td>73.06689</td><td>67.16582</td><td>60.77727</td><td>24.61790</td><td>21.66194</td><td>24.48969</td><td> 2.2970524</td><td> 4.845871</td><td> 6.3885539</td></tr>\n",
       "\t<tr><th scope=row>4</th><td>2006</td><td>     NaN</td><td>     NaN</td><td>44.02342</td><td>41.02660</td><td>     NaN</td><td>     NaN</td><td>48.62093</td><td>39.60215</td><td>     NaN</td><td>     NaN</td><td>52.16366</td><td>42.06836</td><td>     NaN</td><td>     NaN</td><td>     NaN</td><td> 2.9968259</td><td> 9.018787</td><td>10.0952976</td></tr>\n",
       "\t<tr><th scope=row>5</th><td>2008</td><td>44.69669</td><td>68.40499</td><td>61.52265</td><td>67.30118</td><td>49.57096</td><td>68.72288</td><td>64.96692</td><td>62.05102</td><td>49.56354</td><td>69.71250</td><td>65.01537</td><td>64.57909</td><td>23.70829</td><td>19.15192</td><td>20.14896</td><td>-5.7785335</td><td> 2.915894</td><td> 0.4362799</td></tr>\n",
       "\t<tr><th scope=row>6</th><td>2010</td><td>20.69935</td><td>51.26626</td><td>42.76913</td><td>44.24392</td><td>23.22844</td><td>53.66126</td><td>47.55154</td><td>42.19548</td><td>20.26144</td><td>56.08714</td><td>47.54431</td><td>43.15032</td><td>30.56691</td><td>30.43281</td><td>35.82570</td><td>-1.4747869</td><td> 5.356066</td><td> 4.3939923</td></tr>\n",
       "\t<tr><th scope=row>7</th><td>2012</td><td>37.58865</td><td>67.03738</td><td>59.29383</td><td>66.20280</td><td>42.16159</td><td>65.85896</td><td>61.16986</td><td>66.07868</td><td>42.25137</td><td>69.41170</td><td>63.60318</td><td>65.53672</td><td>29.44873</td><td>23.69737</td><td>27.16033</td><td>-6.9089736</td><td>-4.908824</td><td>-1.9335402</td></tr>\n",
       "\t<tr><th scope=row>8</th><td>2014</td><td>17.28792</td><td>48.05885</td><td>40.50940</td><td>41.48969</td><td>17.06226</td><td>47.16665</td><td>41.50954</td><td>39.11553</td><td>17.12198</td><td>51.68236</td><td>45.31364</td><td>37.29442</td><td>30.77093</td><td>30.10439</td><td>34.56038</td><td>-0.9802893</td><td> 2.394009</td><td> 8.0192238</td></tr>\n",
       "\t<tr><th scope=row>9</th><td>2016</td><td>41.60262</td><td>65.83242</td><td>60.11742</td><td>60.69341</td><td>41.04961</td><td>64.73157</td><td>61.84912</td><td>56.36147</td><td>44.79061</td><td>68.16629</td><td>64.24932</td><td>59.46266</td><td>24.22980</td><td>23.68196</td><td>23.37568</td><td>-0.5759968</td><td> 5.487644</td><td> 4.7866618</td></tr>\n",
       "\t<tr><th scope=row>10</th><td>2018</td><td>30.39786</td><td>59.31352</td><td>52.57729</td><td>52.89736</td><td>33.19165</td><td>57.60320</td><td>54.23609</td><td>50.31675</td><td>32.84104</td><td>60.68734</td><td>56.08462</td><td>48.67272</td><td>28.91565</td><td>24.41155</td><td>27.84631</td><td>-0.3200671</td><td> 3.919342</td><td> 7.4118955</td></tr>\n",
       "\t<tr><th scope=row>11</th><td>2020</td><td>47.62839</td><td>71.50187</td><td>67.40291</td><td>61.47526</td><td>50.67754</td><td>68.00854</td><td>65.76535</td><td>61.99939</td><td>53.73795</td><td>72.56083</td><td>69.82782</td><td>63.69053</td><td>23.87348</td><td>17.33100</td><td>18.82288</td><td> 5.9276494</td><td> 3.765961</td><td> 6.1372886</td></tr>\n",
       "</tbody>\n",
       "</table>\n"
      ],
      "text/latex": [
       "A data.frame: 11 × 19\n",
       "\\begin{tabular}{r|lllllllllllllllllll}\n",
       "  & Year & Preclearance\\_WAvg\\_PVoteC\\_18to24 & Preclearance\\_WAvg\\_PVoteC\\_45to64 & Preclearance\\_WAvg\\_PVoteC\\_Whitealoneorincombination & Preclearance\\_WAvg\\_PVoteC\\_Blackaloneorincombination & Semipreclearance\\_WAvg\\_PVoteC\\_18to24 & Semipreclearance\\_WAvg\\_PVoteC\\_45to64 & Semipreclearance\\_WAvg\\_PVoteC\\_Whitealoneorincombination & Semipreclearance\\_WAvg\\_PVoteC\\_Blackaloneorincombination & Control\\_WAvg\\_PVoteC\\_18to24 & Control\\_WAvg\\_PVoteC\\_45to64 & Control\\_WAvg\\_PVoteC\\_Whitealoneorincombination & Control\\_WAvg\\_PVoteC\\_Blackaloneorincombination & Preclearance\\_dif\\_45to64\\_18to24 & Semipreclearance\\_dif\\_45to64\\_18to24 & Control\\_dif\\_45to64\\_18to24 & Preclearance\\_dif\\_White\\_Black & Semipreclearance\\_dif\\_White\\_Black & Control\\_dif\\_White\\_Black\\\\\n",
       "  & <dbl> & <dbl> & <dbl> & <dbl> & <dbl> & <dbl> & <dbl> & <dbl> & <dbl> & <dbl> & <dbl> & <dbl> & <dbl> & <dbl> & <dbl> & <dbl> & <dbl> & <dbl> & <dbl>\\\\\n",
       "\\hline\n",
       "\t1 & 2000 & 35.33409 & 65.00868 & 57.08034 & 56.86832 & 35.49440 & 66.45517 & 60.55371 & 54.05005 & 36.80844 & 69.64811 & 61.63301 & 58.83378 & 29.67459 & 30.96077 & 32.83967 &  0.2120230 &  6.503659 &  2.7992307\\\\\n",
       "\t2 & 2002 & 18.03443 & 52.89243 & 43.53202 & 41.87277 & 18.79065 & 54.09899 & 47.30229 & 40.85162 & 20.10403 & 58.45694 & 48.89794 & 43.85778 & 34.85800 & 35.30834 & 38.35291 &  1.6592525 &  6.450671 &  5.0401561\\\\\n",
       "\t3 & 2004 & 42.69860 & 67.31650 & 61.32881 & 59.03175 & 46.44934 & 68.11128 & 64.58915 & 59.74327 & 48.57720 & 73.06689 & 67.16582 & 60.77727 & 24.61790 & 21.66194 & 24.48969 &  2.2970524 &  4.845871 &  6.3885539\\\\\n",
       "\t4 & 2006 &      NaN &      NaN & 44.02342 & 41.02660 &      NaN &      NaN & 48.62093 & 39.60215 &      NaN &      NaN & 52.16366 & 42.06836 &      NaN &      NaN &      NaN &  2.9968259 &  9.018787 & 10.0952976\\\\\n",
       "\t5 & 2008 & 44.69669 & 68.40499 & 61.52265 & 67.30118 & 49.57096 & 68.72288 & 64.96692 & 62.05102 & 49.56354 & 69.71250 & 65.01537 & 64.57909 & 23.70829 & 19.15192 & 20.14896 & -5.7785335 &  2.915894 &  0.4362799\\\\\n",
       "\t6 & 2010 & 20.69935 & 51.26626 & 42.76913 & 44.24392 & 23.22844 & 53.66126 & 47.55154 & 42.19548 & 20.26144 & 56.08714 & 47.54431 & 43.15032 & 30.56691 & 30.43281 & 35.82570 & -1.4747869 &  5.356066 &  4.3939923\\\\\n",
       "\t7 & 2012 & 37.58865 & 67.03738 & 59.29383 & 66.20280 & 42.16159 & 65.85896 & 61.16986 & 66.07868 & 42.25137 & 69.41170 & 63.60318 & 65.53672 & 29.44873 & 23.69737 & 27.16033 & -6.9089736 & -4.908824 & -1.9335402\\\\\n",
       "\t8 & 2014 & 17.28792 & 48.05885 & 40.50940 & 41.48969 & 17.06226 & 47.16665 & 41.50954 & 39.11553 & 17.12198 & 51.68236 & 45.31364 & 37.29442 & 30.77093 & 30.10439 & 34.56038 & -0.9802893 &  2.394009 &  8.0192238\\\\\n",
       "\t9 & 2016 & 41.60262 & 65.83242 & 60.11742 & 60.69341 & 41.04961 & 64.73157 & 61.84912 & 56.36147 & 44.79061 & 68.16629 & 64.24932 & 59.46266 & 24.22980 & 23.68196 & 23.37568 & -0.5759968 &  5.487644 &  4.7866618\\\\\n",
       "\t10 & 2018 & 30.39786 & 59.31352 & 52.57729 & 52.89736 & 33.19165 & 57.60320 & 54.23609 & 50.31675 & 32.84104 & 60.68734 & 56.08462 & 48.67272 & 28.91565 & 24.41155 & 27.84631 & -0.3200671 &  3.919342 &  7.4118955\\\\\n",
       "\t11 & 2020 & 47.62839 & 71.50187 & 67.40291 & 61.47526 & 50.67754 & 68.00854 & 65.76535 & 61.99939 & 53.73795 & 72.56083 & 69.82782 & 63.69053 & 23.87348 & 17.33100 & 18.82288 &  5.9276494 &  3.765961 &  6.1372886\\\\\n",
       "\\end{tabular}\n"
      ],
      "text/markdown": [
       "\n",
       "A data.frame: 11 × 19\n",
       "\n",
       "| <!--/--> | Year &lt;dbl&gt; | Preclearance_WAvg_PVoteC_18to24 &lt;dbl&gt; | Preclearance_WAvg_PVoteC_45to64 &lt;dbl&gt; | Preclearance_WAvg_PVoteC_Whitealoneorincombination &lt;dbl&gt; | Preclearance_WAvg_PVoteC_Blackaloneorincombination &lt;dbl&gt; | Semipreclearance_WAvg_PVoteC_18to24 &lt;dbl&gt; | Semipreclearance_WAvg_PVoteC_45to64 &lt;dbl&gt; | Semipreclearance_WAvg_PVoteC_Whitealoneorincombination &lt;dbl&gt; | Semipreclearance_WAvg_PVoteC_Blackaloneorincombination &lt;dbl&gt; | Control_WAvg_PVoteC_18to24 &lt;dbl&gt; | Control_WAvg_PVoteC_45to64 &lt;dbl&gt; | Control_WAvg_PVoteC_Whitealoneorincombination &lt;dbl&gt; | Control_WAvg_PVoteC_Blackaloneorincombination &lt;dbl&gt; | Preclearance_dif_45to64_18to24 &lt;dbl&gt; | Semipreclearance_dif_45to64_18to24 &lt;dbl&gt; | Control_dif_45to64_18to24 &lt;dbl&gt; | Preclearance_dif_White_Black &lt;dbl&gt; | Semipreclearance_dif_White_Black &lt;dbl&gt; | Control_dif_White_Black &lt;dbl&gt; |\n",
       "|---|---|---|---|---|---|---|---|---|---|---|---|---|---|---|---|---|---|---|---|\n",
       "| 1 | 2000 | 35.33409 | 65.00868 | 57.08034 | 56.86832 | 35.49440 | 66.45517 | 60.55371 | 54.05005 | 36.80844 | 69.64811 | 61.63301 | 58.83378 | 29.67459 | 30.96077 | 32.83967 |  0.2120230 |  6.503659 |  2.7992307 |\n",
       "| 2 | 2002 | 18.03443 | 52.89243 | 43.53202 | 41.87277 | 18.79065 | 54.09899 | 47.30229 | 40.85162 | 20.10403 | 58.45694 | 48.89794 | 43.85778 | 34.85800 | 35.30834 | 38.35291 |  1.6592525 |  6.450671 |  5.0401561 |\n",
       "| 3 | 2004 | 42.69860 | 67.31650 | 61.32881 | 59.03175 | 46.44934 | 68.11128 | 64.58915 | 59.74327 | 48.57720 | 73.06689 | 67.16582 | 60.77727 | 24.61790 | 21.66194 | 24.48969 |  2.2970524 |  4.845871 |  6.3885539 |\n",
       "| 4 | 2006 |      NaN |      NaN | 44.02342 | 41.02660 |      NaN |      NaN | 48.62093 | 39.60215 |      NaN |      NaN | 52.16366 | 42.06836 |      NaN |      NaN |      NaN |  2.9968259 |  9.018787 | 10.0952976 |\n",
       "| 5 | 2008 | 44.69669 | 68.40499 | 61.52265 | 67.30118 | 49.57096 | 68.72288 | 64.96692 | 62.05102 | 49.56354 | 69.71250 | 65.01537 | 64.57909 | 23.70829 | 19.15192 | 20.14896 | -5.7785335 |  2.915894 |  0.4362799 |\n",
       "| 6 | 2010 | 20.69935 | 51.26626 | 42.76913 | 44.24392 | 23.22844 | 53.66126 | 47.55154 | 42.19548 | 20.26144 | 56.08714 | 47.54431 | 43.15032 | 30.56691 | 30.43281 | 35.82570 | -1.4747869 |  5.356066 |  4.3939923 |\n",
       "| 7 | 2012 | 37.58865 | 67.03738 | 59.29383 | 66.20280 | 42.16159 | 65.85896 | 61.16986 | 66.07868 | 42.25137 | 69.41170 | 63.60318 | 65.53672 | 29.44873 | 23.69737 | 27.16033 | -6.9089736 | -4.908824 | -1.9335402 |\n",
       "| 8 | 2014 | 17.28792 | 48.05885 | 40.50940 | 41.48969 | 17.06226 | 47.16665 | 41.50954 | 39.11553 | 17.12198 | 51.68236 | 45.31364 | 37.29442 | 30.77093 | 30.10439 | 34.56038 | -0.9802893 |  2.394009 |  8.0192238 |\n",
       "| 9 | 2016 | 41.60262 | 65.83242 | 60.11742 | 60.69341 | 41.04961 | 64.73157 | 61.84912 | 56.36147 | 44.79061 | 68.16629 | 64.24932 | 59.46266 | 24.22980 | 23.68196 | 23.37568 | -0.5759968 |  5.487644 |  4.7866618 |\n",
       "| 10 | 2018 | 30.39786 | 59.31352 | 52.57729 | 52.89736 | 33.19165 | 57.60320 | 54.23609 | 50.31675 | 32.84104 | 60.68734 | 56.08462 | 48.67272 | 28.91565 | 24.41155 | 27.84631 | -0.3200671 |  3.919342 |  7.4118955 |\n",
       "| 11 | 2020 | 47.62839 | 71.50187 | 67.40291 | 61.47526 | 50.67754 | 68.00854 | 65.76535 | 61.99939 | 53.73795 | 72.56083 | 69.82782 | 63.69053 | 23.87348 | 17.33100 | 18.82288 |  5.9276494 |  3.765961 |  6.1372886 |\n",
       "\n"
      ],
      "text/plain": [
       "   Year Preclearance_WAvg_PVoteC_18to24 Preclearance_WAvg_PVoteC_45to64\n",
       "1  2000 35.33409                        65.00868                       \n",
       "2  2002 18.03443                        52.89243                       \n",
       "3  2004 42.69860                        67.31650                       \n",
       "4  2006      NaN                             NaN                       \n",
       "5  2008 44.69669                        68.40499                       \n",
       "6  2010 20.69935                        51.26626                       \n",
       "7  2012 37.58865                        67.03738                       \n",
       "8  2014 17.28792                        48.05885                       \n",
       "9  2016 41.60262                        65.83242                       \n",
       "10 2018 30.39786                        59.31352                       \n",
       "11 2020 47.62839                        71.50187                       \n",
       "   Preclearance_WAvg_PVoteC_Whitealoneorincombination\n",
       "1  57.08034                                          \n",
       "2  43.53202                                          \n",
       "3  61.32881                                          \n",
       "4  44.02342                                          \n",
       "5  61.52265                                          \n",
       "6  42.76913                                          \n",
       "7  59.29383                                          \n",
       "8  40.50940                                          \n",
       "9  60.11742                                          \n",
       "10 52.57729                                          \n",
       "11 67.40291                                          \n",
       "   Preclearance_WAvg_PVoteC_Blackaloneorincombination\n",
       "1  56.86832                                          \n",
       "2  41.87277                                          \n",
       "3  59.03175                                          \n",
       "4  41.02660                                          \n",
       "5  67.30118                                          \n",
       "6  44.24392                                          \n",
       "7  66.20280                                          \n",
       "8  41.48969                                          \n",
       "9  60.69341                                          \n",
       "10 52.89736                                          \n",
       "11 61.47526                                          \n",
       "   Semipreclearance_WAvg_PVoteC_18to24 Semipreclearance_WAvg_PVoteC_45to64\n",
       "1  35.49440                            66.45517                           \n",
       "2  18.79065                            54.09899                           \n",
       "3  46.44934                            68.11128                           \n",
       "4       NaN                                 NaN                           \n",
       "5  49.57096                            68.72288                           \n",
       "6  23.22844                            53.66126                           \n",
       "7  42.16159                            65.85896                           \n",
       "8  17.06226                            47.16665                           \n",
       "9  41.04961                            64.73157                           \n",
       "10 33.19165                            57.60320                           \n",
       "11 50.67754                            68.00854                           \n",
       "   Semipreclearance_WAvg_PVoteC_Whitealoneorincombination\n",
       "1  60.55371                                              \n",
       "2  47.30229                                              \n",
       "3  64.58915                                              \n",
       "4  48.62093                                              \n",
       "5  64.96692                                              \n",
       "6  47.55154                                              \n",
       "7  61.16986                                              \n",
       "8  41.50954                                              \n",
       "9  61.84912                                              \n",
       "10 54.23609                                              \n",
       "11 65.76535                                              \n",
       "   Semipreclearance_WAvg_PVoteC_Blackaloneorincombination\n",
       "1  54.05005                                              \n",
       "2  40.85162                                              \n",
       "3  59.74327                                              \n",
       "4  39.60215                                              \n",
       "5  62.05102                                              \n",
       "6  42.19548                                              \n",
       "7  66.07868                                              \n",
       "8  39.11553                                              \n",
       "9  56.36147                                              \n",
       "10 50.31675                                              \n",
       "11 61.99939                                              \n",
       "   Control_WAvg_PVoteC_18to24 Control_WAvg_PVoteC_45to64\n",
       "1  36.80844                   69.64811                  \n",
       "2  20.10403                   58.45694                  \n",
       "3  48.57720                   73.06689                  \n",
       "4       NaN                        NaN                  \n",
       "5  49.56354                   69.71250                  \n",
       "6  20.26144                   56.08714                  \n",
       "7  42.25137                   69.41170                  \n",
       "8  17.12198                   51.68236                  \n",
       "9  44.79061                   68.16629                  \n",
       "10 32.84104                   60.68734                  \n",
       "11 53.73795                   72.56083                  \n",
       "   Control_WAvg_PVoteC_Whitealoneorincombination\n",
       "1  61.63301                                     \n",
       "2  48.89794                                     \n",
       "3  67.16582                                     \n",
       "4  52.16366                                     \n",
       "5  65.01537                                     \n",
       "6  47.54431                                     \n",
       "7  63.60318                                     \n",
       "8  45.31364                                     \n",
       "9  64.24932                                     \n",
       "10 56.08462                                     \n",
       "11 69.82782                                     \n",
       "   Control_WAvg_PVoteC_Blackaloneorincombination Preclearance_dif_45to64_18to24\n",
       "1  58.83378                                      29.67459                      \n",
       "2  43.85778                                      34.85800                      \n",
       "3  60.77727                                      24.61790                      \n",
       "4  42.06836                                           NaN                      \n",
       "5  64.57909                                      23.70829                      \n",
       "6  43.15032                                      30.56691                      \n",
       "7  65.53672                                      29.44873                      \n",
       "8  37.29442                                      30.77093                      \n",
       "9  59.46266                                      24.22980                      \n",
       "10 48.67272                                      28.91565                      \n",
       "11 63.69053                                      23.87348                      \n",
       "   Semipreclearance_dif_45to64_18to24 Control_dif_45to64_18to24\n",
       "1  30.96077                           32.83967                 \n",
       "2  35.30834                           38.35291                 \n",
       "3  21.66194                           24.48969                 \n",
       "4       NaN                                NaN                 \n",
       "5  19.15192                           20.14896                 \n",
       "6  30.43281                           35.82570                 \n",
       "7  23.69737                           27.16033                 \n",
       "8  30.10439                           34.56038                 \n",
       "9  23.68196                           23.37568                 \n",
       "10 24.41155                           27.84631                 \n",
       "11 17.33100                           18.82288                 \n",
       "   Preclearance_dif_White_Black Semipreclearance_dif_White_Black\n",
       "1   0.2120230                    6.503659                       \n",
       "2   1.6592525                    6.450671                       \n",
       "3   2.2970524                    4.845871                       \n",
       "4   2.9968259                    9.018787                       \n",
       "5  -5.7785335                    2.915894                       \n",
       "6  -1.4747869                    5.356066                       \n",
       "7  -6.9089736                   -4.908824                       \n",
       "8  -0.9802893                    2.394009                       \n",
       "9  -0.5759968                    5.487644                       \n",
       "10 -0.3200671                    3.919342                       \n",
       "11  5.9276494                    3.765961                       \n",
       "   Control_dif_White_Black\n",
       "1   2.7992307             \n",
       "2   5.0401561             \n",
       "3   6.3885539             \n",
       "4  10.0952976             \n",
       "5   0.4362799             \n",
       "6   4.3939923             \n",
       "7  -1.9335402             \n",
       "8   8.0192238             \n",
       "9   4.7866618             \n",
       "10  7.4118955             \n",
       "11  6.1372886             "
      ]
     },
     "metadata": {},
     "output_type": "display_data"
    }
   ],
   "source": [
    "head(graph_data_v, 20)"
   ]
  },
  {
   "cell_type": "code",
   "execution_count": 292,
   "metadata": {},
   "outputs": [
    {
     "name": "stderr",
     "output_type": "stream",
     "text": [
      "\u001b[1m\u001b[22m`geom_smooth()` using formula = 'y ~ x'\n",
      "\u001b[1m\u001b[22m`geom_smooth()` using formula = 'y ~ x'\n",
      "\u001b[1m\u001b[22m`geom_smooth()` using formula = 'y ~ x'\n",
      "\u001b[1m\u001b[22m`geom_smooth()` using formula = 'y ~ x'\n",
      "\u001b[1m\u001b[22m`geom_smooth()` using formula = 'y ~ x'\n",
      "\u001b[1m\u001b[22m`geom_smooth()` using formula = 'y ~ x'\n"
     ]
    },
    {
     "data": {
      "image/png": "[encoded data removed]",
      "text/plain": [
       "plot without title"
      ]
     },
     "metadata": {
      "image/png": {
       "height": 420,
       "width": 420
      }
     },
     "output_type": "display_data"
    }
   ],
   "source": [
    "# Scatter plot with lines of best fit and legend\n",
    "p <- ggplot(graph_data_v, aes(x = Year)) +\n",
    "  geom_point(aes(y = Preclearance_dif_White_Black, color = \"Preclearance\"), size = 3) +\n",
    "  geom_point(aes(y = Control_dif_White_Black, color = \"Control\"), size = 3) +\n",
    "  geom_point(aes(y = Semipreclearance_dif_White_Black, color = \"Semipreclearance\"), size = 3) +\n",
    "  geom_smooth(data = subset(graph_data_v, Year <= 2013), aes(x= Year, y = Preclearance_dif_White_Black, group = 1, color = \"Preclearance\"), method = \"lm\", se = FALSE) +\n",
    "  geom_smooth(data = subset(graph_data_v, Year > 2013), aes(x= Year, y = Preclearance_dif_White_Black, group = 1, color = \"Preclearance\"), method = \"lm\", se = FALSE) +\n",
    "  geom_smooth(data = subset(graph_data_v, Year <= 2013), aes(x= Year, y = Control_dif_White_Black, group = 1, color = \"Control\"), method = \"lm\", se = FALSE) +\n",
    "  geom_smooth(data = subset(graph_data_v, Year > 2013), aes(x= Year, y = Control_dif_White_Black, group = 1, color = \"Control\"), method = \"lm\", se = FALSE) +\n",
    "  geom_smooth(data = subset(graph_data_v, Year <= 2013), aes(x= Year, y = Semipreclearance_dif_White_Black, group = 1, color = \"Semipreclearance\"), method = \"lm\", se = FALSE) +\n",
    "  geom_smooth(data = subset(graph_data_v, Year > 2013), aes(x= Year, y = Semipreclearance_dif_White_Black, group = 1, color = \"Semipreclearance\"), method = \"lm\", se = FALSE) +\n",
    "  labs(x = \"Year\", y = \"Percent Difference of \\n Whites and Blacks Who Voted\")+\n",
    "  scale_color_manual(name = NULL, values = c(\"Preclearance\" = \"red\", \"Control\" = \"blue\", \"Semipreclearance\" = \"green\")) +\n",
    "  theme_minimal(base_size = 16) +\n",
    "  geom_vline(xintercept = 2013, color = \"black\", size = 0.5) +  # Add vertical line at Year = 2013 +\n",
    "  scale_x_continuous(breaks = seq(2000, 2020, by = 2)) +  # Set breaks on x-axis +\n",
    "  theme(\n",
    "    plot.title = element_text(size = 20, hjust = 0.5),  # Center title\n",
    "    legend.position = \"bottom\",  # Move legend to the bottom\n",
    "    legend.box = \"horizontal\",   # Horizontal legend\n",
    "    legend.title = element_text(size = 14),\n",
    "    legend.text = element_text(size = 12),\n",
    "    axis.text.x = element_text(size = 12),\n",
    "    axis.text.y = element_text(size = 12),\n",
    "    axis.title.x = element_text(size = 14),\n",
    "    axis.title.y = element_text(size = 14)\n",
    "  ) \n",
    "\n",
    "# Print the plot\n",
    "p <- p + scale_y_continuous(limits = c(-50, 50), breaks = seq(-50, 50, by = 10))\n",
    "p"
   ]
  },
  {
   "cell_type": "markdown",
   "metadata": {},
   "source": [
    "## Summary Statistics for Controls "
   ]
  },
  {
   "cell_type": "markdown",
   "metadata": {},
   "source": [
    "### Swing "
   ]
  },
  {
   "cell_type": "code",
   "execution_count": 54,
   "metadata": {},
   "outputs": [
    {
     "name": "stdout",
     "output_type": "stream",
     "text": [
      "[1] 9\n",
      "[1] 6\n",
      "[1] 36\n"
     ]
    }
   ],
   "source": [
    "# Calculate the number of Treatment and Control states\n",
    "num_treatment <- final %>%\n",
    "  filter(Treatment == 1) %>%\n",
    "  summarise(num_treatment = n_distinct(STATE)) %>%\n",
    "  pull(num_treatment)\n",
    "\n",
    "num_semitreatment <- final %>%\n",
    "  filter(Semi_treatment == 1) %>%\n",
    "  summarise(num_semitreatment = n_distinct(STATE)) %>%\n",
    "  pull(num_semitreatment)\n",
    "\n",
    "num_control <- final %>%\n",
    "  filter(Treatment == 0 & Semi_treatment==0) %>%\n",
    "  summarise(num_control = n_distinct(STATE)) %>%\n",
    "  pull(num_control)\n",
    "\n",
    "print(num_treatment)\n",
    "print(num_semitreatment)\n",
    "print(num_control)\n",
    "\n",
    "# Create a dataframe to store the results\n",
    "results_swing <- data.frame(Year = seq(2000, 2012, by = 4),\n",
    "                              Treatment = rep(NA, length(seq(2000, 2012, by = 4))),\n",
    "                              Semitreatment=rep(NA, length(seq(2000, 2012, by = 4))),\n",
    "                              Control = rep(NA, length(seq(2000, 2012, by = 4))))\n",
    "\n",
    "# Iterate over years and calculate proportions for treatment and control groups\n",
    "for (year in seq(2000, 2012, by = 4)) {\n",
    "  year_column <- paste0(\"swing_\", year)\n",
    "  treatment_swing_1 <- sum(final$Treatment == 1 & final[, year_column] == 1)\n",
    "  semitreatment_swing_1 <- sum(final$Semi_treatment == 1 & final[, year_column] == 1)\n",
    "  control_swing_1 <- sum(final$Treatment == 0 & final$Semi_treatment==0 & final[, year_column] == 1)\n",
    "  proportion_treatment <- treatment_swing_1 / num_treatment\n",
    "  proportion_semitreatment <- semitreatment_swing_1 / num_semitreatment\n",
    "  proportion_control <- control_swing_1 / num_control\n",
    "  \n",
    "  results_swing$Treatment[results_swing$Year == year] <- proportion_treatment\n",
    "  results_swing$Semitreatment[results_swing$Year == year] <- proportion_semitreatment\n",
    "  results_swing$Control[results_swing$Year == year] <- proportion_control\n",
    "}"
   ]
  },
  {
   "cell_type": "code",
   "execution_count": 55,
   "metadata": {},
   "outputs": [
    {
     "data": {
      "text/html": [
       "<table class=\"dataframe\">\n",
       "<caption>A data.frame: 4 × 4</caption>\n",
       "<thead>\n",
       "\t<tr><th scope=col>Year</th><th scope=col>Treatment</th><th scope=col>Semitreatment</th><th scope=col>Control</th></tr>\n",
       "\t<tr><th scope=col>&lt;dbl&gt;</th><th scope=col>&lt;dbl&gt;</th><th scope=col>&lt;dbl&gt;</th><th scope=col>&lt;dbl&gt;</th></tr>\n",
       "</thead>\n",
       "<tbody>\n",
       "\t<tr><td>2000</td><td>0</td><td>0.1666667</td><td>0.16666667</td></tr>\n",
       "\t<tr><td>2004</td><td>0</td><td>0.0000000</td><td>0.19444444</td></tr>\n",
       "\t<tr><td>2008</td><td>0</td><td>0.3333333</td><td>0.08333333</td></tr>\n",
       "\t<tr><td>2012</td><td>0</td><td>0.3333333</td><td>0.02777778</td></tr>\n",
       "</tbody>\n",
       "</table>\n"
      ],
      "text/latex": [
       "A data.frame: 4 × 4\n",
       "\\begin{tabular}{llll}\n",
       " Year & Treatment & Semitreatment & Control\\\\\n",
       " <dbl> & <dbl> & <dbl> & <dbl>\\\\\n",
       "\\hline\n",
       "\t 2000 & 0 & 0.1666667 & 0.16666667\\\\\n",
       "\t 2004 & 0 & 0.0000000 & 0.19444444\\\\\n",
       "\t 2008 & 0 & 0.3333333 & 0.08333333\\\\\n",
       "\t 2012 & 0 & 0.3333333 & 0.02777778\\\\\n",
       "\\end{tabular}\n"
      ],
      "text/markdown": [
       "\n",
       "A data.frame: 4 × 4\n",
       "\n",
       "| Year &lt;dbl&gt; | Treatment &lt;dbl&gt; | Semitreatment &lt;dbl&gt; | Control &lt;dbl&gt; |\n",
       "|---|---|---|---|\n",
       "| 2000 | 0 | 0.1666667 | 0.16666667 |\n",
       "| 2004 | 0 | 0.0000000 | 0.19444444 |\n",
       "| 2008 | 0 | 0.3333333 | 0.08333333 |\n",
       "| 2012 | 0 | 0.3333333 | 0.02777778 |\n",
       "\n"
      ],
      "text/plain": [
       "  Year Treatment Semitreatment Control   \n",
       "1 2000 0         0.1666667     0.16666667\n",
       "2 2004 0         0.0000000     0.19444444\n",
       "3 2008 0         0.3333333     0.08333333\n",
       "4 2012 0         0.3333333     0.02777778"
      ]
     },
     "metadata": {},
     "output_type": "display_data"
    }
   ],
   "source": [
    "results_swing"
   ]
  },
  {
   "cell_type": "code",
   "execution_count": 56,
   "metadata": {},
   "outputs": [
    {
     "data": {
      "text/html": [
       "<table class=\"dataframe\">\n",
       "<caption>A data.frame: 5 × 3</caption>\n",
       "<thead>\n",
       "\t<tr><th></th><th scope=col>Treatment</th><th scope=col>Semitreatment</th><th scope=col>Control</th></tr>\n",
       "\t<tr><th></th><th scope=col>&lt;dbl&gt;</th><th scope=col>&lt;dbl&gt;</th><th scope=col>&lt;dbl&gt;</th></tr>\n",
       "</thead>\n",
       "<tbody>\n",
       "\t<tr><th scope=row>Min</th><td>0</td><td>0.0000000</td><td>0.02777778</td></tr>\n",
       "\t<tr><th scope=row>Max</th><td>0</td><td>0.3333333</td><td>0.19444444</td></tr>\n",
       "\t<tr><th scope=row>Mean</th><td>0</td><td>0.2083333</td><td>0.11805556</td></tr>\n",
       "\t<tr><th scope=row>SD</th><td>0</td><td>0.1595712</td><td>0.07649404</td></tr>\n",
       "\t<tr><th scope=row>Count</th><td>4</td><td>4.0000000</td><td>4.00000000</td></tr>\n",
       "</tbody>\n",
       "</table>\n"
      ],
      "text/latex": [
       "A data.frame: 5 × 3\n",
       "\\begin{tabular}{r|lll}\n",
       "  & Treatment & Semitreatment & Control\\\\\n",
       "  & <dbl> & <dbl> & <dbl>\\\\\n",
       "\\hline\n",
       "\tMin & 0 & 0.0000000 & 0.02777778\\\\\n",
       "\tMax & 0 & 0.3333333 & 0.19444444\\\\\n",
       "\tMean & 0 & 0.2083333 & 0.11805556\\\\\n",
       "\tSD & 0 & 0.1595712 & 0.07649404\\\\\n",
       "\tCount & 4 & 4.0000000 & 4.00000000\\\\\n",
       "\\end{tabular}\n"
      ],
      "text/markdown": [
       "\n",
       "A data.frame: 5 × 3\n",
       "\n",
       "| <!--/--> | Treatment &lt;dbl&gt; | Semitreatment &lt;dbl&gt; | Control &lt;dbl&gt; |\n",
       "|---|---|---|---|\n",
       "| Min | 0 | 0.0000000 | 0.02777778 |\n",
       "| Max | 0 | 0.3333333 | 0.19444444 |\n",
       "| Mean | 0 | 0.2083333 | 0.11805556 |\n",
       "| SD | 0 | 0.1595712 | 0.07649404 |\n",
       "| Count | 4 | 4.0000000 | 4.00000000 |\n",
       "\n"
      ],
      "text/plain": [
       "      Treatment Semitreatment Control   \n",
       "Min   0         0.0000000     0.02777778\n",
       "Max   0         0.3333333     0.19444444\n",
       "Mean  0         0.2083333     0.11805556\n",
       "SD    0         0.1595712     0.07649404\n",
       "Count 4         4.0000000     4.00000000"
      ]
     },
     "metadata": {},
     "output_type": "display_data"
    }
   ],
   "source": [
    "summary_stats_swing <- apply(results_swing[, -1], 2, function(x) c(Min = min(x, na.rm = TRUE),\n",
    "                                                    Max = max(x, na.rm = TRUE),\n",
    "                                                    Mean = mean(x, na.rm = TRUE),\n",
    "                                                    SD = sd(x, na.rm = TRUE),\n",
    "                                                    Count = sum(!is.na(x))))\n",
    "\n",
    "# Create a dataframe from the summary statistics\n",
    "summary_df_swing <- as.data.frame(summary_stats_swing)\n",
    "\n",
    "# Print the summary dataframe\n",
    "head(summary_df_swing)"
   ]
  },
  {
   "cell_type": "markdown",
   "metadata": {},
   "source": [
    "### GDP"
   ]
  },
  {
   "cell_type": "code",
   "execution_count": 57,
   "metadata": {},
   "outputs": [
    {
     "name": "stdout",
     "output_type": "stream",
     "text": [
      "  min_value max_value stdev_value count weighted_avg\n",
      "1     28944     61156    9591.021     9     41343.51\n"
     ]
    }
   ],
   "source": [
    "#Looking at GDP\n",
    "# Filter final dataframe for Treatment states and select unique states\n",
    "treatment_states <- final %>%\n",
    "  filter(Treatment == 1) %>%\n",
    "  distinct(STATE)\n",
    "\n",
    "# Calculate summary statistics for rGDPperCap_2012\n",
    "summary_stats <- treatment_states %>%\n",
    "  left_join(final, by = \"STATE\") %>%\n",
    "  summarise(\n",
    "    min_value = min(rGDPperCap_2012, na.rm = TRUE),\n",
    "    max_value = max(rGDPperCap_2012, na.rm = TRUE),\n",
    "    stdev_value = sd(rGDPperCap_2012, na.rm = TRUE),\n",
    "    count = n_distinct(STATE),,\n",
    "    weighted_avg = weighted.mean(rGDPperCap_2012, w = TotPop_Total_2012, na.rm = TRUE)\n",
    "  )\n",
    "\n",
    "# Print the summary statistics\n",
    "print(summary_stats)"
   ]
  },
  {
   "cell_type": "code",
   "execution_count": 58,
   "metadata": {},
   "outputs": [
    {
     "name": "stdout",
     "output_type": "stream",
     "text": [
      "  min_value max_value weighted_avg stdev_value count\n",
      "1     34802     53067     43501.07    6368.872     6\n"
     ]
    }
   ],
   "source": [
    "#Looking at GDP\n",
    "# Filter final dataframe for Treatment states and select unique states\n",
    "control_states <- final %>%\n",
    "  filter(Semi_treatment==1) %>%\n",
    "  distinct(STATE)\n",
    "\n",
    "# Calculate summary statistics for rGDPperCap_2012\n",
    "summary_stats <- control_states %>%\n",
    "  left_join(final, by = \"STATE\") %>%\n",
    "  summarise(\n",
    "    min_value = min(rGDPperCap_2012, na.rm = TRUE),\n",
    "    max_value = max(rGDPperCap_2012, na.rm = TRUE),\n",
    "    weighted_avg = weighted.mean(rGDPperCap_2012, w = TotPop_Total_2012, na.rm = TRUE),\n",
    "    stdev_value = sd(rGDPperCap_2012, na.rm = TRUE),\n",
    "    count = n_distinct(STATE),,\n",
    "  )\n",
    "\n",
    "# Print the summary statistics\n",
    "print(summary_stats)"
   ]
  },
  {
   "cell_type": "code",
   "execution_count": 60,
   "metadata": {},
   "outputs": [
    {
     "name": "stdout",
     "output_type": "stream",
     "text": [
      "  min_value max_value weighted_avg stdev_value count\n",
      "1     30389    145663     42993.07    18536.41    36\n"
     ]
    }
   ],
   "source": [
    "#Looking at GDP\n",
    "# Filter final dataframe for Treatment states and select unique states\n",
    "control_states <- final %>%\n",
    "  filter(Treatment == 0 & Semi_treatment==0) %>%\n",
    "  distinct(STATE)\n",
    "\n",
    "# Calculate summary statistics for rGDPperCap_2012\n",
    "summary_stats <- control_states %>%\n",
    "  left_join(final, by = \"STATE\") %>%\n",
    "  summarise(\n",
    "    min_value = min(rGDPperCap_2012, na.rm = TRUE),\n",
    "    max_value = max(rGDPperCap_2012, na.rm = TRUE),\n",
    "    weighted_avg = weighted.mean(rGDPperCap_2012, w = TotPop_Total_2012, na.rm = TRUE),\n",
    "    stdev_value = sd(rGDPperCap_2012, na.rm = TRUE),\n",
    "    count = n_distinct(STATE),,\n",
    "  )\n",
    "\n",
    "# Print the summary statistics\n",
    "print(summary_stats)"
   ]
  },
  {
   "cell_type": "markdown",
   "metadata": {},
   "source": [
    "### Education"
   ]
  },
  {
   "cell_type": "code",
   "execution_count": 61,
   "metadata": {},
   "outputs": [
    {
     "name": "stdout",
     "output_type": "stream",
     "text": [
      "  min_value max_value stdev_value count weighted_avg\n",
      "1    19.089   33.2241    4.005389     9     25.43388\n"
     ]
    }
   ],
   "source": [
    "#Looking at Education\n",
    "# Filter final dataframe for Treatment states and select unique states\n",
    "treatment_states <- final %>%\n",
    "  filter(Treatment == 1) %>%\n",
    "  distinct(STATE)\n",
    "\n",
    "# Calculate summary statistics for Education\n",
    "summary_stats <- treatment_states %>%\n",
    "  left_join(final, by = \"STATE\") %>%\n",
    "  summarise(\n",
    "    min_value = min(Percent_25andOver_BachelororMore_2006to2008, na.rm = TRUE),\n",
    "    max_value = max(Percent_25andOver_BachelororMore_2006to2008, na.rm = TRUE),\n",
    "    stdev_value = sd(Percent_25andOver_BachelororMore_2006to2008, na.rm = TRUE),\n",
    "    count = n_distinct(STATE),,\n",
    "    weighted_avg = weighted.mean(Percent_25andOver_BachelororMore_2006to2008, w = TotPop_Total_2012, na.rm = TRUE)\n",
    "  )\n",
    "\n",
    "# Print the summary statistics\n",
    "print(summary_stats)"
   ]
  },
  {
   "cell_type": "code",
   "execution_count": 62,
   "metadata": {},
   "outputs": [
    {
     "name": "stdout",
     "output_type": "stream",
     "text": [
      "  min_value max_value stdev_value count weighted_avg\n",
      "1   24.3122   31.6036    2.688938     6     28.22533\n"
     ]
    }
   ],
   "source": [
    "#Looking at Education\n",
    "# Filter final dataframe for Treatment states and select unique states\n",
    "treatment_states <- final %>%\n",
    "  filter(Semi_treatment == 1) %>%\n",
    "  distinct(STATE)\n",
    "\n",
    "# Calculate summary statistics for Education\n",
    "summary_stats <- treatment_states %>%\n",
    "  left_join(final, by = \"STATE\") %>%\n",
    "  summarise(\n",
    "    min_value = min(Percent_25andOver_BachelororMore_2006to2008, na.rm = TRUE),\n",
    "    max_value = max(Percent_25andOver_BachelororMore_2006to2008, na.rm = TRUE),\n",
    "    stdev_value = sd(Percent_25andOver_BachelororMore_2006to2008, na.rm = TRUE),\n",
    "    count = n_distinct(STATE),,\n",
    "    weighted_avg = weighted.mean(Percent_25andOver_BachelororMore_2006to2008, w = TotPop_Total_2012, na.rm = TRUE)\n",
    "  )\n",
    "\n",
    "# Print the summary statistics\n",
    "print(summary_stats)"
   ]
  },
  {
   "cell_type": "code",
   "execution_count": 63,
   "metadata": {},
   "outputs": [
    {
     "name": "stdout",
     "output_type": "stream",
     "text": [
      "  min_value max_value weighted_avg stdev_value count\n",
      "1   16.8751   46.9346     27.76315    5.856478    36\n"
     ]
    }
   ],
   "source": [
    "#Looking at Education\n",
    "# Filter final dataframe for Treatment states and select unique states\n",
    "control_states <- final %>%\n",
    "  filter(Treatment == 0 & Semi_treatment==0) %>%\n",
    "  distinct(STATE)\n",
    "\n",
    "# Calculate summary statistics for Education\n",
    "summary_stats <- control_states %>%\n",
    "  left_join(final, by = \"STATE\") %>%\n",
    "  summarise(\n",
    "    min_value = min(Percent_25andOver_BachelororMore_2006to2008, na.rm = TRUE),\n",
    "    max_value = max(Percent_25andOver_BachelororMore_2006to2008, na.rm = TRUE),\n",
    "    weighted_avg = weighted.mean(Percent_25andOver_BachelororMore_2006to2008, w = TotPop_Total_2012, na.rm = TRUE),\n",
    "    stdev_value = sd(Percent_25andOver_BachelororMore_2006to2008, na.rm = TRUE),\n",
    "    count = n_distinct(STATE),,\n",
    "  )\n",
    "\n",
    "# Print the summary statistics\n",
    "print(summary_stats)"
   ]
  },
  {
   "cell_type": "markdown",
   "metadata": {},
   "source": [
    "### Covid-mortality rate"
   ]
  },
  {
   "cell_type": "code",
   "execution_count": 86,
   "metadata": {},
   "outputs": [
    {
     "name": "stdout",
     "output_type": "stream",
     "text": [
      "  min_value max_value weighted_avg stdev_value count\n",
      "1      35.7     123.5     93.00446     27.1865     9\n"
     ]
    }
   ],
   "source": [
    "#Looking at Education\n",
    "# Filter final dataframe for Treatment states and select unique states\n",
    "treatment_states <- final %>%\n",
    "  filter(Treatment == 1) %>%\n",
    "  distinct(STATE)\n",
    "\n",
    "# Calculate summary statistics for Education\n",
    "summary_stats <- treatment_states %>%\n",
    "  left_join(final, by = \"STATE\") %>%\n",
    "  summarise(\n",
    "    min_value = min(Covid_mrate_2020, na.rm = TRUE),\n",
    "    max_value = max(Covid_mrate_2020, na.rm = TRUE),\n",
    "    weighted_avg = weighted.mean(Covid_mrate_2020, w = TotPop_Total_2012, na.rm = TRUE),\n",
    "    stdev_value = sd(Covid_mrate_2020, na.rm = TRUE),\n",
    "    count = n_distinct(STATE)\n",
    "  )\n",
    "\n",
    "# Print the summary statistics\n",
    "print(summary_stats)"
   ]
  },
  {
   "cell_type": "code",
   "execution_count": 87,
   "metadata": {},
   "outputs": [
    {
     "name": "stdout",
     "output_type": "stream",
     "text": [
      "  min_value max_value weighted_avg stdev_value count\n",
      "1      56.4     139.1     81.97671     32.5336     6\n"
     ]
    }
   ],
   "source": [
    "#Looking at Education\n",
    "# Filter final dataframe for Treatment states and select unique states\n",
    "treatment_states <- final %>%\n",
    "  filter(Semi_treatment == 1) %>%\n",
    "  distinct(STATE)\n",
    "\n",
    "# Calculate summary statistics for Education\n",
    "summary_stats <- treatment_states %>%\n",
    "  left_join(final, by = \"STATE\") %>%\n",
    "  summarise(\n",
    "    min_value = min(Covid_mrate_2020, na.rm = TRUE),\n",
    "    max_value = max(Covid_mrate_2020, na.rm = TRUE),\n",
    "    weighted_avg = weighted.mean(Covid_mrate_2020, w = TotPop_Total_2012, na.rm = TRUE),\n",
    "    stdev_value = sd(Covid_mrate_2020, na.rm = TRUE),\n",
    "    count = n_distinct(STATE)\n",
    "  )\n",
    "\n",
    "# Print the summary statistics\n",
    "print(summary_stats)"
   ]
  },
  {
   "cell_type": "code",
   "execution_count": 88,
   "metadata": {},
   "outputs": [
    {
     "name": "stdout",
     "output_type": "stream",
     "text": [
      "  min_value max_value weighted_avg stdev_value count\n",
      "1        16     141.6     84.40171    29.57229    36\n"
     ]
    }
   ],
   "source": [
    "#Looking at Education\n",
    "# Filter final dataframe for Treatment states and select unique states\n",
    "treatment_states <- final %>%\n",
    "  filter(Semi_treatment == 0 & Treatment==0) %>%\n",
    "  distinct(STATE)\n",
    "\n",
    "# Calculate summary statistics for Education\n",
    "summary_stats <- treatment_states %>%\n",
    "  left_join(final, by = \"STATE\") %>%\n",
    "  summarise(\n",
    "    min_value = min(Covid_mrate_2020, na.rm = TRUE),\n",
    "    max_value = max(Covid_mrate_2020, na.rm = TRUE),\n",
    "    weighted_avg = weighted.mean(Covid_mrate_2020, w = TotPop_Total_2012, na.rm = TRUE),\n",
    "    stdev_value = sd(Covid_mrate_2020, na.rm = TRUE),\n",
    "    count = n_distinct(STATE)\n",
    "  )\n",
    "\n",
    "# Print the summary statistics\n",
    "print(summary_stats)"
   ]
  },
  {
   "cell_type": "markdown",
   "metadata": {},
   "source": [
    "### Black Population"
   ]
  },
  {
   "cell_type": "code",
   "execution_count": 74,
   "metadata": {},
   "outputs": [
    {
     "name": "stdout",
     "output_type": "stream",
     "text": [
      "  min_value max_value stdev_value count weighted_avg\n",
      "1     22000   2207000    691552.6     9      1489625\n"
     ]
    }
   ],
   "source": [
    "#Looking at Population Black\n",
    "# Filter final dataframe for Treatment states and select unique states\n",
    "treatment_states <- final %>%\n",
    "  filter(Treatment == 1) %>%\n",
    "  distinct(STATE)\n",
    "\n",
    "# Calculate summary statistics for Population\n",
    "summary_stats <- treatment_states %>%\n",
    "  left_join(final, by = \"STATE\") %>%\n",
    "  summarise(\n",
    "    min_value = min(TotCPop_Blackaloneorincombination_2012*1000, na.rm = TRUE),\n",
    "    max_value = max(TotCPop_Blackaloneorincombination_2012*1000, na.rm = TRUE),\n",
    "    stdev_value = sd(TotCPop_Blackaloneorincombination_2012*1000, na.rm = TRUE),\n",
    "    count = n_distinct(STATE),,\n",
    "    weighted_avg = weighted.mean(TotCPop_Blackaloneorincombination_2012*1000, w = TotCPop_Blackaloneorincombination_2012*1000, na.rm = TRUE)\n",
    "  )\n",
    "\n",
    "# Print the summary statistics\n",
    "print(summary_stats)"
   ]
  },
  {
   "cell_type": "code",
   "execution_count": 75,
   "metadata": {},
   "outputs": [
    {
     "name": "stdout",
     "output_type": "stream",
     "text": [
      "  min_value max_value stdev_value count weighted_avg\n",
      "1      8000   2177000    744371.6     6      1816132\n"
     ]
    }
   ],
   "source": [
    "#Looking at Population Black\n",
    "# Filter final dataframe for Treatment states and select unique states\n",
    "treatment_states <- final %>%\n",
    "  filter(Semi_treatment == 1) %>%\n",
    "  distinct(STATE)\n",
    "\n",
    "# Calculate summary statistics for Population\n",
    "summary_stats <- treatment_states %>%\n",
    "  left_join(final, by = \"STATE\") %>%\n",
    "  summarise(\n",
    "    min_value = min(TotCPop_Blackaloneorincombination_2012*1000, na.rm = TRUE),\n",
    "    max_value = max(TotCPop_Blackaloneorincombination_2012*1000, na.rm = TRUE),\n",
    "    stdev_value = sd(TotCPop_Blackaloneorincombination_2012*1000, na.rm = TRUE),\n",
    "    count = n_distinct(STATE),,\n",
    "    weighted_avg = weighted.mean(TotCPop_Blackaloneorincombination_2012*1000, w = TotCPop_Blackaloneorincombination_2012*1000, na.rm = TRUE)\n",
    "  )\n",
    "\n",
    "# Print the summary statistics\n",
    "print(summary_stats)"
   ]
  },
  {
   "cell_type": "code",
   "execution_count": 76,
   "metadata": {},
   "outputs": [
    {
     "name": "stdout",
     "output_type": "stream",
     "text": [
      "  min_value max_value stdev_value count weighted_avg\n",
      "1         0   1312000    359984.6    36     738451.4\n"
     ]
    }
   ],
   "source": [
    "#Looking at Population Black\n",
    "# Filter final dataframe for Treatment states and select unique states\n",
    "treatment_states <- final %>%\n",
    "  filter(Treatment == 0 & Semi_treatment==0) %>%\n",
    "  distinct(STATE)\n",
    "\n",
    "# Calculate summary statistics for Population\n",
    "summary_stats <- treatment_states %>%\n",
    "  left_join(final, by = \"STATE\") %>%\n",
    "  summarise(\n",
    "    min_value = min(TotCPop_Blackaloneorincombination_2012*1000, na.rm = TRUE),\n",
    "    max_value = max(TotCPop_Blackaloneorincombination_2012*1000, na.rm = TRUE),\n",
    "    stdev_value = sd(TotCPop_Blackaloneorincombination_2012*1000, na.rm = TRUE),\n",
    "    count = n_distinct(STATE),,\n",
    "    weighted_avg = weighted.mean(TotCPop_Blackaloneorincombination_2012*1000, w = TotCPop_Blackaloneorincombination_2012*1000, na.rm = TRUE)\n",
    "  )\n",
    "\n",
    "# Print the summary statistics\n",
    "print(summary_stats)"
   ]
  },
  {
   "cell_type": "markdown",
   "metadata": {},
   "source": [
    "### 18-24 y/o Population"
   ]
  },
  {
   "cell_type": "code",
   "execution_count": 77,
   "metadata": {},
   "outputs": [
    {
     "name": "stdout",
     "output_type": "stream",
     "text": [
      "  min_value max_value stdev_value count weighted_avg\n",
      "1     61000   2249000    602452.9     9      1204023\n"
     ]
    }
   ],
   "source": [
    "#Looking at Population 18 to 24\n",
    "# Filter final dataframe for Treatment states and select unique states\n",
    "treatment_states <- final %>%\n",
    "  filter(Treatment == 1) %>%\n",
    "  distinct(STATE)\n",
    "\n",
    "# Calculate summary statistics for Population\n",
    "summary_stats <- treatment_states %>%\n",
    "  left_join(final, by = \"STATE\") %>%\n",
    "  summarise(\n",
    "    min_value = min(TotCPop_18to24_2012*1000, na.rm = TRUE),\n",
    "    max_value = max(TotCPop_18to24_2012*1000, na.rm = TRUE),\n",
    "    stdev_value = sd(TotCPop_18to24_2012*1000, na.rm = TRUE),\n",
    "    count = n_distinct(STATE),,\n",
    "    weighted_avg = weighted.mean(TotCPop_18to24_2012*1000, w = TotCPop_18to24_2012*1000, na.rm = TRUE)\n",
    "  )\n",
    "\n",
    "# Print the summary statistics\n",
    "print(summary_stats)"
   ]
  },
  {
   "cell_type": "code",
   "execution_count": 78,
   "metadata": {},
   "outputs": [
    {
     "name": "stdout",
     "output_type": "stream",
     "text": [
      "  min_value max_value stdev_value count weighted_avg\n",
      "1     94000   3479000     1074660     6      2219751\n"
     ]
    }
   ],
   "source": [
    "#Looking at Population 18 to 24\n",
    "# Filter final dataframe for Treatment states and select unique states\n",
    "treatment_states <- final %>%\n",
    "  filter(Semi_treatment == 1) %>%\n",
    "  distinct(STATE)\n",
    "\n",
    "# Calculate summary statistics for Population\n",
    "summary_stats <- treatment_states %>%\n",
    "  left_join(final, by = \"STATE\") %>%\n",
    "  summarise(\n",
    "    min_value = min(TotCPop_18to24_2012*1000, na.rm = TRUE),\n",
    "    max_value = max(TotCPop_18to24_2012*1000, na.rm = TRUE),\n",
    "    stdev_value = sd(TotCPop_18to24_2012*1000, na.rm = TRUE),\n",
    "    count = n_distinct(STATE),,\n",
    "    weighted_avg = weighted.mean(TotCPop_18to24_2012*1000, w = TotCPop_18to24_2012*1000, na.rm = TRUE)\n",
    "  )\n",
    "\n",
    "# Print the summary statistics\n",
    "print(summary_stats)"
   ]
  },
  {
   "cell_type": "code",
   "execution_count": 79,
   "metadata": {},
   "outputs": [
    {
     "name": "stdout",
     "output_type": "stream",
     "text": [
      "  min_value max_value stdev_value count weighted_avg\n",
      "1     55000   1137000      297701    36     606936.9\n"
     ]
    }
   ],
   "source": [
    "#Looking at Population 18 to 24\n",
    "# Filter final dataframe for Treatment states and select unique states\n",
    "treatment_states <- final %>%\n",
    "  filter(Treatment == 0 & Semi_treatment==0) %>%\n",
    "  distinct(STATE)\n",
    "\n",
    "# Calculate summary statistics for Population\n",
    "summary_stats <- treatment_states %>%\n",
    "  left_join(final, by = \"STATE\") %>%\n",
    "  summarise(\n",
    "    min_value = min(TotCPop_18to24_2012*1000, na.rm = TRUE),\n",
    "    max_value = max(TotCPop_18to24_2012*1000, na.rm = TRUE),\n",
    "    stdev_value = sd(TotCPop_18to24_2012*1000, na.rm = TRUE),\n",
    "    count = n_distinct(STATE),,\n",
    "    weighted_avg = weighted.mean(TotCPop_18to24_2012*1000, w = TotCPop_18to24_2012*1000, na.rm = TRUE)\n",
    "  )\n",
    "\n",
    "# Print the summary statistics\n",
    "print(summary_stats)"
   ]
  },
  {
   "cell_type": "markdown",
   "metadata": {},
   "source": [
    "### 45-64 y/o Population"
   ]
  },
  {
   "cell_type": "code",
   "execution_count": 80,
   "metadata": {},
   "outputs": [
    {
     "name": "stdout",
     "output_type": "stream",
     "text": [
      "  min_value max_value weighted_avg stdev_value count\n",
      "1    182000   5429000      2945345     1443523     9\n"
     ]
    }
   ],
   "source": [
    "#Looking at Population 45 to 64\n",
    "# Filter final dataframe for Treatment states and select unique states\n",
    "treatment_states <- final %>%\n",
    "  filter(Treatment == 1) %>%\n",
    "  distinct(STATE)\n",
    "\n",
    "# Calculate summary statistics for Population\n",
    "summary_stats <- treatment_states %>%\n",
    "  left_join(final, by = \"STATE\") %>%\n",
    "  summarise(\n",
    "    min_value = min(TotCPop_45to64_2012*1000, na.rm = TRUE),\n",
    "    max_value = max(TotCPop_45to64_2012*1000, na.rm = TRUE),\n",
    "    weighted_avg = weighted.mean(TotCPop_45to64_2012*1000, w = TotCPop_45to64_2012*1000, na.rm = TRUE),\n",
    "    stdev_value = sd(TotCPop_45to64_2012*1000, na.rm = TRUE),\n",
    "    count = n_distinct(STATE),\n",
    "  )\n",
    "\n",
    "# Print the summary statistics\n",
    "print(summary_stats)"
   ]
  },
  {
   "cell_type": "code",
   "execution_count": 81,
   "metadata": {},
   "outputs": [
    {
     "name": "stdout",
     "output_type": "stream",
     "text": [
      "  min_value max_value weighted_avg stdev_value count\n",
      "1    202000   7827000      5284348     2414523     6\n"
     ]
    }
   ],
   "source": [
    "#Looking at Population 45 to 64\n",
    "# Filter final dataframe for Treatment states and select unique states\n",
    "treatment_states <- final %>%\n",
    "  filter(Semi_treatment == 1) %>%\n",
    "  distinct(STATE)\n",
    "\n",
    "# Calculate summary statistics for Population\n",
    "summary_stats <- treatment_states %>%\n",
    "  left_join(final, by = \"STATE\") %>%\n",
    "  summarise(\n",
    "    min_value = min(TotCPop_45to64_2012*1000, na.rm = TRUE),\n",
    "    max_value = max(TotCPop_45to64_2012*1000, na.rm = TRUE),\n",
    "    weighted_avg = weighted.mean(TotCPop_45to64_2012*1000, w = TotCPop_45to64_2012*1000, na.rm = TRUE),\n",
    "    stdev_value = sd(TotCPop_45to64_2012*1000, na.rm = TRUE),\n",
    "    count = n_distinct(STATE),\n",
    "  )\n",
    "\n",
    "# Print the summary statistics\n",
    "print(summary_stats)"
   ]
  },
  {
   "cell_type": "code",
   "execution_count": 82,
   "metadata": {},
   "outputs": [
    {
     "name": "stdout",
     "output_type": "stream",
     "text": [
      "  min_value max_value weighted_avg stdev_value count\n",
      "1    129000   3547000      1779964    875953.7    36\n"
     ]
    }
   ],
   "source": [
    "#Looking at Population 45 to 64\n",
    "# Filter final dataframe for Treatment states and select unique states\n",
    "treatment_states <- final %>%\n",
    "  filter(Treatment==0 & Semi_treatment == 0) %>%\n",
    "  distinct(STATE)\n",
    "\n",
    "# Calculate summary statistics for Population\n",
    "summary_stats <- treatment_states %>%\n",
    "  left_join(final, by = \"STATE\") %>%\n",
    "  summarise(\n",
    "    min_value = min(TotCPop_45to64_2012*1000, na.rm = TRUE),\n",
    "    max_value = max(TotCPop_45to64_2012*1000, na.rm = TRUE),\n",
    "    weighted_avg = weighted.mean(TotCPop_45to64_2012*1000, w = TotCPop_45to64_2012*1000, na.rm = TRUE),\n",
    "    stdev_value = sd(TotCPop_45to64_2012*1000, na.rm = TRUE),\n",
    "    count = n_distinct(STATE),\n",
    "  )\n",
    "\n",
    "# Print the summary statistics\n",
    "print(summary_stats)"
   ]
  },
  {
   "cell_type": "markdown",
   "metadata": {},
   "source": [
    "### White Population"
   ]
  },
  {
   "cell_type": "code",
   "execution_count": 83,
   "metadata": {},
   "outputs": [
    {
     "name": "stdout",
     "output_type": "stream",
     "text": [
      "  min_value max_value weighted_avg stdev_value count\n",
      "1    392000  13144000      7069670     3540172     9\n"
     ]
    }
   ],
   "source": [
    "#Looking at Population White\n",
    "# Filter final dataframe for Treatment states and select unique states\n",
    "treatment_states <- final %>%\n",
    "  filter(Treatment == 1) %>%\n",
    "  distinct(STATE)\n",
    "\n",
    "# Calculate summary statistics for Population\n",
    "summary_stats <- treatment_states %>%\n",
    "  left_join(final, by = \"STATE\") %>%\n",
    "  summarise(\n",
    "    min_value = min(TotCPop_Whitealoneorincombination_2012*1000, na.rm = TRUE),\n",
    "    max_value = max(TotCPop_Whitealoneorincombination_2012*1000, na.rm = TRUE),\n",
    "    weighted_avg = weighted.mean(TotCPop_Whitealoneorincombination_2012*1000, w = TotCPop_Whitealoneorincombination_2012*1000, na.rm = TRUE),\n",
    "    stdev_value = sd(TotCPop_Whitealoneorincombination_2012*1000, na.rm = TRUE),\n",
    "    count = n_distinct(STATE),\n",
    "  )\n",
    "\n",
    "# Print the summary statistics\n",
    "print(summary_stats)"
   ]
  },
  {
   "cell_type": "code",
   "execution_count": 84,
   "metadata": {},
   "outputs": [
    {
     "name": "stdout",
     "output_type": "stream",
     "text": [
      "  min_value max_value weighted_avg stdev_value count\n",
      "1    545000  18241000     12109027     5590102     6\n"
     ]
    }
   ],
   "source": [
    "#Looking at Population White\n",
    "# Filter final dataframe for Treatment states and select unique states\n",
    "treatment_states <- final %>%\n",
    "  filter(Semi_treatment == 1) %>%\n",
    "  distinct(STATE)\n",
    "\n",
    "# Calculate summary statistics for Population\n",
    "summary_stats <- treatment_states %>%\n",
    "  left_join(final, by = \"STATE\") %>%\n",
    "  summarise(\n",
    "    min_value = min(TotCPop_Whitealoneorincombination_2012*1000, na.rm = TRUE),\n",
    "    max_value = max(TotCPop_Whitealoneorincombination_2012*1000, na.rm = TRUE),\n",
    "    weighted_avg = weighted.mean(TotCPop_Whitealoneorincombination_2012*1000, w = TotCPop_Whitealoneorincombination_2012*1000, na.rm = TRUE),\n",
    "    stdev_value = sd(TotCPop_Whitealoneorincombination_2012*1000, na.rm = TRUE),\n",
    "    count = n_distinct(STATE),\n",
    "  )\n",
    "\n",
    "# Print the summary statistics\n",
    "print(summary_stats)"
   ]
  },
  {
   "cell_type": "code",
   "execution_count": 85,
   "metadata": {},
   "outputs": [
    {
     "name": "stdout",
     "output_type": "stream",
     "text": [
      "  min_value max_value weighted_avg stdev_value count\n",
      "1    214000   8327000      4179965     2044783    36\n"
     ]
    }
   ],
   "source": [
    "#Looking at Population White\n",
    "# Filter final dataframe for Treatment states and select unique states\n",
    "treatment_states <- final %>%\n",
    "  filter(Semi_treatment==0 & Treatment == 0) %>%\n",
    "  distinct(STATE)\n",
    "\n",
    "# Calculate summary statistics for Population\n",
    "summary_stats <- treatment_states %>%\n",
    "  left_join(final, by = \"STATE\") %>%\n",
    "  summarise(\n",
    "    min_value = min(TotCPop_Whitealoneorincombination_2012*1000, na.rm = TRUE),\n",
    "    max_value = max(TotCPop_Whitealoneorincombination_2012*1000, na.rm = TRUE),\n",
    "    weighted_avg = weighted.mean(TotCPop_Whitealoneorincombination_2012*1000, w = TotCPop_Whitealoneorincombination_2012*1000, na.rm = TRUE),\n",
    "    stdev_value = sd(TotCPop_Whitealoneorincombination_2012*1000, na.rm = TRUE),\n",
    "    count = n_distinct(STATE),\n",
    "  )\n",
    "\n",
    "# Print the summary statistics\n",
    "print(summary_stats)"
   ]
  }
 ],
 "metadata": {
  "kernelspec": {
   "display_name": "R",
   "language": "R",
   "name": "ir"
  },
  "language_info": {
   "codemirror_mode": "r",
   "file_extension": ".r",
   "mimetype": "text/x-r-source",
   "name": "R",
   "pygments_lexer": "r",
   "version": "4.2.3"
  }
 },
 "nbformat": 4,
 "nbformat_minor": 4
}
